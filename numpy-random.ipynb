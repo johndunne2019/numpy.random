{
 "cells": [
  {
   "cell_type": "markdown",
   "metadata": {},
   "source": [
    "# The numpy.random package"
   ]
  },
  {
   "cell_type": "markdown",
   "metadata": {},
   "source": [
    "## Assignment submission - Programming for Data Analysis 2019"
   ]
  },
  {
   "cell_type": "markdown",
   "metadata": {},
   "source": [
    "### Author John Dunne G00273895"
   ]
  },
  {
   "cell_type": "markdown",
   "metadata": {},
   "source": [
    "In this jupyter notebook I have used both markdown and code cells. To switch between the 2 modes I pressed ESC key and then M for markdown and Y for writing code. "
   ]
  },
  {
   "cell_type": "markdown",
   "metadata": {},
   "source": [
    "## What is NumPy?\n",
    "**Before looking at numpy.random which is the main focus of this assignment I want to look at the NumPy package and give a general overview of some of the functions and features of the package.**\n",
    "\n",
    "The official NumPy documentation: https://numpy.org/ the quickstart tutorial https://numpy.org/devdocs/user/quickstart.html and what is NumPy: https://docs.scipy.org/doc/numpy-1.13.0/user/whatisnumpy.html\n",
    "\n",
    "The user can interact either directly with the NumPY package or more commonly through the use of another package such as pandas or SciPy. \n",
    "\n",
    "The main purpose a user would use NumPy is to deal with multidimensional arrays. An array is a table of elements that contains data all of the same type, usually numbers. An example array would look like [1,2,3,4]. A multidimensional array is effectively lists within lists.\n",
    "\n",
    "The array class in NumPy is known as ndarray or numpy.array and within this class there are many functions that can be used to manipulate datas within arrays. \n",
    "\n",
    "**Some features of the numpy.array class are:**\n",
    "\n",
    "* ndarray.ndim - returns the number of axes in an array\n",
    "* ndarray.shape - returns the dimensions of the array, for example the number of rows and columns\n",
    "* ndarray.size - the total number of elements in the array\n",
    "* ndarray.dtype - returns the data type of the elements in the array\n",
    "\n",
    "**I have also looked at the below features of NumPy:**\n",
    "\n",
    "* numpy.arange - used to return the array of numbers for a given parameter\n",
    "* numpy.reshape - can be used to re shape an array\n",
    "* numpy.linspace - used to generate a range of random numbers between given parameters \n",
    "\n",
    "**I have shown some basic examples below of how NumPy can be usd to generate arrays and work with arrays:**"
   ]
  },
  {
   "cell_type": "code",
   "execution_count": 4,
   "metadata": {},
   "outputs": [
    {
     "data": {
      "text/plain": [
       "array([5, 6, 8, 9])"
      ]
     },
     "execution_count": 4,
     "metadata": {},
     "output_type": "execute_result"
    }
   ],
   "source": [
    "import numpy as np\n",
    "# imported numpy as given the shortened name np\n",
    "b = np.array([5, 6, 8, 9])\n",
    "# numpy.array is used to generate an array of numbers \n",
    "b\n",
    "# called the value b which is shown in output below:"
   ]
  },
  {
   "cell_type": "code",
   "execution_count": 5,
   "metadata": {},
   "outputs": [
    {
     "data": {
      "text/plain": [
       "1"
      ]
     },
     "execution_count": 5,
     "metadata": {},
     "output_type": "execute_result"
    }
   ],
   "source": [
    "# ndarray.ndim - returns the number of axes in an array\n",
    "b.ndim\n",
    "# the ndarray.ndim function within numpy is called on the array that I have set above\n",
    "# The result in this case is that there is only one axes of data"
   ]
  },
  {
   "cell_type": "code",
   "execution_count": 6,
   "metadata": {},
   "outputs": [
    {
     "data": {
      "text/plain": [
       "(4,)"
      ]
     },
     "execution_count": 6,
     "metadata": {},
     "output_type": "execute_result"
    }
   ],
   "source": [
    "# ndarray.shape - returns the dimensions of the array, for example the number of rows and columns\n",
    "b.shape\n",
    "# the ndarray.shape function is called on the array that I have set above\n",
    "# In this case the result is 4 only.\n",
    "# The reshape function can be used to reshape the data and I will show a example further down this notebook"
   ]
  },
  {
   "cell_type": "code",
   "execution_count": 7,
   "metadata": {},
   "outputs": [
    {
     "data": {
      "text/plain": [
       "4"
      ]
     },
     "execution_count": 7,
     "metadata": {},
     "output_type": "execute_result"
    }
   ],
   "source": [
    "# ndarray.size - the total number of elements in the array\n",
    "b.size\n",
    "# I have called the ndarray.size function on the array that I have set equal to b\n",
    "# In this case there are 4 elements within the array"
   ]
  },
  {
   "cell_type": "code",
   "execution_count": 8,
   "metadata": {},
   "outputs": [
    {
     "data": {
      "text/plain": [
       "dtype('int32')"
      ]
     },
     "execution_count": 8,
     "metadata": {},
     "output_type": "execute_result"
    }
   ],
   "source": [
    "# ndarray.dtype - returns the data type of the elements in the array\n",
    "b.dtype\n",
    "# I have called the ndarray.dtype function\n",
    "# The result here is the data types in this array are integers represented in 32 bit format"
   ]
  },
  {
   "cell_type": "code",
   "execution_count": 9,
   "metadata": {},
   "outputs": [
    {
     "data": {
      "text/plain": [
       "array([2.        , 2.30769231, 2.61538462, 2.92307692, 3.23076923,\n",
       "       3.53846154, 3.84615385, 4.15384615, 4.46153846, 4.76923077,\n",
       "       5.07692308, 5.38461538, 5.69230769, 6.        ])"
      ]
     },
     "execution_count": 9,
     "metadata": {},
     "output_type": "execute_result"
    }
   ],
   "source": [
    "# I viewed a tutorial video here: https://www.youtube.com/watch?v=xECXZ3tyONo\n",
    "# numpy.linspace is used to generate a range with a defined number of elements \n",
    "c = np.linspace(2, 6, 14)\n",
    "c\n",
    "# In this case a range is created with a staring point 2, end point 6 and the range will contain 14 elements "
   ]
  },
  {
   "cell_type": "markdown",
   "metadata": {},
   "source": [
    "**Below I have taken a look at numpy.arange which can be used to generate the array of numbers from a given parameter and the numpy.reshape function which is used to change the shape of an array**"
   ]
  },
  {
   "cell_type": "code",
   "execution_count": 10,
   "metadata": {},
   "outputs": [
    {
     "data": {
      "text/plain": [
       "array([0, 1, 2, 3, 4, 5])"
      ]
     },
     "execution_count": 10,
     "metadata": {},
     "output_type": "execute_result"
    }
   ],
   "source": [
    "import numpy as np\n",
    "a =np.arange(6)\n",
    "a\n",
    "# the numpy.arange function will generate a range of numbers for the given parameter, in this case I have chosen 6\n",
    "# This saves the user from typing out the array themselves"
   ]
  },
  {
   "cell_type": "code",
   "execution_count": 11,
   "metadata": {},
   "outputs": [
    {
     "data": {
      "text/plain": [
       "array([[0, 1, 2],\n",
       "       [3, 4, 5]])"
      ]
     },
     "execution_count": 11,
     "metadata": {},
     "output_type": "execute_result"
    }
   ],
   "source": [
    "# The numpy.reshape function changes the shape of the array using the given parameters\n",
    "a = np.arange(6).reshape(2, 3)\n",
    "a\n",
    "# You can see below in the output that the array is now returned as 2 separate arrays containing 3 elements each"
   ]
  },
  {
   "cell_type": "code",
   "execution_count": 12,
   "metadata": {},
   "outputs": [
    {
     "data": {
      "text/plain": [
       "(2, 3)"
      ]
     },
     "execution_count": 12,
     "metadata": {},
     "output_type": "execute_result"
    }
   ],
   "source": [
    "# I have called the numpy.shape function again to show the difference to my previous example\n",
    "# The output now shows 2 arrays with 3 elements in each\n",
    "a.shape"
   ]
  },
  {
   "cell_type": "markdown",
   "metadata": {},
   "source": [
    "## Section 1 - What is numpy.random and what is the overall purpose of the package?\n",
    "\n",
    "**The official documentation of numpy.random is here: https://docs.scipy.org/doc/numpy-1.16.0/reference/routines.random.html where you can read about all the different functions of numpy.random that are available to be used in data analysis.**\n",
    "\n",
    "numpy.random is a sub package of the NumPy package within the Python library that has many functions within it that can be used to generate random data.\n",
    "As we discovered in the lectures computers do not have the ability to generate random numbers on their own and so we can use packages such as numpy.random to do this. Through completing this assignment I will try to give an overview of some of the different functions of numpy.random \n",
    "\n",
    "The overall purpose of the package is to generate random data. Within the numpy.random package there are many functions. The full list of functions from the official numpy.random documentation page: https://docs.scipy.org/doc/numpy-1.16.0/reference/routines.random.html#simple-random-data\n",
    "\n",
    "**Within the numpy.random package there are 4 different sections:**\n",
    "\n",
    "* Simple Random Data\n",
    "* Permutations\n",
    "* Distributions\n",
    "* Random Generator"
   ]
  },
  {
   "cell_type": "markdown",
   "metadata": {},
   "source": [
    "## Section 2 - \"Simple Random Data\" and \"Permutations\"\n",
    "\n",
    "#### Simple Random Data\n",
    "Simple Random Data is essentially used to generate random data. There are different distributions that affect the way in which random data is generated, these include uniform distribution, standard normal distribution and continuous uniform distribution. Within the Simple random data there are a number of different functions that can be used to generate data and each one generates data in its own way. The user can use the function which best serves them, I will go through some of these now giving exmaples. \n",
    "\n",
    "**Below is a full list of the functions within Simple Random Data taken from: https://docs.scipy.org/doc/numpy-1.16.0/reference/routines.random.html#simple-random-data:**\n",
    "\n",
    "* **rand(d0, d1, …, dn)**\tRandom values in a given shape.\n",
    "* **randn(d0, d1, …, dn)**\tReturn a sample (or samples) from the “standard normal” distribution.\n",
    "* **randint(low[, high, size, dtype])**\tReturn random integers from low (inclusive) to high (exclusive).\n",
    "* **random_integers(low[, high, size])**\tRandom integers of type np.int between low and high, inclusive.\n",
    "* **random_sample([size])**\tReturn random floats in the half-open interval [0.0, 1.0).\n",
    "* **random([size])**\tReturn random floats in the half-open interval [0.0, 1.0).\n",
    "* **ranf([size])**\tReturn random floats in the half-open interval [0.0, 1.0).\n",
    "* **sample([size])**\tReturn random floats in the half-open interval [0.0, 1.0).\n",
    "* **choice(a[, size, replace, p])**\tGenerates a random sample from a given 1-D array\n",
    "* **bytes(length)**\tReturn random bytes.\n",
    "\n",
    "Now I am going to show examples of how some of the functions within Random Simple Data can be used to generate random data. I will also use matplotlib.pyplot to plot the random numbers generated. This will be used to give a clearer picture of the distribution or shape of the random numbers that have been generated."
   ]
  },
  {
   "cell_type": "markdown",
   "metadata": {},
   "source": [
    "### numpy.random.rand\n",
    "The numpy.random.rand function is used to generate random values in a shape that is specified by the user. The rand function generates random numbers from zero up to but not including one which in mathematical terms is: [0, 1).\n",
    "The rand function generates random samples from a unifrom distribution. A uniform distribution is one that has constant probability also known as a rectangular distribution. More information on uniform distribution: http://mathworld.wolfram.com/UniformDistribution.html. In simple terms, in a uniform distribution all values are equally likely to appear. \n",
    "\n",
    "**This is the link to the numpy.random.rand documentation: https://docs.scipy.org/doc/numpy-1.16.0/reference/generated/numpy.random.rand.html#numpy.random.rand**\n"
   ]
  },
  {
   "cell_type": "markdown",
   "metadata": {},
   "source": [
    "**I will use numpy.random.rand to generate some random floating point numbers**"
   ]
  },
  {
   "cell_type": "code",
   "execution_count": 5,
   "metadata": {},
   "outputs": [
    {
     "name": "stdout",
     "output_type": "stream",
     "text": [
      "0.6496039085603473\n",
      "[[0.29954167 0.62271219 0.97593863 0.61440286]\n",
      " [0.3489138  0.07944923 0.98694188 0.49668965]]\n"
     ]
    }
   ],
   "source": [
    "import numpy as np\n",
    "# numpy imported and given shortened name\n",
    "a = np.random.rand()\n",
    "# numpy.random.rand function is ued to generate a random number.\n",
    "# Here I have not specified a shape and so only one random number is generated\n",
    "b = np.random.rand(2, 4)\n",
    "# Here I have entered parameters for the shape of the random array of numbers to be generated\n",
    "# In this case I have asked for an array containing 2 rows and 4 columns to be generatedb\n",
    "print(a)\n",
    "print(b)\n",
    "# I have to use a print statment to call both a and b values to be shown as output"
   ]
  },
  {
   "cell_type": "markdown",
   "metadata": {},
   "source": [
    "**I will use matplotlib.pyplot to plot the randomly generated floats**"
   ]
  },
  {
   "cell_type": "code",
   "execution_count": 6,
   "metadata": {},
   "outputs": [
    {
     "data": {
      "image/png": "[encoded data removed]",
      "text/plain": [
       "<Figure size 432x288 with 1 Axes>"
      ]
     },
     "metadata": {
      "needs_background": "light"
     },
     "output_type": "display_data"
    }
   ],
   "source": [
    "# Plotting a 2D array using matplotlib.pyplot\n",
    "import matplotlib.pyplot as plt\n",
    "plt.plot(b)\n",
    "# plot function in matplotlib.pyplot used to generate a plot of the random floats generated above\n",
    "plt.title(\"Plot of the random floats generated by numpy.random.rand\")\n",
    "# plt.title is used to give the plot a title\n",
    "plt.show()\n",
    "# plt.show command used to call the plot to be displayed on the screen\n",
    "# In this case because I gave 2 arguments in numpy.random.rand 2 arrays were created and this is treated as 2D array\n",
    "# Hence the points are plotted below as the first point in the first array against the first point in the second array and so on"
   ]
  },
  {
   "cell_type": "markdown",
   "metadata": {},
   "source": [
    "matplotblib.pylplot.show(): https://matplotlib.org/3.1.1/api/_as_gen/matplotlib.pyplot.show.html#matplotlib.pyplot.show\n",
    "\n",
    "matplotlib.pyplot.plot(): https://matplotlib.org/3.1.1/api/_as_gen/matplotlib.pyplot.plot.html#matplotlib.pyplot.plot\n",
    "\n",
    "matplotlib.pyplot.title(): https://matplotlib.org/3.1.1/api/_as_gen/matplotlib.pyplot.title.html#matplotlib.pyplot.title"
   ]
  },
  {
   "cell_type": "code",
   "execution_count": 18,
   "metadata": {},
   "outputs": [
    {
     "name": "stdout",
     "output_type": "stream",
     "text": [
      "[0.45698258 0.74119677 0.87712743 0.18166274 0.59778858]\n",
      "The 5 randonmly generated floats are printed on the y axis at points 0,1,2,3,4 on the x axis\n"
     ]
    },
    {
     "data": {
      "image/png": "[encoded data removed]",
      "text/plain": [
       "<Figure size 432x288 with 1 Axes>"
      ]
     },
     "metadata": {
      "needs_background": "light"
     },
     "output_type": "display_data"
    }
   ],
   "source": [
    "# Generating an array using just one argument in numpy.random.rand and plotting the result\n",
    "x = np.random.rand(5)\n",
    "# I have asked for numpy.random.rand to generate 5 random floats\n",
    "print(x)\n",
    "print(\"The 5 randonmly generated floats are printed on the y axis at points 0,1,2,3,4 on the x axis\")\n",
    "# I have asked for the 5 randomly generated points to be printed to the screen\n",
    "plt.plot(x)\n",
    "# matplotlib.pyplot.plot used to plot the 5 randomly generated points\n",
    "plt.title(\"The 5 random floats generated by numpy.random.rand are plotted below\")\n",
    "# pyplot.title used to give the plot a title\n",
    "plt.ylabel(\"The floats generated by rand function\")\n",
    "plt.xlabel(\"pyplot by default plots the 5 points in the rand 0:4\")\n",
    "# pyplot.ylabel and pyplot.xlabel used to give names to the y and x label\n",
    "plt.show()\n",
    "# pyplot.show() used to display the plot to the screen"
   ]
  },
  {
   "cell_type": "markdown",
   "metadata": {},
   "source": [
    "matplotlib.pyplot.xlabel: https://matplotlib.org/3.1.1/api/_as_gen/matplotlib.pyplot.xlabel.html#matplotlib.pyplot.xlabel\n",
    "\n",
    "matplotlib.pyplot.ylabel: https://matplotlib.org/3.1.1/api/_as_gen/matplotlib.pyplot.ylabel.html#matplotlib.pyplot.ylabel\n"
   ]
  },
  {
   "cell_type": "code",
   "execution_count": 14,
   "metadata": {},
   "outputs": [
    {
     "data": {
      "text/plain": [
       "array([0.53147346, 0.02669199, 0.18890485, ..., 0.57235817, 0.62739893,\n",
       "       0.20812791])"
      ]
     },
     "execution_count": 14,
     "metadata": {},
     "output_type": "execute_result"
    }
   ],
   "source": [
    "c = np.random.rand(1200)\n",
    "# I have asked numpy.random.rand to generate 1200 random numbers\n",
    "c"
   ]
  },
  {
   "cell_type": "markdown",
   "metadata": {},
   "source": [
    "numpy.random.rand function as in the lecture video on the rand function: https://web.microsoftstream.com/video/d44d42fa-5b1a-4152-9d41-8129a3816001"
   ]
  },
  {
   "cell_type": "code",
   "execution_count": 15,
   "metadata": {},
   "outputs": [
    {
     "name": "stderr",
     "output_type": "stream",
     "text": [
      "UsageError: Line magic function `%matplotlib.inline` not found.\n"
     ]
    },
    {
     "data": {
      "image/png": "[encoded data removed]",
      "text/plain": [
       "<Figure size 432x288 with 1 Axes>"
      ]
     },
     "metadata": {
      "needs_background": "light"
     },
     "output_type": "display_data"
    }
   ],
   "source": [
    "import matplotlib.pyplot as plt\n",
    "# The matplotlib.pyplot package is imported and given a shortened name\n",
    "plt.hist(c)\n",
    "# pyplot.hist called to generate a histogram of the random numbers that were generated\n",
    "%matplotlib.inline\n",
    "# The plot didnt display when plt.show() was called so I had to use this argument "
   ]
  },
  {
   "cell_type": "markdown",
   "metadata": {},
   "source": [
    "The above histogram shows thats the random numbers generated by the numpy.random.rand function are of a fairly even distribution between 0.0 and 1.0 proving it to be a uniform distribution. \n",
    "\n",
    "I created the above example working off the lecture video on the the rand function: https://web.microsoftstream.com/video/d44d42fa-5b1a-4152-9d41-8129a3816001\n",
    "\n",
    "matplotlib.pyplot.hist(): https://matplotlib.org/3.1.1/api/_as_gen/matplotlib.pyplot.hist.html#matplotlib.pyplot.hist"
   ]
  },
  {
   "cell_type": "markdown",
   "metadata": {},
   "source": [
    "### numpy.random.randn\n",
    "The randn function returns a sample from the standard or normal distribution which has a mean of 0 and a standard deviation of 1. In a normal distribution most values remain around the mean making it symmetrical in appearance. More information on normal distribution here: https://www.tutorialspoint.com/python_data_science/python_normal_distribution.htm\n",
    "\n",
    "**This is the link to the numpy.random.randn documentation: https://docs.scipy.org/doc/numpy-1.16.0/reference/generated/numpy.random.randn.html#numpy.random.randn**"
   ]
  },
  {
   "cell_type": "code",
   "execution_count": 11,
   "metadata": {},
   "outputs": [
    {
     "name": "stdout",
     "output_type": "stream",
     "text": [
      "The first parameter decides how many rows of data to be generated:\n",
      "[0.46020171 0.70971097]\n",
      "The second paramtere decides how many columns of data to be generated:\n",
      "[[ 0.41237692 -1.34251689]\n",
      " [-0.5763831   0.59190487]]\n",
      "The third parameter decides how many arrays will be created:\n",
      "[[[-0.29177819  2.43040507]\n",
      "  [ 1.55929541  1.50894997]\n",
      "  [-0.4224175   0.22840167]\n",
      "  [-0.08583309 -0.09327872]]\n",
      "\n",
      " [[-0.13575828  1.3415797 ]\n",
      "  [ 1.12428893 -0.56179035]\n",
      "  [-0.73679353 -0.02873801]\n",
      "  [-0.47720441 -0.53489374]]]\n"
     ]
    }
   ],
   "source": [
    "randn = np.random.randn(2)\n",
    "# randn is used to generate an array with 2 rows of data\n",
    "print(\"The first parameter decides how many rows of data to be generated:\")\n",
    "print(randn)\n",
    "randn2 = np.random.randn(2, 2)\n",
    "# randn generated an array with 2 rows and 2 columns\n",
    "print(\"The second paramtere decides how many columns of data to be generated:\")\n",
    "print(randn2)\n",
    "randn3 = np.random.randn(2, 4, 2)\n",
    "print(\"The third parameter decides how many arrays will be created:\")\n",
    "print(randn3)"
   ]
  },
  {
   "cell_type": "code",
   "execution_count": 12,
   "metadata": {},
   "outputs": [
    {
     "data": {
      "image/png": "[encoded data removed]",
      "text/plain": [
       "<Figure size 432x288 with 1 Axes>"
      ]
     },
     "metadata": {
      "needs_background": "light"
     },
     "output_type": "display_data"
    }
   ],
   "source": [
    "x = np.random.randn(2300)\n",
    "# I have generated an array with 2,300 values using randn\n",
    "plt.hist(x)\n",
    "plt.show()\n",
    "# I have used matplotlib.pyplot to create a histogram of the array generated by randn\n",
    "# Notice the way there is a cluster of values around the center of the histogram\n",
    "# We can see now visually randn has returned random values with mean 0 and std deviation of 1 "
   ]
  },
  {
   "cell_type": "markdown",
   "metadata": {},
   "source": [
    "### numpy.random.bytes\n",
    "This returns random bytes, it takes only one argument which is the number of bytes the user wants returned. \n",
    "\n",
    "This is the link to the official documentation: https://docs.scipy.org/doc/numpy-1.16.0/reference/generated/numpy.random.bytes.html#numpy.random.bytes"
   ]
  },
  {
   "cell_type": "code",
   "execution_count": 18,
   "metadata": {},
   "outputs": [
    {
     "data": {
      "text/plain": [
       "b'\\x85\\x14{\\x9f\\xd0\\xdeuY\\x18\\x8c\\x02\\x17'"
      ]
     },
     "execution_count": 18,
     "metadata": {},
     "output_type": "execute_result"
    }
   ],
   "source": [
    "np.random.bytes(12)\n",
    "# I have asked for 12 bytes to be returned"
   ]
  },
  {
   "cell_type": "markdown",
   "metadata": {},
   "source": [
    "### numpy.random.random_sample\n",
    "Returns random floating point numbers in the half-open interval [0.0, 1.0). The random floating point numbers are drawn from the continuous unform distribution where each value is equally likely to appear.\n",
    "\n",
    "This is the link to the official documentation: https://docs.scipy.org/doc/numpy-1.16.0/reference/generated/numpy.random.random_sample.html#numpy.random.random_sample"
   ]
  },
  {
   "cell_type": "code",
   "execution_count": 8,
   "metadata": {},
   "outputs": [
    {
     "name": "stdout",
     "output_type": "stream",
     "text": [
      "Result when no argument is entered:\n",
      "0.8048678967854103\n",
      "Result when the user enters an argument:\n",
      "[0.85543907 0.95031987 0.23674542 0.96356532 0.98651214 0.52625849\n",
      " 0.50572413 0.74578162 0.4718519  0.67702251 0.96233733 0.75518563\n",
      " 0.70873393 0.28712164 0.26477864 0.66093719 0.81567377 0.6245775\n",
      " 0.78250096 0.04980342 0.99294723 0.07981358 0.68144529]\n"
     ]
    }
   ],
   "source": [
    "random_sample = np.random.random_sample()\n",
    "# When no argument is entered one random floating point number is returned \n",
    "random_sample1 = np.random.random_sample(23)\n",
    "# When an argument is entered that number of floating point numbers are returned \n",
    "print(\"Result when no argument is entered:\")\n",
    "print(random_sample)\n",
    "print(\"Result when the user enters an argument:\")\n",
    "print(random_sample1)"
   ]
  },
  {
   "cell_type": "markdown",
   "metadata": {},
   "source": [
    "Distributions - https://web.microsoftstream.com/video/e6f57177-0a17-45a5-8ca8-0e3191e887f8"
   ]
  },
  {
   "cell_type": "code",
   "execution_count": 6,
   "metadata": {},
   "outputs": [
    {
     "data": {
      "text/plain": [
       "array([4.52412914, 2.57583807, 3.14283432, 4.80707475, 4.23492622,\n",
       "       2.41850591, 4.63567391, 3.58698291, 4.85536515, 2.07164859])"
      ]
     },
     "execution_count": 6,
     "metadata": {},
     "output_type": "execute_result"
    }
   ],
   "source": [
    "import numpy as np\n",
    "np.random.uniform(2,5,10)"
   ]
  },
  {
   "cell_type": "markdown",
   "metadata": {},
   "source": [
    "numpy.random.uniform documentation: https://docs.scipy.org/doc/numpy-1.14.0/reference/generated/numpy.random.uniform.html\n",
    "There are 3 parameters in numpy.random.uniform - low, high and size"
   ]
  },
  {
   "cell_type": "code",
   "execution_count": 7,
   "metadata": {},
   "outputs": [],
   "source": [
    "x = np.random.uniform(0, 1000, 10000)"
   ]
  },
  {
   "cell_type": "code",
   "execution_count": 12,
   "metadata": {},
   "outputs": [
    {
     "name": "stderr",
     "output_type": "stream",
     "text": [
      "UsageError: Line magic function `%matplotlib.inline` not found.\n"
     ]
    },
    {
     "data": {
      "image/png": "[encoded data removed]",
      "text/plain": [
       "<Figure size 432x288 with 1 Axes>"
      ]
     },
     "metadata": {
      "needs_background": "light"
     },
     "output_type": "display_data"
    }
   ],
   "source": [
    "import matplotlib.pyplot as plt\n",
    "plt.hist(x)\n",
    "%matplotlib.inline"
   ]
  },
  {
   "cell_type": "markdown",
   "metadata": {},
   "source": [
    "Example taken from the lecture video on distributions: https://web.microsoftstream.com/video/e6f57177-0a17-45a5-8ca8-0e3191e887f8"
   ]
  },
  {
   "cell_type": "code",
   "execution_count": 15,
   "metadata": {},
   "outputs": [
    {
     "data": {
      "text/plain": [
       "array([ 2.16005349e-01,  2.28590964e-02,  1.17851300e-01,  2.51537290e-01,\n",
       "       -1.39949309e-01, -1.64934289e-01,  2.09615009e-01,  4.81215236e-02,\n",
       "       -6.43707782e-02,  1.20527197e-02,  1.06827306e-02, -1.48299317e-01,\n",
       "       -6.98956254e-02,  8.15354337e-03, -8.86318556e-03,  4.93894266e-03,\n",
       "        4.76031271e-02, -2.37233409e-02, -3.62278939e-02,  6.66687169e-03,\n",
       "       -1.60088002e-01, -8.42631153e-02,  3.81197319e-02,  6.65762332e-02,\n",
       "        3.25468922e-02,  9.90100623e-02,  1.54033410e-02, -1.56103365e-01,\n",
       "       -2.44503650e-01, -6.19491168e-02, -4.02519023e-03,  1.51819550e-01,\n",
       "       -1.30121206e-01,  3.07087700e-02, -1.59023540e-01, -3.15695234e-02,\n",
       "       -2.15504049e-02, -9.83419742e-02,  2.50340731e-02,  1.42040477e-01,\n",
       "       -2.52236267e-02,  4.12019897e-02, -3.91390268e-02, -1.67862993e-01,\n",
       "       -2.65906971e-02,  1.93536399e-01, -1.81922165e-01,  9.99367246e-02,\n",
       "        1.01889382e-02,  2.37877664e-02,  9.18710013e-02,  7.05336645e-02,\n",
       "       -5.67099663e-02, -1.95026580e-02,  1.43064160e-02,  5.74441748e-02,\n",
       "        5.74208881e-02,  5.82176953e-02,  4.31103944e-02,  6.08434842e-02,\n",
       "       -3.22630564e-02,  1.28318063e-01,  5.37572444e-02,  6.95353499e-02,\n",
       "       -1.20891581e-01, -4.72626639e-02, -7.53074448e-02, -8.15222833e-02,\n",
       "        2.61414148e-01,  1.44912938e-01,  3.24849065e-02, -8.32780819e-02,\n",
       "        5.06326935e-02,  6.22429566e-02, -1.39319771e-02,  4.42636635e-02,\n",
       "       -8.03381703e-02, -2.15873609e-01, -2.53976514e-02, -1.48682131e-01,\n",
       "        2.10361102e-01,  1.35724008e-01,  6.43411340e-02,  5.58979518e-02,\n",
       "       -1.37229048e-01,  1.30620987e-01,  8.43729255e-02,  4.42972891e-02,\n",
       "        1.25417557e-01, -1.43486819e-01,  6.47205405e-02,  7.55699719e-02,\n",
       "       -1.87086663e-02,  1.09282210e-01,  1.49722470e-01,  3.80300534e-02,\n",
       "        7.25740839e-02, -1.12427020e-01,  7.42588976e-02,  1.92342096e-01,\n",
       "       -5.51836472e-02,  7.59752575e-02, -1.62989555e-01,  1.63987509e-02,\n",
       "       -1.63616753e-01, -1.34410831e-01,  6.64866591e-02,  5.47393169e-02,\n",
       "       -8.76981108e-02,  5.06011022e-02, -8.03900256e-02,  1.15676703e-01,\n",
       "       -1.18367857e-02,  5.12282597e-03, -1.11506756e-01,  4.21672966e-02,\n",
       "       -3.00957880e-02,  1.44286236e-01,  1.11021303e-01,  1.52691711e-02,\n",
       "       -8.39135343e-02, -1.50630680e-01,  4.84482842e-02,  1.40826296e-01,\n",
       "        1.97743184e-01, -7.89745822e-02,  1.36861838e-01,  4.61360423e-02,\n",
       "       -2.58106833e-02,  4.53089110e-03, -4.18918244e-02, -3.74284563e-02,\n",
       "        1.47816188e-01,  4.60061961e-02,  2.02749430e-02,  1.26801451e-01,\n",
       "        1.45838766e-01,  7.61111181e-03, -1.10709540e-01,  9.25213608e-02,\n",
       "       -6.56253460e-02,  4.52494011e-02,  4.74638402e-02, -4.66914478e-02,\n",
       "        2.40939986e-02,  1.93722897e-02,  2.52097561e-01, -4.50161623e-02,\n",
       "        4.80176634e-02,  1.11846709e-01,  2.79838799e-02,  8.12472387e-02,\n",
       "        1.91864847e-01, -1.84206429e-01,  1.09674527e-02,  1.94878780e-02,\n",
       "       -2.63254672e-02,  6.46680503e-02,  8.39669536e-02,  5.17790760e-02,\n",
       "       -5.77089432e-02,  1.77002260e-01, -1.31442196e-01, -2.23414909e-02,\n",
       "        3.97408096e-02, -1.38271059e-01, -1.01732893e-02, -1.12266994e-01,\n",
       "       -1.51516778e-01, -1.25775879e-03, -9.06458937e-02, -1.59524763e-01,\n",
       "        1.03624139e-01,  6.85138173e-03,  1.95220946e-01,  3.81514351e-02,\n",
       "        5.32179572e-02,  1.01858057e-02,  1.68782758e-02, -5.32920381e-02,\n",
       "       -7.48781090e-02,  5.69568825e-03, -6.14614882e-02,  5.13278939e-03,\n",
       "        2.15009863e-01, -3.42859590e-02, -3.48078294e-02,  1.51018033e-02,\n",
       "       -9.16870827e-02,  1.94660270e-01, -5.81586635e-02,  2.70599654e-02,\n",
       "        1.20934401e-02,  9.55172393e-02,  1.09714187e-01,  3.81270069e-03,\n",
       "       -2.42578832e-02, -9.64962868e-02, -5.72158063e-04,  3.57275357e-03,\n",
       "        7.45418682e-02,  7.82635322e-02,  2.36205898e-02,  1.37035392e-01,\n",
       "       -1.51117077e-01, -4.67816283e-02,  9.52500759e-02,  6.51864396e-02,\n",
       "       -5.66280145e-02,  7.76789363e-02, -8.09665495e-02, -3.19505695e-02,\n",
       "       -1.08830005e-01,  2.71109845e-02, -3.85723089e-02,  1.43473081e-01,\n",
       "       -1.13482732e-01, -1.04004515e-01,  9.43349413e-02,  8.21147584e-02,\n",
       "       -1.39982338e-01, -2.18033400e-01, -8.95050089e-02,  5.69360769e-02,\n",
       "        1.94760998e-01, -1.35847534e-01,  5.64967756e-02, -1.36298136e-01,\n",
       "        2.12424694e-01, -1.48209993e-01, -3.48793205e-02,  1.94846554e-02,\n",
       "       -4.94903946e-02, -2.26540137e-02, -1.25673374e-01, -5.08013279e-02,\n",
       "        4.75520171e-02, -7.34230121e-03, -1.14648218e-01, -8.11883935e-02,\n",
       "       -3.75903781e-02,  2.14027148e-01, -1.39395060e-01,  6.87756828e-02,\n",
       "       -3.22532427e-02,  1.37945942e-02, -1.14070057e-02,  5.20585986e-02,\n",
       "       -1.28616381e-01,  8.28248967e-03,  8.56621773e-02,  1.07858458e-01,\n",
       "        3.17478541e-02,  2.12047060e-01, -1.08075125e-01, -1.23660441e-01,\n",
       "       -9.27699800e-02,  2.78513339e-03, -1.31247723e-01, -1.41567767e-01,\n",
       "       -1.07222843e-01,  1.32294386e-01, -6.77008377e-02, -1.40651522e-01,\n",
       "        8.57286245e-02, -1.43784672e-01,  4.26750718e-03,  1.14566165e-01,\n",
       "       -1.02785716e-01, -3.29163763e-02,  1.22183527e-01, -2.87120123e-02,\n",
       "        4.63977019e-02, -7.41969979e-02, -1.03518286e-01, -1.15531182e-01,\n",
       "        1.38613218e-01, -1.63909706e-02,  9.61434183e-02, -7.56557328e-02,\n",
       "       -1.78754101e-01, -4.66398743e-02, -2.35451925e-01,  1.38556257e-02,\n",
       "        3.92267802e-02,  1.74063323e-01,  1.29829185e-01,  1.43794176e-01,\n",
       "       -6.62928797e-02, -1.31019756e-01,  1.27840095e-01,  2.27721050e-02,\n",
       "       -6.56673824e-02, -1.70325947e-01, -6.11807899e-02,  3.80808301e-02,\n",
       "       -2.05321200e-01,  1.17834923e-01, -1.51066189e-02,  1.11289221e-01,\n",
       "       -7.56541991e-03,  1.77492304e-01, -9.81873661e-02, -2.22588062e-02,\n",
       "       -4.55329088e-02, -1.55170415e-01,  1.10104542e-01,  6.36648339e-02,\n",
       "       -4.68489307e-02,  7.14580864e-02, -9.46400335e-02, -3.27043791e-02,\n",
       "        9.20537792e-02,  1.32288371e-02,  1.32867803e-02,  3.40687273e-02,\n",
       "       -1.39545473e-02,  4.42795081e-02, -1.53442906e-01, -1.47309373e-02,\n",
       "       -7.10196911e-02,  6.06699530e-02,  8.23723838e-02,  2.60353992e-02,\n",
       "       -8.78161144e-03,  3.63468452e-02, -1.41666423e-01, -9.84096616e-03,\n",
       "        2.02008682e-02, -7.76194558e-03,  2.03743872e-02, -1.08053299e-01,\n",
       "        1.67044781e-01,  7.15768857e-02,  1.63022985e-01, -1.12108125e-01,\n",
       "       -1.44530727e-01,  1.37855075e-02,  8.12876562e-02,  1.67510228e-01,\n",
       "        8.43487151e-02,  2.57122272e-02,  1.94496710e-02, -5.82402658e-02,\n",
       "       -7.68108053e-02,  5.51483177e-02,  7.84243086e-02,  1.21695172e-01,\n",
       "        1.49471917e-01, -1.44216472e-01,  8.29235131e-02,  2.71952459e-04,\n",
       "       -7.42180465e-02, -6.84410380e-02, -2.83166738e-02, -1.22776111e-01,\n",
       "       -3.81259288e-02,  2.91956464e-02,  1.53958225e-01, -6.90304952e-02,\n",
       "       -2.05352732e-01,  4.50911024e-02,  2.61223734e-01,  2.39915825e-01,\n",
       "        1.31947715e-01, -3.31875281e-02, -7.52262365e-02, -7.07904529e-02,\n",
       "        1.02560932e-01, -1.01445667e-01, -4.83285208e-02,  7.90188566e-02,\n",
       "        3.46043327e-02, -3.11195551e-02,  1.22851657e-01,  2.80583762e-02,\n",
       "       -2.06282760e-01, -5.57069507e-02, -5.85181224e-02, -6.80741285e-02,\n",
       "       -4.02010590e-01,  1.28289930e-01,  1.75654071e-02, -1.17973615e-01,\n",
       "        7.37529780e-02, -3.40014144e-02,  4.52119089e-02, -3.30142551e-02,\n",
       "       -1.85688654e-01, -1.38534336e-01,  7.61020209e-03,  1.07562948e-01,\n",
       "        9.15510189e-03, -2.56694697e-01, -2.02263121e-01, -1.84474384e-01,\n",
       "       -1.23230907e-01,  7.60353736e-02, -7.36574142e-02, -8.27319986e-02,\n",
       "       -1.85165224e-02,  1.18495045e-01,  7.71949072e-02, -2.55441041e-02,\n",
       "       -1.62118345e-01, -3.26868437e-02,  6.49744584e-02,  1.17350710e-02,\n",
       "       -3.09066765e-02, -3.26890024e-02, -7.55801128e-02,  9.38337329e-02,\n",
       "       -5.46031352e-02,  1.95299487e-01,  7.53478683e-02, -5.01996923e-02,\n",
       "       -1.89617703e-01,  8.17867859e-02, -3.87092618e-02,  3.86552472e-03,\n",
       "        5.25548482e-02,  2.08230691e-02, -3.40549140e-02, -5.07227292e-02,\n",
       "        9.70829051e-02,  4.10997633e-02,  1.67839793e-01, -1.32591770e-01,\n",
       "        6.20463814e-02, -1.50851645e-01,  2.21169841e-02, -8.81567070e-02,\n",
       "        5.47417362e-03,  1.52800235e-01, -9.18373381e-02, -8.43774254e-03,\n",
       "        3.16223893e-01,  1.82598041e-03, -1.30781401e-01,  2.68146306e-03,\n",
       "       -1.01931779e-01,  1.16613290e-01,  2.01986850e-02,  1.11837701e-01,\n",
       "        2.26220722e-01,  1.16851518e-01, -1.26972658e-01,  1.49545572e-01,\n",
       "        1.57276271e-02,  1.33806194e-01,  8.68543003e-02,  1.25036141e-01,\n",
       "       -4.44906243e-02,  8.48336801e-02,  4.63591062e-03,  2.41645687e-02,\n",
       "        2.90489102e-03,  7.78355553e-02,  1.84902141e-02, -8.43710599e-02,\n",
       "       -1.29538736e-01, -1.79517667e-01,  1.64956568e-01,  2.00897170e-01,\n",
       "        6.15909833e-02, -1.58876688e-01,  2.88087065e-02, -1.12739879e-01,\n",
       "        6.51472104e-02,  2.32218592e-02,  1.54680324e-01,  8.16943509e-02,\n",
       "       -7.61049462e-02,  1.06054640e-01,  8.69991329e-02, -6.71563186e-02,\n",
       "       -1.37391625e-01,  5.14043747e-03,  2.10945643e-01,  4.51067486e-02,\n",
       "       -8.70883639e-02,  4.81475452e-02,  1.42778159e-01, -5.39085860e-02,\n",
       "       -1.61702940e-02, -2.60963624e-02, -6.86175036e-02, -1.46960758e-02,\n",
       "       -5.78142560e-03,  6.12149105e-02, -2.28756765e-01, -4.78962582e-02,\n",
       "        3.24501649e-02, -3.51615526e-02,  1.77706894e-01, -1.00759752e-01,\n",
       "       -5.68193504e-02, -2.50312805e-01, -4.04410216e-02, -1.03528589e-02,\n",
       "        1.30828494e-01, -5.89858371e-02, -1.28278372e-01,  9.29497089e-02,\n",
       "        7.35915296e-03, -2.05565146e-01,  1.98609909e-01, -1.08437514e-01,\n",
       "       -1.45290433e-01, -1.50811522e-01, -2.76887545e-02, -5.18056032e-02,\n",
       "       -1.83034054e-01, -2.48855428e-02, -4.85553180e-02,  7.97512971e-02,\n",
       "       -1.73418150e-01, -6.99906176e-02,  1.13614410e-01,  1.52767498e-01,\n",
       "       -2.41711549e-02, -2.14226009e-01, -2.97375063e-02, -1.54316740e-01,\n",
       "        1.47639412e-02,  4.79151735e-03,  1.01102366e-01, -2.51117838e-02,\n",
       "       -1.85417327e-02,  7.70125047e-02, -2.09660459e-01, -1.75233551e-01,\n",
       "        5.81829770e-02, -1.45922088e-02,  5.53318197e-02, -3.05768425e-01,\n",
       "       -8.30108980e-03,  8.17715370e-02, -1.04461199e-01, -2.09770057e-01,\n",
       "        9.34490930e-02,  2.21726561e-02,  5.36567981e-02,  4.18913155e-02,\n",
       "        1.61723345e-01,  1.20946086e-01,  2.21253668e-01,  1.06180575e-01,\n",
       "       -2.98443826e-02,  5.36363433e-02, -1.82017726e-02, -9.09197894e-02,\n",
       "        1.07694058e-01, -1.29817692e-01, -1.46167694e-01, -6.83331294e-02,\n",
       "       -9.14720538e-02,  3.69422970e-02,  3.73908290e-02,  6.85995462e-02,\n",
       "       -2.55134867e-02, -6.74475444e-02,  2.58997335e-02,  3.20620054e-02,\n",
       "        2.28350292e-02, -1.30258557e-02, -9.81109926e-02,  8.49384698e-02,\n",
       "       -1.33941916e-01, -1.65628264e-02,  1.64652477e-01,  1.01681885e-01,\n",
       "       -1.75856455e-02, -1.89826677e-02, -2.15530010e-01,  6.66346527e-02,\n",
       "       -2.55337796e-02,  5.63880432e-03,  1.55010574e-01,  2.37546437e-01,\n",
       "       -9.63665360e-03,  7.52429812e-02,  2.61760688e-02,  9.45942095e-02,\n",
       "        9.21654405e-03, -4.88689421e-02,  5.76072379e-02,  1.39924789e-01,\n",
       "       -7.59557184e-02, -7.74691609e-02,  3.21910343e-02, -1.42494698e-01,\n",
       "       -4.81424337e-02, -6.42925619e-02, -3.67527406e-02, -1.80293462e-01,\n",
       "        3.60268044e-02, -1.35498507e-01, -1.18566760e-01,  8.34210406e-02,\n",
       "        1.24485425e-01, -1.94504318e-01, -1.07228536e-01, -9.19551199e-02,\n",
       "        2.46903158e-02, -5.81793851e-02, -1.39073898e-01,  1.20987107e-01,\n",
       "        2.45588907e-01,  7.36484227e-02, -9.85980913e-02,  7.47701880e-02,\n",
       "       -5.91294521e-02, -1.16562802e-01,  1.61455855e-01, -2.72013217e-02,\n",
       "       -1.69870910e-01,  7.33849333e-02, -1.39766252e-01,  5.57893942e-02,\n",
       "       -5.05365328e-02, -8.49748937e-02,  1.01659552e-01,  1.29612639e-01,\n",
       "        4.13106261e-02,  1.70345517e-01, -5.94142569e-03,  1.56566792e-01,\n",
       "       -9.69254411e-02,  3.86386231e-02,  1.37695006e-01, -1.80629391e-01,\n",
       "       -1.04675767e-01,  1.40267048e-03,  2.83741438e-02,  6.10376337e-02,\n",
       "       -8.88444401e-02,  5.97192914e-02,  5.20642827e-02,  2.23377141e-01,\n",
       "       -1.00241903e-01, -4.07594296e-02,  4.47200223e-02, -7.67911852e-02,\n",
       "        9.00333869e-02, -1.59706268e-02, -6.08358979e-03, -7.79851740e-03,\n",
       "       -3.70439613e-02,  4.77440419e-02,  9.60721585e-02,  5.56161341e-02,\n",
       "       -8.73828678e-02, -1.52735311e-01,  8.34153088e-02, -1.37753520e-01,\n",
       "        8.26052454e-02, -5.08931770e-02,  3.80032965e-02,  8.39447665e-02,\n",
       "       -1.72599522e-01,  4.63561890e-02,  2.35030096e-02,  4.46143927e-02,\n",
       "       -5.38607004e-02, -1.05966395e-01,  9.23881980e-02,  9.19886189e-02,\n",
       "        5.11616208e-02,  9.62189378e-02,  8.69154878e-02, -7.46780270e-02,\n",
       "        6.60234423e-02, -6.61529616e-02,  2.29001060e-01,  5.55800935e-02,\n",
       "        1.11623513e-01,  9.60281910e-02,  1.38841775e-01, -9.77157416e-02,\n",
       "        1.08849592e-02, -5.50278251e-02, -1.01173260e-01,  3.36241124e-02,\n",
       "       -5.60254902e-02,  1.72704520e-02,  9.49827615e-02,  1.34554794e-01,\n",
       "       -3.86076922e-02,  2.71975552e-02, -1.42699790e-01,  1.72890988e-01,\n",
       "        4.90958129e-02,  3.72455141e-02,  5.87582190e-02,  6.25788278e-02,\n",
       "        2.06585657e-02, -8.06670874e-02, -1.36926600e-01, -1.13425258e-01,\n",
       "       -9.54802066e-02,  5.98402957e-02,  1.24747727e-01, -8.10773818e-02,\n",
       "       -2.23167792e-02,  6.91936892e-02,  7.90792230e-02, -1.30464218e-01,\n",
       "        1.19903626e-01,  4.03879396e-02, -1.14537205e-01, -5.26942868e-02,\n",
       "       -3.20566108e-02,  1.36039462e-01, -8.67853528e-02, -1.58634688e-02,\n",
       "        1.84794473e-02,  1.77596959e-01,  3.44348962e-02,  1.57654154e-01,\n",
       "       -5.51523761e-02,  5.66856511e-02,  3.24992360e-02, -1.71567740e-01,\n",
       "       -8.14238744e-02, -1.10683443e-02, -7.37401109e-02,  6.22594936e-02,\n",
       "       -1.29429494e-01, -6.01406152e-02, -1.05431092e-01,  1.06759513e-02,\n",
       "        1.62018950e-01, -9.07519614e-02,  8.54572487e-02, -1.51980960e-01,\n",
       "       -9.30804660e-04,  2.35327194e-02, -2.19550304e-01, -3.03831143e-02,\n",
       "       -5.04219892e-02, -1.50903304e-02, -7.57183022e-02, -1.09207750e-01,\n",
       "       -8.54348430e-02,  2.24618196e-01, -6.18571364e-02, -8.05594879e-02,\n",
       "        2.42566143e-02, -1.14549825e-01,  4.35137872e-02,  1.20807582e-01,\n",
       "        1.37806903e-01,  4.56690718e-02,  1.57628369e-02, -1.25690140e-01,\n",
       "        2.81530561e-02,  6.13541890e-02, -6.96612458e-02, -1.36084058e-02,\n",
       "       -1.55490087e-01, -9.10953861e-02,  1.17286286e-01,  3.55036392e-03,\n",
       "       -2.62298403e-01,  4.56727412e-02, -5.99052699e-02, -2.70829068e-02,\n",
       "       -2.70887457e-01, -2.97884374e-03, -7.09972759e-02,  7.43705884e-02,\n",
       "        3.96855948e-03,  1.86835345e-02,  1.19310057e-01, -1.86946988e-01,\n",
       "       -7.99712876e-02, -5.01281117e-02,  1.97719229e-02, -1.20603678e-01,\n",
       "        7.92659777e-02, -2.90709493e-02, -1.36939172e-01, -1.74540064e-02,\n",
       "       -6.74961278e-02,  1.49631642e-01,  1.33837774e-02, -9.26087368e-02,\n",
       "        5.93900771e-02, -3.23372873e-02, -1.09359616e-01, -4.76195773e-02,\n",
       "       -1.39555674e-02, -3.98879341e-03, -1.23298931e-01, -1.56289538e-02,\n",
       "        1.34940143e-01,  7.18254197e-02, -7.66449395e-02, -6.31554292e-03,\n",
       "       -6.35868295e-02, -2.84518661e-03, -3.27701684e-02, -8.31236618e-02,\n",
       "       -6.08825761e-02, -2.25518665e-02, -1.10030732e-01,  5.95281216e-02,\n",
       "       -6.10213117e-02,  9.66452699e-02,  1.10644263e-02,  4.62738435e-02,\n",
       "        1.35884340e-01,  5.12541888e-02, -1.59723152e-01,  2.03822910e-01,\n",
       "       -1.68122854e-01,  4.60814788e-02,  6.57931881e-03, -1.82047409e-01,\n",
       "        4.74258771e-02,  4.13737821e-03,  8.33009556e-02,  1.09778800e-01,\n",
       "        2.26558369e-02, -1.15858018e-01, -5.63983383e-02, -5.45185568e-02,\n",
       "       -8.01074544e-03,  1.10980466e-02,  8.15048590e-02,  1.03578176e-01,\n",
       "        3.11267882e-02, -1.11094532e-01,  7.55916230e-04,  3.04006572e-02,\n",
       "        5.63850616e-02, -2.39273000e-01, -2.80777392e-02,  7.59216331e-03,\n",
       "       -7.69321826e-02,  2.38852949e-02,  1.34345714e-03, -6.70177490e-02,\n",
       "        3.70752718e-02, -6.71635991e-02, -1.48471867e-02, -1.33242667e-02,\n",
       "       -1.11623169e-01, -1.99081043e-01,  1.07620393e-01,  1.48821128e-02,\n",
       "       -2.81260756e-02, -1.90090504e-02, -6.59257156e-02, -1.51329638e-01,\n",
       "        1.00038781e-01,  6.41657803e-02, -1.16787160e-01,  1.40549997e-02,\n",
       "       -1.13115251e-01,  1.12142580e-01, -2.78891687e-02, -1.97633752e-01,\n",
       "        1.79976910e-02, -2.85420487e-02,  3.40340304e-02,  6.61872463e-02,\n",
       "        4.10908852e-02, -5.16322356e-03, -3.38355601e-02,  8.86269085e-03,\n",
       "        5.66457025e-02, -1.90688292e-02,  7.42369723e-02,  1.32578711e-01,\n",
       "       -3.54318316e-03, -4.05916784e-02,  1.16322193e-01,  9.66630021e-02,\n",
       "        1.24136664e-01,  3.18520702e-02,  1.02273717e-01,  2.46842757e-02,\n",
       "        2.18840894e-02,  9.66474700e-02,  1.12201887e-01,  1.50450961e-01,\n",
       "        1.34073134e-01, -2.13622944e-01, -9.34687387e-02,  7.75633419e-02,\n",
       "        1.86246223e-02, -1.01366140e-01,  1.38982006e-01, -2.16589813e-01,\n",
       "        1.87236645e-01, -4.06969863e-02, -2.01975274e-01, -1.02578220e-01,\n",
       "       -1.03005796e-01, -7.67348291e-04, -1.37031839e-01,  2.13150590e-02,\n",
       "       -1.74524229e-01,  1.16217909e-02,  6.41478563e-02, -4.13045544e-02,\n",
       "       -1.34720622e-02, -9.51848483e-02, -2.25461968e-02,  3.63430793e-02,\n",
       "       -7.56712514e-02, -4.06804239e-02, -1.16094935e-01,  2.14655940e-02,\n",
       "        2.22732464e-01,  1.05949542e-01,  2.41160879e-01,  7.25871669e-02,\n",
       "       -1.44600007e-01, -1.51567340e-01, -1.55372524e-02,  2.38210080e-01,\n",
       "       -6.24645948e-02,  5.15645779e-02, -2.15188202e-01, -1.42074961e-01,\n",
       "       -6.78010179e-02,  4.02813735e-02,  5.70783281e-02, -8.49839896e-02,\n",
       "        5.58999687e-02, -3.39480685e-02, -9.12139364e-02,  3.73213198e-02,\n",
       "        1.12371988e-01, -2.41240986e-02, -8.17646280e-02,  9.09589466e-02,\n",
       "        1.04319485e-04, -9.90908713e-02,  2.20538343e-02,  9.55334598e-02,\n",
       "       -8.60909165e-02, -6.03412985e-02, -5.90316209e-03,  1.26743520e-01,\n",
       "        5.01172244e-02, -2.28273903e-02, -8.11127064e-02,  3.72810951e-02,\n",
       "       -4.07168218e-02, -1.09691196e-01,  5.16973376e-02, -7.89407205e-02,\n",
       "       -5.13427042e-02,  1.21272852e-02,  1.31259524e-01, -2.44029987e-02,\n",
       "       -1.69751144e-01, -2.11702989e-01,  9.79521883e-03,  7.28446523e-02,\n",
       "       -1.97675732e-02, -1.25797604e-01,  9.52400500e-02,  7.02779147e-02,\n",
       "        1.02323853e-01, -6.52546584e-02,  1.99325049e-01,  4.48127336e-02,\n",
       "       -2.99767461e-02,  5.96000012e-02, -6.60857854e-03,  2.78931151e-02,\n",
       "       -2.47812992e-01, -1.07986895e-01,  5.92736316e-02,  1.36391227e-01,\n",
       "        7.30424902e-02, -1.10893455e-01,  5.60679364e-02,  5.48694651e-02,\n",
       "       -1.21122329e-01,  4.01548175e-02,  9.33237219e-02, -4.50792627e-02,\n",
       "        1.14403715e-01, -9.18704545e-02, -1.57864832e-01, -3.46175389e-02,\n",
       "        1.79037132e-02, -3.09446160e-02, -9.92583392e-02, -1.72074618e-01,\n",
       "        3.23262472e-02,  6.26190060e-02,  8.10270153e-03,  1.12864706e-01])"
      ]
     },
     "execution_count": 15,
     "metadata": {},
     "output_type": "execute_result"
    }
   ],
   "source": [
    "np.random.normal(0, 0.1, 1000)"
   ]
  },
  {
   "cell_type": "markdown",
   "metadata": {},
   "source": [
    "numpy.random.normal distribution - a way of generating numbers randomly........"
   ]
  },
  {
   "cell_type": "code",
   "execution_count": 18,
   "metadata": {},
   "outputs": [],
   "source": [
    "x = np.random.normal(0, 0.1, 1000)"
   ]
  },
  {
   "cell_type": "code",
   "execution_count": 19,
   "metadata": {},
   "outputs": [
    {
     "data": {
      "text/plain": [
       "(array([  5.,  21.,  62., 175., 213., 253., 170.,  64.,  28.,   9.]),\n",
       " array([-0.31599585, -0.25387144, -0.19174704, -0.12962263, -0.06749823,\n",
       "        -0.00537382,  0.05675059,  0.11887499,  0.1809994 ,  0.24312381,\n",
       "         0.30524821]),\n",
       " <a list of 10 Patch objects>)"
      ]
     },
     "execution_count": 19,
     "metadata": {},
     "output_type": "execute_result"
    },
    {
     "data": {
      "image/png": "[encoded data removed]",
      "text/plain": [
       "<Figure size 432x288 with 1 Axes>"
      ]
     },
     "metadata": {
      "needs_background": "light"
     },
     "output_type": "display_data"
    }
   ],
   "source": [
    "plt.hist(x)"
   ]
  },
  {
   "cell_type": "markdown",
   "metadata": {},
   "source": [
    "Taken from the lecture video 'Distributions': https://web.microsoftstream.com/video/e6f57177-0a17-45a5-8ca8-0e3191e887f8"
   ]
  },
  {
   "cell_type": "code",
   "execution_count": null,
   "metadata": {},
   "outputs": [],
   "source": []
  }
 ],
 "metadata": {
  "kernelspec": {
   "display_name": "Python 3",
   "language": "python",
   "name": "python3"
  },
  "language_info": {
   "codemirror_mode": {
    "name": "ipython",
    "version": 3
   },
   "file_extension": ".py",
   "mimetype": "text/x-python",
   "name": "python",
   "nbconvert_exporter": "python",
   "pygments_lexer": "ipython3",
   "version": "3.7.1"
  }
 },
 "nbformat": 4,
 "nbformat_minor": 2
}
