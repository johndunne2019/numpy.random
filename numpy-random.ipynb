{
 "cells": [
  {
   "cell_type": "markdown",
   "metadata": {},
   "source": [
    "# The numpy.random package"
   ]
  },
  {
   "cell_type": "markdown",
   "metadata": {},
   "source": [
    "## Assignment submission - Programming for Data Analysis 2019"
   ]
  },
  {
   "cell_type": "markdown",
   "metadata": {},
   "source": [
    "### Author John Dunne G00273895"
   ]
  },
  {
   "cell_type": "markdown",
   "metadata": {},
   "source": [
    "In this jupyter notebook I have used both markdown and code cells. To switch between the 2 modes I pressed ESC key and then M for markdown and Y for writing code. "
   ]
  },
  {
   "cell_type": "markdown",
   "metadata": {},
   "source": [
    "## What is NumPy?\n",
    "**Before looking at numpy.random which is the main focus of this assignment I want to look at the NumPy package and give a general overview of some of the functions and features of the package.**\n",
    "\n",
    "The official NumPy documentation: https://numpy.org/ the quickstart tutorial https://numpy.org/devdocs/user/quickstart.html and what is NumPy: https://docs.scipy.org/doc/numpy-1.13.0/user/whatisnumpy.html\n",
    "\n",
    "The user can interact either directly with the NumPY package or more commonly through the use of another package such as pandas or SciPy. \n",
    "\n",
    "The main purpose a user would use NumPy is to deal with multidimensional arrays. An array is a table of elements that contains data all of the same type, usually numbers. An example array would look like [1,2,3,4]. A multidimensional array is effectively lists within lists.\n",
    "\n",
    "The array class in NumPy is known as ndarray or numpy.array and within this class there are many functions that can be used to manipulate datas within arrays. \n",
    "\n",
    "**Some features of the numpy.array class are:**\n",
    "\n",
    "* ndarray.ndim - returns the number of axes in an array\n",
    "* ndarray.shape - returns the dimensions of the array, for example the number of rows and columns\n",
    "* ndarray.size - the total number of elements in the array\n",
    "* ndarray.dtype - returns the data type of the elements in the array\n",
    "\n",
    "**I have also looked at the below features of NumPy:**\n",
    "\n",
    "* numpy.arange - used to return the array of numbers for a given parameter\n",
    "* numpy.reshape - can be used to re shape an array\n",
    "* numpy.linspace - used to generate a range of random numbers between given parameters \n",
    "\n",
    "**I have shown some basic examples below of how NumPy can be usd to generate arrays and work with arrays:**"
   ]
  },
  {
   "cell_type": "code",
   "execution_count": 1,
   "metadata": {},
   "outputs": [
    {
     "data": {
      "text/plain": [
       "array([5, 6, 8, 9])"
      ]
     },
     "execution_count": 1,
     "metadata": {},
     "output_type": "execute_result"
    }
   ],
   "source": [
    "import numpy as np\n",
    "# imported numpy as given the shortened name np\n",
    "b = np.array([5, 6, 8, 9])\n",
    "# numpy.array is used to generate an array of numbers \n",
    "b\n",
    "# called the value b which is shown in output below:"
   ]
  },
  {
   "cell_type": "code",
   "execution_count": 2,
   "metadata": {},
   "outputs": [
    {
     "data": {
      "text/plain": [
       "1"
      ]
     },
     "execution_count": 2,
     "metadata": {},
     "output_type": "execute_result"
    }
   ],
   "source": [
    "# ndarray.ndim - returns the number of axes in an array\n",
    "b.ndim\n",
    "# the ndarray.ndim function within numpy is called on the array that I have set above\n",
    "# The result in this case is that there is only one axes of data"
   ]
  },
  {
   "cell_type": "code",
   "execution_count": 3,
   "metadata": {},
   "outputs": [
    {
     "data": {
      "text/plain": [
       "(4,)"
      ]
     },
     "execution_count": 3,
     "metadata": {},
     "output_type": "execute_result"
    }
   ],
   "source": [
    "# ndarray.shape - returns the dimensions of the array, for example the number of rows and columns\n",
    "b.shape\n",
    "# the ndarray.shape function is called on the array that I have set above\n",
    "# In this case the result is 4 only.\n",
    "# The reshape function can be used to reshape the data and I will show a example further down this notebook"
   ]
  },
  {
   "cell_type": "code",
   "execution_count": 4,
   "metadata": {},
   "outputs": [
    {
     "data": {
      "text/plain": [
       "4"
      ]
     },
     "execution_count": 4,
     "metadata": {},
     "output_type": "execute_result"
    }
   ],
   "source": [
    "# ndarray.size - the total number of elements in the array\n",
    "b.size\n",
    "# I have called the ndarray.size function on the array that I have set equal to b\n",
    "# In this case there are 4 elements within the array"
   ]
  },
  {
   "cell_type": "code",
   "execution_count": 5,
   "metadata": {},
   "outputs": [
    {
     "data": {
      "text/plain": [
       "dtype('int32')"
      ]
     },
     "execution_count": 5,
     "metadata": {},
     "output_type": "execute_result"
    }
   ],
   "source": [
    "# ndarray.dtype - returns the data type of the elements in the array\n",
    "b.dtype\n",
    "# I have called the ndarray.dtype function\n",
    "# The result here is the data types in this array are integers represented in 32 bit format"
   ]
  },
  {
   "cell_type": "code",
   "execution_count": 6,
   "metadata": {},
   "outputs": [
    {
     "data": {
      "text/plain": [
       "array([2.        , 2.30769231, 2.61538462, 2.92307692, 3.23076923,\n",
       "       3.53846154, 3.84615385, 4.15384615, 4.46153846, 4.76923077,\n",
       "       5.07692308, 5.38461538, 5.69230769, 6.        ])"
      ]
     },
     "execution_count": 6,
     "metadata": {},
     "output_type": "execute_result"
    }
   ],
   "source": [
    "# I viewed a tutorial video here: https://www.youtube.com/watch?v=xECXZ3tyONo\n",
    "# numpy.linspace is used to generate a range with a defined number of elements \n",
    "c = np.linspace(2, 6, 14)\n",
    "c\n",
    "# In this case a range is created with a staring point 2, end point 6 and the range will contain 14 elements "
   ]
  },
  {
   "cell_type": "markdown",
   "metadata": {},
   "source": [
    "**Below I have taken a look at numpy.arange which can be used to generate the array of numbers from a given parameter and the numpy.reshape function which is used to change the shape of an array**"
   ]
  },
  {
   "cell_type": "code",
   "execution_count": 7,
   "metadata": {},
   "outputs": [
    {
     "data": {
      "text/plain": [
       "array([0, 1, 2, 3, 4, 5])"
      ]
     },
     "execution_count": 7,
     "metadata": {},
     "output_type": "execute_result"
    }
   ],
   "source": [
    "import numpy as np\n",
    "a =np.arange(6)\n",
    "a\n",
    "# the numpy.arange function will generate a range of numbers for the given parameter, in this case I have chosen 6\n",
    "# This saves the user from typing out the array themselves"
   ]
  },
  {
   "cell_type": "code",
   "execution_count": 8,
   "metadata": {},
   "outputs": [
    {
     "data": {
      "text/plain": [
       "array([[0, 1, 2],\n",
       "       [3, 4, 5]])"
      ]
     },
     "execution_count": 8,
     "metadata": {},
     "output_type": "execute_result"
    }
   ],
   "source": [
    "# The numpy.reshape function changes the shape of the array using the given parameters\n",
    "a = np.arange(6).reshape(2, 3)\n",
    "a\n",
    "# You can see below in the output that the array is now returned as 2 separate arrays containing 3 elements each"
   ]
  },
  {
   "cell_type": "code",
   "execution_count": 9,
   "metadata": {},
   "outputs": [
    {
     "data": {
      "text/plain": [
       "(2, 3)"
      ]
     },
     "execution_count": 9,
     "metadata": {},
     "output_type": "execute_result"
    }
   ],
   "source": [
    "# I have called the numpy.shape function again to show the difference to my previous example\n",
    "# The output now shows 2 arrays with 3 elements in each\n",
    "a.shape"
   ]
  },
  {
   "cell_type": "markdown",
   "metadata": {},
   "source": [
    "## Section 1 - What is numpy.random and what is the overall purpose of the package?\n",
    "\n",
    "**The official documentation of numpy.random is here: https://docs.scipy.org/doc/numpy-1.16.0/reference/routines.random.html where you can read about all the different functions of numpy.random that are available to be used in data analysis.**\n",
    "\n",
    "numpy.random is a sub package of the NumPy package within the Python library that has many functions within it that can be used to generate random data.\n",
    "As we discovered in the lectures computers do not have the ability to generate random numbers on their own and so we can use packages such as numpy.random to do this. Through completing this assignment I will try to give an overview of some of the different functions of numpy.random \n",
    "\n",
    "The overall purpose of the package is to generate random data. Within the numpy.random package there are many functions. The full list of functions from the official numpy.random documentation page: https://docs.scipy.org/doc/numpy-1.16.0/reference/routines.random.html#simple-random-data\n",
    "\n",
    "**Within the numpy.random package there are 4 different sections:**\n",
    "\n",
    "* Simple Random Data\n",
    "* Permutations\n",
    "* Distributions\n",
    "* Random Generator"
   ]
  },
  {
   "cell_type": "markdown",
   "metadata": {},
   "source": [
    "## Section 2 - \"Simple Random Data\" and \"Permutations\"\n",
    "\n",
    "**I have broken section 2 of this assignment into 2 subsections**\n",
    "\n",
    "### Section 2.1 - Simple Random Data\n",
    "Simple Random Data is essentially used to generate random data. There are different distributions that affect the way in which random data is generated, these include uniform distribution, standard normal distribution and continuous uniform distribution. Within the Simple random data there are a number of different functions that can be used to generate data and each one generates data in its own way. The user can use the function which best serves them, I will go through some of these now giving exmaples. \n",
    "\n",
    "**Below is a full list of the functions within Simple Random Data taken from: https://docs.scipy.org/doc/numpy-1.16.0/reference/routines.random.html#simple-random-data:**\n",
    "\n",
    "* **rand(d0, d1, …, dn)**\tRandom values in a given shape.\n",
    "* **randn(d0, d1, …, dn)**\tReturn a sample (or samples) from the “standard normal” distribution.\n",
    "* **randint(low[, high, size, dtype])**\tReturn random integers from low (inclusive) to high (exclusive).\n",
    "* **random_integers(low[, high, size])**\tRandom integers of type np.int between low and high, inclusive.\n",
    "* **random_sample([size])**\tReturn random floats in the half-open interval [0.0, 1.0).\n",
    "* **random([size])**\tReturn random floats in the half-open interval [0.0, 1.0).\n",
    "* **ranf([size])**\tReturn random floats in the half-open interval [0.0, 1.0).\n",
    "* **sample([size])**\tReturn random floats in the half-open interval [0.0, 1.0).\n",
    "* **choice(a[, size, replace, p])**\tGenerates a random sample from a given 1-D array\n",
    "* **bytes(length)**\tReturn random bytes.\n",
    "\n",
    "Now I am going to show examples of how some of the functions within Random Simple Data can be used to generate random data. I will also use matplotlib.pyplot to plot the random numbers generated. This will be used to give a clearer picture of the distribution or shape of the random numbers that have been generated."
   ]
  },
  {
   "cell_type": "markdown",
   "metadata": {},
   "source": [
    "### numpy.random.rand\n",
    "The numpy.random.rand function is used to generate random values in a shape that is specified by the user. The rand function generates random numbers from zero up to but not including one which in mathematical terms is: [0, 1).\n",
    "The rand function generates random samples from a unifrom distribution. A uniform distribution is one that has constant probability also known as a rectangular distribution. More information on uniform distribution: http://mathworld.wolfram.com/UniformDistribution.html. In simple terms, in a uniform distribution all values are equally likely to appear. \n",
    "\n",
    "**This is the link to the numpy.random.rand documentation: https://docs.scipy.org/doc/numpy-1.16.0/reference/generated/numpy.random.rand.html#numpy.random.rand**\n"
   ]
  },
  {
   "cell_type": "markdown",
   "metadata": {},
   "source": [
    "**I will use numpy.random.rand to generate some random floating point numbers. I will attempt to shown visual explanations using matplotlib.**"
   ]
  },
  {
   "cell_type": "code",
   "execution_count": 15,
   "metadata": {},
   "outputs": [
    {
     "name": "stdout",
     "output_type": "stream",
     "text": [
      "With no argument entered numpy.random.rand generates one random float\n",
      "0.904613778955755\n",
      "In this case 2 arrays are generated containing 4 random floats in each\n",
      "[[0.91814265 0.5316369  0.41472441 0.10821772]\n",
      " [0.99304325 0.22364627 0.87782655 0.3343745 ]]\n"
     ]
    }
   ],
   "source": [
    "import numpy as np\n",
    "# numpy imported and given shortened name\n",
    "print(\"With no argument entered numpy.random.rand generates one random float\")\n",
    "a = np.random.rand()\n",
    "print(a)\n",
    "# numpy.random.rand function is ued to generate a random number.\n",
    "# Here I have not specified a shape and so only one random number is generated\n",
    "print(\"In this case 2 arrays are generated containing 4 random floats in each\")\n",
    "b = np.random.rand(2, 4)\n",
    "print(b)\n",
    "# Here I have entered parameters for the shape of the random array of numbers to be generated\n",
    "# In this case I have asked for an array containing 2 rows and 4 columns to be generated"
   ]
  },
  {
   "cell_type": "markdown",
   "metadata": {},
   "source": [
    "**I will use matplotlib.pyplot to plot the randomly generated floats**"
   ]
  },
  {
   "cell_type": "code",
   "execution_count": 20,
   "metadata": {},
   "outputs": [
    {
     "name": "stdout",
     "output_type": "stream",
     "text": [
      "[[0.91814265 0.5316369  0.41472441 0.10821772]\n",
      " [0.99304325 0.22364627 0.87782655 0.3343745 ]]\n",
      "The randomly generated floats are plotted below:\n"
     ]
    },
    {
     "data": {
      "image/png": "[encoded data removed]",
      "text/plain": [
       "<Figure size 648x288 with 1 Axes>"
      ]
     },
     "metadata": {
      "needs_background": "light"
     },
     "output_type": "display_data"
    }
   ],
   "source": [
    "# Plotting a 2D array using matplotlib.pyplot\n",
    "import matplotlib.pyplot as plt\n",
    "plt.rcParams['figure.figsize'] = [9, 4]\n",
    "# I have taken this line from: https://stackoverflow.com/questions/36367986/how-to-make-inline-plots-in-jupyter-notebook-larger\n",
    "# The pyplot.rcparams command is used to resize all figures generated in this notebook\n",
    "# pyplot.rcparams documentation: https://matplotlib.org/3.1.1/tutorials/introductory/customizing.html\n",
    "print(b)\n",
    "print(\"The randomly generated floats are plotted below:\")\n",
    "plt.plot(b, 'b*')\n",
    "# plot function in matplotlib.pyplot used to generate a plot of the random floats generated above\n",
    "# 'b*' command asks for the points to be shown on the plot as blue stars\n",
    "# Read about in blog post: https://www.machinelearningplus.com/plots/matplotlib-tutorial-complete-guide-python-plot-examples/\n",
    "plt.title(\"Plot of the random floats generated by numpy.random.rand\", fontsize= 12, fontweight='bold')\n",
    "plt.show()\n",
    "# plt.title is used to give the plot a title\n",
    "# fontsize and fontweight used to change the appearance of title of plot\n",
    "# font size and fontweight: https://matplotlib.org/tutorials/introductory/pyplot.html\n",
    "# In this case because I gave 2 arguments in numpy.random.rand 2 arrays were created and this is treated as 2D array\n",
    "# Hence the points are plotted below as the first point in the first array against the first point in the second array and so on"
   ]
  },
  {
   "cell_type": "markdown",
   "metadata": {},
   "source": [
    "matplotblib.pylplot.show(): https://matplotlib.org/3.1.1/api/_as_gen/matplotlib.pyplot.show.html#matplotlib.pyplot.show\n",
    "\n",
    "matplotlib.pyplot.plot(): https://matplotlib.org/3.1.1/api/_as_gen/matplotlib.pyplot.plot.html#matplotlib.pyplot.plot\n",
    "\n",
    "matplotlib.pyplot.title(): https://matplotlib.org/3.1.1/api/_as_gen/matplotlib.pyplot.title.html#matplotlib.pyplot.title\n",
    "\n",
    "Blog post showing how to change appearance of the points plotted by pyplot: https://www.machinelearningplus.com/plots/matplotlib-tutorial-complete-guide-python-plot-examples/\n",
    "\n",
    "help(plt.plot): Type this command in jupyter notebook to see details on changing line style in a plot"
   ]
  },
  {
   "cell_type": "code",
   "execution_count": 23,
   "metadata": {},
   "outputs": [
    {
     "name": "stdout",
     "output_type": "stream",
     "text": [
      "[0.57480192 0.51062124 0.68405713 0.39887213 0.15110988]\n",
      "The 5 randonmly generated floats are printed on the y axis at points 0,1,2,3,4 on the x axis\n"
     ]
    },
    {
     "data": {
      "text/plain": [
       "Text(0.5, 0, 'pyplot by default plots the 5 points in the rand 0:4')"
      ]
     },
     "execution_count": 23,
     "metadata": {},
     "output_type": "execute_result"
    },
    {
     "data": {
      "image/png": "[encoded data removed]",
      "text/plain": [
       "<Figure size 648x288 with 1 Axes>"
      ]
     },
     "metadata": {
      "needs_background": "light"
     },
     "output_type": "display_data"
    }
   ],
   "source": [
    "# Generating an array using just one argument in numpy.random.rand and plotting the result\n",
    "x = np.random.rand(5)\n",
    "# I have asked for numpy.random.rand to generate 5 random floats\n",
    "print(x)\n",
    "print(\"The 5 randonmly generated floats are printed on the y axis at points 0,1,2,3,4 on the x axis\")\n",
    "# I have asked for the 5 randomly generated points to be printed to the screen\n",
    "plt.plot(x, 'go')\n",
    "# matplotlib.pyplot.plot used to plot the 5 randomly generated points\n",
    "# 'go' command asks for green coloured dots to be used in the plot\n",
    "# I read about 'go' here: https://www.machinelearningplus.com/plots/matplotlib-tutorial-complete-guide-python-plot-examples/\n",
    "plt.title(\"The 5 random floats generated by numpy.random.rand are plotted below\", fontsize= 12, fontweight='bold')\n",
    "# pyplot.title used to give the plot a title\n",
    "plt.ylabel(\"The floats generated by rand function\", fontsize= 10, fontweight='bold')\n",
    "plt.xlabel(\"pyplot by default plots the 5 points in the rand 0:4\", fontsize= 10, fontweight='bold')\n",
    "# pyplot.ylabel and pyplot.xlabel used to give names to the y and x label"
   ]
  },
  {
   "cell_type": "markdown",
   "metadata": {},
   "source": [
    "matplotlib.pyplot.xlabel: https://matplotlib.org/3.1.1/api/_as_gen/matplotlib.pyplot.xlabel.html#matplotlib.pyplot.xlabel\n",
    "\n",
    "matplotlib.pyplot.ylabel: https://matplotlib.org/3.1.1/api/_as_gen/matplotlib.pyplot.ylabel.html#matplotlib.pyplot.ylabel\n"
   ]
  },
  {
   "cell_type": "code",
   "execution_count": 15,
   "metadata": {},
   "outputs": [
    {
     "data": {
      "text/plain": [
       "array([0.89429779, 0.814716  , 0.14616022, ..., 0.73824628, 0.92166104,\n",
       "       0.26502849])"
      ]
     },
     "execution_count": 15,
     "metadata": {},
     "output_type": "execute_result"
    }
   ],
   "source": [
    "c = np.random.rand(1200)\n",
    "# I have asked numpy.random.rand to generate 1200 random numbers\n",
    "c"
   ]
  },
  {
   "cell_type": "markdown",
   "metadata": {},
   "source": [
    "numpy.random.rand function as in the lecture video on the rand function: https://web.microsoftstream.com/video/d44d42fa-5b1a-4152-9d41-8129a3816001"
   ]
  },
  {
   "cell_type": "code",
   "execution_count": 17,
   "metadata": {},
   "outputs": [
    {
     "name": "stderr",
     "output_type": "stream",
     "text": [
      "UsageError: Line magic function `%matplotlib.inline` not found.\n"
     ]
    },
    {
     "data": {
      "image/png": "[encoded data removed]",
      "text/plain": [
       "<Figure size 648x288 with 1 Axes>"
      ]
     },
     "metadata": {
      "needs_background": "light"
     },
     "output_type": "display_data"
    }
   ],
   "source": [
    "import matplotlib.pyplot as plt\n",
    "# The matplotlib.pyplot package is imported and given a shortened name\n",
    "plt.hist(c)\n",
    "# pyplot.hist called to generate a histogram of the random numbers that were generated\n",
    "%matplotlib.inline\n",
    "# The plot didnt display when plt.show() was called so I had to use this argument "
   ]
  },
  {
   "cell_type": "markdown",
   "metadata": {},
   "source": [
    "The above histogram shows thats the random numbers generated by the numpy.random.rand function are of a fairly even distribution between 0.0 and 1.0 proving it to be a uniform distribution. \n",
    "\n",
    "I created the above example working off the lecture video on the the rand function: https://web.microsoftstream.com/video/d44d42fa-5b1a-4152-9d41-8129a3816001\n",
    "\n",
    "matplotlib.pyplot.hist(): https://matplotlib.org/3.1.1/api/_as_gen/matplotlib.pyplot.hist.html#matplotlib.pyplot.hist"
   ]
  },
  {
   "cell_type": "markdown",
   "metadata": {},
   "source": [
    "### numpy.random.randn\n",
    "The randn function returns a sample from the standard or normal distribution which has a mean of 0 and a standard deviation of 1. In a normal distribution most values remain around the mean making it symmetrical in appearance. More information on normal distribution here: https://www.tutorialspoint.com/python_data_science/python_normal_distribution.htm\n",
    "\n",
    "**This is the link to the numpy.random.randn documentation: https://docs.scipy.org/doc/numpy-1.16.0/reference/generated/numpy.random.randn.html#numpy.random.randn**\n",
    "\n",
    "**I will now show show some examples of how numpy.random.randn is used to generate a random sample. I will try to give a visualisation of this using matplotlib.**"
   ]
  },
  {
   "cell_type": "code",
   "execution_count": 21,
   "metadata": {},
   "outputs": [
    {
     "name": "stdout",
     "output_type": "stream",
     "text": [
      "The first argument decides how many rows of data to be generated:\n",
      "[-1.24510555  1.14951525]\n",
      "The second argument decides how many columns of data to be generated:\n",
      "[[-1.51270765  0.00274793]\n",
      " [ 0.95216488 -0.05174333]]\n",
      "The third argument decides how many arrays will be created:\n",
      "[[[-0.69425583  2.17847596]\n",
      "  [-2.07046701  1.47723013]\n",
      "  [-0.02152825 -1.57989622]\n",
      "  [ 0.73841041  0.12144998]]\n",
      "\n",
      " [[ 0.30609333 -1.91415066]\n",
      "  [-0.68634826  0.65822382]\n",
      "  [ 0.9667217   1.72346871]\n",
      "  [-1.49513207  0.08646608]]]\n"
     ]
    }
   ],
   "source": [
    "randn = np.random.randn(2)\n",
    "# randn is used to generate an array with 2 rows of data\n",
    "print(\"The first argument decides how many rows of data to be generated:\")\n",
    "print(randn)\n",
    "randn2 = np.random.randn(2, 2)\n",
    "# randn generated an array with 2 rows and 2 columns\n",
    "print(\"The second argument decides how many columns of data to be generated:\")\n",
    "print(randn2)\n",
    "randn3 = np.random.randn(2, 4, 2)\n",
    "print(\"The third argument decides how many arrays will be created:\")\n",
    "print(randn3)"
   ]
  },
  {
   "cell_type": "code",
   "execution_count": 22,
   "metadata": {},
   "outputs": [
    {
     "data": {
      "image/png": "[encoded data removed]",
      "text/plain": [
       "<Figure size 648x288 with 1 Axes>"
      ]
     },
     "metadata": {
      "needs_background": "light"
     },
     "output_type": "display_data"
    }
   ],
   "source": [
    "x = np.random.randn(2300)\n",
    "# I have generated an array with 2,300 values using randn\n",
    "plt.hist(x)\n",
    "plt.show()\n",
    "# I have used matplotlib.pyplot to create a histogram of the array generated by randn\n",
    "# Notice the way there is a cluster of values around the center of the histogram\n",
    "# We can see now visually randn has returned random values with mean 0 and std deviation of 1 "
   ]
  },
  {
   "cell_type": "code",
   "execution_count": 29,
   "metadata": {},
   "outputs": [
    {
     "data": {
      "text/plain": [
       "[<matplotlib.lines.Line2D at 0x1a745985ef0>]"
      ]
     },
     "execution_count": 29,
     "metadata": {},
     "output_type": "execute_result"
    },
    {
     "data": {
      "image/png": "[encoded data removed]",
      "text/plain": [
       "<Figure size 648x288 with 1 Axes>"
      ]
     },
     "metadata": {
      "needs_background": "light"
     },
     "output_type": "display_data"
    }
   ],
   "source": [
    "plt.plot(x, 'go')\n",
    "# the command 'go' makes the plot appear like a scatter plot. 'go' meaning green dots\n",
    "# If I typed in 'go-' the lines would have been joined"
   ]
  },
  {
   "cell_type": "markdown",
   "metadata": {},
   "source": [
    "I read about plotting a scatter plot using 'go' ith the pyplot.plot command here: https://www.machinelearningplus.com/plots/matplotlib-tutorial-complete-guide-python-plot-examples/\n",
    "\n",
    "**In the above scatter plot we can see the concentration of values between -1 and 1 with most values remaining around the mean of 0**"
   ]
  },
  {
   "cell_type": "markdown",
   "metadata": {},
   "source": [
    "### numpy.random.bytes\n",
    "This returns random bytes, it takes only one argument which is the number of bytes the user wants returned. \n",
    "\n",
    "**This is the link to the official documentation: https://docs.scipy.org/doc/numpy-1.16.0/reference/generated/numpy.random.bytes.html#numpy.random.bytes**"
   ]
  },
  {
   "cell_type": "code",
   "execution_count": 28,
   "metadata": {},
   "outputs": [
    {
     "data": {
      "text/plain": [
       "b'\\xb8d\\x10\\xdfd\\x0e\\r\\xb6f\\x9e\\x0f\\x16'"
      ]
     },
     "execution_count": 28,
     "metadata": {},
     "output_type": "execute_result"
    }
   ],
   "source": [
    "np.random.bytes(12)\n",
    "# I have asked for 12 bytes to be returned"
   ]
  },
  {
   "cell_type": "markdown",
   "metadata": {},
   "source": [
    "### numpy.random.random_sample\n",
    "Returns random floating point numbers in the half-open interval [0.0, 1.0). The random floating point numbers are drawn from the continuous unform distribution where each value is equally likely to appear.\n",
    "\n",
    "**This is the link to the official documentation: https://docs.scipy.org/doc/numpy-1.16.0/reference/generated/numpy.random.random_sample.html#numpy.random.random_sample**\n",
    "\n",
    "**Below I have shown an example of how numpy.random.random_sample is used to generate random floating point numbers. I have used matplotlib to show how these random numbers are distributed.**"
   ]
  },
  {
   "cell_type": "code",
   "execution_count": 30,
   "metadata": {},
   "outputs": [
    {
     "name": "stdout",
     "output_type": "stream",
     "text": [
      "Result when no argument is entered:\n",
      "0.9605507399222575\n",
      "Result when the user enters an argument:\n",
      "[0.80372758 0.39265896 0.76032302 0.34198319 0.41972237 0.72660577\n",
      " 0.62526454 0.17102284 0.12689303 0.00644188 0.6181457  0.81932079\n",
      " 0.99320447 0.33410136 0.66474791 0.8393989  0.12505588 0.7880908\n",
      " 0.26409243 0.47528186 0.56446909 0.55152294 0.5355745 ]\n"
     ]
    }
   ],
   "source": [
    "random_sample = np.random.random_sample()\n",
    "# When no argument is entered one random floating point number is returned \n",
    "random_sample1 = np.random.random_sample(23)\n",
    "# When an argument is entered that number of floating point numbers are returned \n",
    "print(\"Result when no argument is entered:\")\n",
    "print(random_sample)\n",
    "print(\"Result when the user enters an argument:\")\n",
    "print(random_sample1)"
   ]
  },
  {
   "cell_type": "code",
   "execution_count": 43,
   "metadata": {},
   "outputs": [
    {
     "data": {
      "text/plain": [
       "Text(0.5, 1.0, '23 random floats generated in the half open interval [0.0, 1.0)')"
      ]
     },
     "execution_count": 43,
     "metadata": {},
     "output_type": "execute_result"
    },
    {
     "data": {
      "image/png": "[encoded data removed]",
      "text/plain": [
       "<Figure size 648x288 with 1 Axes>"
      ]
     },
     "metadata": {
      "needs_background": "light"
     },
     "output_type": "display_data"
    }
   ],
   "source": [
    "plt.plot(random_sample1, 'ro')\n",
    "# plot function called and 'ro' command used to ask for red dots\n",
    "plt.ylabel(\"Random floats\", fontsize= 10, fontweight= 'bold')\n",
    "plt.xlabel(\"numpy.random.random_sample generated 23 random floats\", fontsize= 10, fontweight= 'bold')\n",
    "plt.title(\"23 random floats generated in the half open interval [0.0, 1.0)\", fontsize= 12, fontweight= 'bold')\n",
    "# title, y label and x label given names and font size and weight formatted"
   ]
  },
  {
   "cell_type": "markdown",
   "metadata": {},
   "source": [
    "### Section 2.2 - Permutations\n",
    "\n",
    "**The official documentation for the Permutations function within the numpy.random package is here: https://docs.scipy.org/doc/numpy-1.16.0/reference/routines.random.html**\n",
    "\n",
    "Within Permutations there are 2 functins:\n",
    "\n",
    "* **shuffle(x)\tModify a sequence in-place by shuffling its contents.**\n",
    "* **permutation(x)\tRandomly permute a sequence, or return a permuted range.**"
   ]
  },
  {
   "cell_type": "code",
   "execution_count": null,
   "metadata": {},
   "outputs": [],
   "source": []
  },
  {
   "cell_type": "code",
   "execution_count": null,
   "metadata": {},
   "outputs": [],
   "source": []
  },
  {
   "cell_type": "markdown",
   "metadata": {},
   "source": [
    "Distributions - https://web.microsoftstream.com/video/e6f57177-0a17-45a5-8ca8-0e3191e887f8"
   ]
  },
  {
   "cell_type": "code",
   "execution_count": 30,
   "metadata": {},
   "outputs": [
    {
     "data": {
      "text/plain": [
       "array([3.80582189, 2.39819397, 4.57443086, 2.15591346, 3.42243087,\n",
       "       3.39334749, 4.04850246, 4.08291921, 4.13542314, 3.57502495])"
      ]
     },
     "execution_count": 30,
     "metadata": {},
     "output_type": "execute_result"
    }
   ],
   "source": [
    "import numpy as np\n",
    "np.random.uniform(2,5,10)"
   ]
  },
  {
   "cell_type": "markdown",
   "metadata": {},
   "source": [
    "numpy.random.uniform documentation: https://docs.scipy.org/doc/numpy-1.14.0/reference/generated/numpy.random.uniform.html\n",
    "There are 3 parameters in numpy.random.uniform - low, high and size"
   ]
  },
  {
   "cell_type": "code",
   "execution_count": 31,
   "metadata": {},
   "outputs": [],
   "source": [
    "x = np.random.uniform(0, 1000, 10000)"
   ]
  },
  {
   "cell_type": "code",
   "execution_count": 32,
   "metadata": {},
   "outputs": [
    {
     "name": "stderr",
     "output_type": "stream",
     "text": [
      "UsageError: Line magic function `%matplotlib.inline` not found.\n"
     ]
    },
    {
     "data": {
      "image/png": "[encoded data removed]",
      "text/plain": [
       "<Figure size 648x288 with 1 Axes>"
      ]
     },
     "metadata": {
      "needs_background": "light"
     },
     "output_type": "display_data"
    }
   ],
   "source": [
    "import matplotlib.pyplot as plt\n",
    "plt.hist(x)\n",
    "%matplotlib.inline"
   ]
  },
  {
   "cell_type": "markdown",
   "metadata": {},
   "source": [
    "Example taken from the lecture video on distributions: https://web.microsoftstream.com/video/e6f57177-0a17-45a5-8ca8-0e3191e887f8"
   ]
  },
  {
   "cell_type": "code",
   "execution_count": 33,
   "metadata": {},
   "outputs": [
    {
     "data": {
      "text/plain": [
       "array([ 1.10320335e-01,  9.74776181e-02,  8.76370633e-02,  2.01653805e-02,\n",
       "        7.69694358e-02, -3.60435396e-02,  1.58718368e-02,  3.83290913e-02,\n",
       "        5.10471616e-02, -4.58239167e-02, -6.05324169e-02,  1.95714190e-01,\n",
       "       -6.52591431e-02,  2.96403539e-01,  7.52590142e-02,  5.14062461e-02,\n",
       "        5.24297483e-02, -4.95220327e-02, -4.56267181e-03,  2.92510019e-02,\n",
       "        1.63945437e-01,  1.12085750e-01, -1.77896088e-02,  9.90683249e-02,\n",
       "       -1.26611404e-01, -1.58934469e-02, -1.04431277e-01,  5.55483880e-02,\n",
       "        1.11637871e-01,  8.25732965e-02, -1.12988322e-01, -2.38395724e-02,\n",
       "        4.97542111e-02, -9.23465171e-02,  1.27450769e-01,  1.30858821e-01,\n",
       "       -8.36671336e-03, -6.32056357e-02, -1.26036742e-01, -8.90245734e-02,\n",
       "       -3.63060901e-02, -1.09474600e-01,  5.24247446e-02, -5.71713615e-03,\n",
       "        7.32187664e-02, -8.72279901e-02, -4.06302779e-02, -6.21293808e-02,\n",
       "       -6.43568244e-02, -1.11898269e-01,  4.36123667e-03,  3.18033776e-02,\n",
       "       -9.55848753e-02, -1.05597520e-01, -3.26505074e-03, -2.97555833e-02,\n",
       "       -1.72030550e-03,  3.53725807e-02, -3.20114280e-02, -7.94559325e-02,\n",
       "        4.71487610e-02, -1.95902056e-01, -1.16455747e-01, -9.02489921e-02,\n",
       "        2.00422178e-01,  1.32244301e-01,  8.11036319e-02, -5.16846871e-02,\n",
       "       -8.31190836e-02,  3.38044594e-02,  9.52140862e-03, -1.15852001e-01,\n",
       "        2.29765375e-01, -4.52109460e-02,  1.37428387e-01,  3.41837014e-02,\n",
       "       -7.41935090e-02,  2.22662854e-01, -4.74312298e-02,  1.58433699e-01,\n",
       "       -5.64643815e-02,  9.53933340e-02,  4.84503544e-02,  6.34860530e-02,\n",
       "        1.18646638e-01,  6.18860121e-02, -2.56189016e-02, -6.21143246e-02,\n",
       "        1.78602516e-03, -6.52711136e-02,  1.62319532e-01, -8.35229151e-02,\n",
       "        9.01389218e-02, -1.41531299e-02,  9.35807017e-02,  7.57499570e-02,\n",
       "        1.88594295e-02, -1.56840075e-01,  5.68728864e-02, -2.67975723e-01,\n",
       "        1.27654239e-01, -6.21780456e-02, -8.74148666e-02,  1.83834557e-02,\n",
       "        5.80071692e-02, -5.08728027e-02, -2.97860391e-03, -6.82101475e-02,\n",
       "        4.54866969e-02, -2.59941121e-02,  1.54239419e-01,  1.00110389e-01,\n",
       "       -2.86027932e-02, -2.15384493e-04,  6.58180060e-02,  2.60444986e-02,\n",
       "       -9.74787749e-02,  7.26908642e-02,  5.98020224e-02,  6.30735700e-02,\n",
       "        8.23146454e-02, -3.51949820e-02, -1.66215705e-01, -1.88721955e-01,\n",
       "        8.05187158e-03, -1.18582088e-02, -1.57237705e-01,  5.13124909e-02,\n",
       "        9.60106780e-03,  8.49849232e-02, -3.63071335e-02,  4.50243903e-02,\n",
       "        8.49964382e-02,  2.50086062e-02,  1.88045541e-01,  1.50517272e-02,\n",
       "        9.82920815e-02,  5.61381447e-02, -7.17465510e-02, -1.71863176e-01,\n",
       "       -1.84517571e-02,  2.15566751e-02,  9.43401568e-03,  1.78505136e-01,\n",
       "       -1.80813481e-01,  2.98087593e-02,  1.18745203e-01,  1.19214673e-02,\n",
       "        6.66189910e-02, -1.35997457e-01,  2.07533110e-03,  5.85128098e-02,\n",
       "        1.34606001e-03,  3.29833836e-01,  1.73366669e-02, -1.99350166e-01,\n",
       "       -3.68028832e-02,  2.16336485e-01,  4.78657898e-02,  2.64221037e-02,\n",
       "       -1.39207644e-03,  2.52967835e-02, -1.76837081e-01,  1.05700251e-01,\n",
       "        6.61996608e-02,  5.96077381e-02,  4.63537421e-02,  3.83876468e-02,\n",
       "        1.61591234e-01,  9.86022502e-02, -1.22531150e-01, -6.88982039e-02,\n",
       "       -7.66201997e-02,  6.67845952e-02, -5.91340065e-02,  1.30402416e-01,\n",
       "        1.25430984e-01,  9.53399201e-02, -1.03887328e-01,  4.36161523e-02,\n",
       "       -1.98314628e-01,  1.51026005e-01, -2.32954847e-03,  5.84070432e-02,\n",
       "       -5.94687476e-02,  4.15324099e-02,  9.32969900e-02,  2.23518543e-02,\n",
       "        1.86444947e-01,  1.08243527e-01, -1.37864516e-01,  1.89882406e-01,\n",
       "       -3.59626411e-02, -1.75854691e-01,  1.87527494e-01, -1.39956512e-01,\n",
       "        3.16700261e-02,  1.61619073e-01,  1.96376862e-02, -7.56178586e-02,\n",
       "       -8.12209031e-02,  1.05194891e-01, -6.32905622e-02, -5.25883099e-02,\n",
       "       -1.47025818e-01,  4.12026942e-02,  1.10876616e-01,  2.98078122e-02,\n",
       "       -5.30103928e-02,  1.12038952e-01, -3.86514928e-02, -1.46892592e-01,\n",
       "       -3.26491623e-02, -4.11588975e-02, -1.92241578e-01,  1.70773436e-01,\n",
       "       -1.91539337e-01, -3.75995410e-02, -5.68420901e-03,  1.07934672e-01,\n",
       "        1.53861281e-01, -8.35932730e-02, -1.14986099e-01, -8.94167445e-02,\n",
       "       -3.10986180e-02, -5.17136829e-02,  2.73239033e-03, -9.34932216e-02,\n",
       "       -9.04852113e-02,  4.09026040e-02, -9.27935196e-02,  1.44596151e-01,\n",
       "       -1.96621749e-02, -2.34526010e-01,  6.86756821e-02,  1.91215742e-02,\n",
       "       -2.47868786e-01, -1.59718401e-01,  9.34771001e-02, -1.85160300e-02,\n",
       "        2.49283404e-01,  2.49408168e-02, -5.83864721e-02,  6.99406234e-02,\n",
       "       -2.27112783e-01, -4.55748905e-02,  1.64995500e-02,  3.10238615e-02,\n",
       "        1.54974510e-02,  8.49401697e-02, -7.84475142e-03,  2.69979154e-02,\n",
       "       -1.49748329e-01,  1.62921653e-01,  5.45946385e-02, -7.81641310e-02,\n",
       "       -7.61867217e-02,  7.47920895e-03, -1.21003642e-01, -3.62335482e-02,\n",
       "       -1.50163505e-01, -7.50510177e-02,  1.56257134e-01, -8.67408244e-02,\n",
       "        3.28995717e-03,  4.04391012e-03, -5.73982274e-02,  1.07166827e-01,\n",
       "       -2.09652104e-01,  8.06530274e-02,  1.48454433e-01,  1.06101009e-01,\n",
       "        7.81231260e-02, -1.61339221e-01,  8.68296000e-02,  1.16797176e-01,\n",
       "       -2.18691184e-01,  1.00138312e-02,  3.13919660e-02, -1.43824971e-02,\n",
       "        5.71396609e-03, -8.47015793e-02,  1.10391174e-01,  2.08408197e-01,\n",
       "       -1.53303468e-01, -1.51758376e-01, -1.18697992e-02,  2.09874384e-01,\n",
       "        5.34158989e-02, -7.57605632e-02,  4.89478849e-02, -2.85990463e-02,\n",
       "       -6.99742009e-02, -1.33299803e-01, -8.73279238e-02,  8.32109199e-02,\n",
       "        1.98261900e-02,  1.24126242e-01, -1.61274898e-01,  1.21189411e-02,\n",
       "       -2.26690196e-01,  5.51812581e-02,  7.73335388e-02,  1.68302342e-01,\n",
       "       -2.26204914e-01,  1.82554860e-02, -3.57301750e-02, -3.75427545e-02,\n",
       "       -1.67917051e-01, -3.34192769e-02,  3.38102048e-02,  1.21275789e-01,\n",
       "       -5.41214672e-02, -1.96103348e-01, -4.89259265e-02,  1.73773531e-02,\n",
       "       -1.62489766e-01, -1.60646150e-02, -1.03164316e-01, -1.67308910e-02,\n",
       "        2.80391908e-01, -7.95075684e-02, -1.88446472e-02,  1.32659586e-01,\n",
       "        3.78620756e-02,  9.42820549e-03,  4.81845057e-02,  8.63559276e-02,\n",
       "       -1.88922853e-01, -4.55150787e-03,  2.51923432e-02,  7.81586356e-02,\n",
       "       -4.69643341e-02,  1.19684443e-01, -4.85575644e-02, -9.05174883e-02,\n",
       "        1.88307923e-02,  5.69572679e-02,  3.82518595e-02, -9.40046197e-02,\n",
       "        6.53557129e-02, -1.29017524e-01,  4.18233751e-03,  9.76885774e-02,\n",
       "        1.20314862e-01,  3.62860758e-02,  1.39969109e-01, -4.69393099e-02,\n",
       "        9.48197948e-02, -9.13849506e-02,  5.69500516e-02,  1.67076759e-02,\n",
       "        3.28479358e-02, -2.26006805e-01, -1.17551135e-01, -1.09641606e-01,\n",
       "       -6.66524157e-02,  1.06521889e-01,  6.57148206e-02,  8.26800946e-02,\n",
       "        4.34622699e-03, -5.97582791e-03,  1.63819076e-02,  7.58062647e-02,\n",
       "       -5.20860325e-02, -1.04133347e-01,  1.20156466e-02, -7.13808679e-02,\n",
       "        1.73479874e-01,  1.28261369e-01,  1.19708873e-01, -1.73989537e-01,\n",
       "        1.00014721e-01,  3.56604699e-02,  7.58443691e-02,  1.50646494e-01,\n",
       "       -4.96249140e-02,  1.69201908e-01, -7.57956993e-02, -1.23727774e-02,\n",
       "        9.78605339e-03, -6.41298009e-02, -3.59777694e-02, -8.40759404e-02,\n",
       "        3.02397326e-02,  5.43995347e-02, -1.32462079e-01,  3.30726121e-02,\n",
       "       -4.51149998e-02, -1.45206704e-01, -5.70089987e-02, -2.83632133e-01,\n",
       "       -3.34507049e-02,  1.70094139e-03,  6.34207056e-02, -7.91590084e-02,\n",
       "        2.07358845e-01, -1.22239578e-01, -4.57485459e-02, -7.77128157e-02,\n",
       "       -1.45196882e-01, -2.27420318e-02, -6.54897695e-02,  4.51057049e-02,\n",
       "       -4.18650011e-02,  4.27717786e-02,  2.18466499e-02, -2.15239859e-02,\n",
       "        2.22701861e-02, -2.51837317e-01, -9.23343958e-02,  2.32255127e-03,\n",
       "       -2.27261334e-02, -9.66113490e-02, -1.77128400e-02, -8.02479677e-02,\n",
       "       -5.71232736e-02, -2.07610406e-02,  3.50523522e-03, -1.67568558e-01,\n",
       "       -1.13286734e-01, -7.11969379e-03,  4.40888758e-02,  1.08494955e-01,\n",
       "        2.33027351e-01,  1.24939979e-02,  1.27435963e-01, -7.06675785e-02,\n",
       "       -1.62618200e-01, -6.99679442e-02, -1.04416868e-01,  1.03938101e-01,\n",
       "        3.22298095e-02, -1.16335523e-01,  2.02226480e-01,  3.39535980e-02,\n",
       "       -1.33761538e-01,  7.77516143e-02,  2.74314465e-03,  2.36402428e-02,\n",
       "        4.59278751e-02,  1.93141033e-01, -3.27947809e-02,  2.37620860e-01,\n",
       "       -4.74876034e-03, -5.71251246e-02, -1.49475621e-01, -3.06667615e-02,\n",
       "       -6.37487713e-03,  4.33853726e-02,  1.84170635e-02,  1.65514618e-01,\n",
       "        7.78063418e-03, -1.79039941e-01, -6.98640777e-02,  7.09966592e-03,\n",
       "       -6.32203285e-02, -8.85681530e-02,  4.57444349e-02, -2.03032686e-03,\n",
       "       -7.19219993e-02, -1.58816395e-01, -8.34163144e-02, -9.51013393e-02,\n",
       "       -1.75393885e-01,  4.61075836e-03,  2.00749769e-01, -8.12596868e-04,\n",
       "        1.11420825e-01,  6.40385149e-02, -6.58750052e-03, -4.41210108e-02,\n",
       "        2.75019093e-02,  9.73320764e-02, -1.37192815e-02, -3.13282679e-02,\n",
       "        1.10611053e-01, -9.06001095e-02, -9.49062758e-02,  3.23482492e-02,\n",
       "       -5.20998827e-02,  1.59541060e-02, -9.15491431e-02,  1.00339408e-01,\n",
       "       -8.25627361e-02, -3.34527327e-02, -1.42229315e-01,  7.73444305e-02,\n",
       "       -1.28810867e-02, -2.33760533e-01, -2.02948130e-01, -3.68458677e-03,\n",
       "       -1.32866610e-02, -7.07106446e-02,  1.10529839e-01,  1.17346909e-02,\n",
       "        2.08568508e-02,  8.54536414e-02,  1.18586922e-01, -7.61416506e-02,\n",
       "        1.05007279e-01,  1.22295958e-01, -9.41257837e-02,  1.50085852e-01,\n",
       "        1.06444735e-01,  1.50098812e-02,  2.42122653e-02,  2.57815970e-01,\n",
       "        1.41195465e-02,  5.30519682e-02, -2.38512208e-03,  8.36360095e-02,\n",
       "       -8.21820032e-02, -7.03074172e-02, -9.47626794e-02,  9.33773863e-02,\n",
       "       -3.83044331e-02,  6.50994768e-03, -1.98000874e-02,  1.74426279e-01,\n",
       "       -8.09251898e-02, -1.15515163e-01, -9.92427485e-02,  1.41189844e-01,\n",
       "       -5.65372251e-02, -3.65128781e-02, -1.64252960e-02,  6.69154402e-02,\n",
       "       -6.94169327e-02, -5.57681022e-02,  9.77359477e-02, -5.79788973e-02,\n",
       "       -5.39305681e-02,  4.61065171e-02,  1.57604871e-02,  1.73039873e-01,\n",
       "       -1.86096954e-01,  1.16715303e-01, -2.59795528e-02, -3.22634247e-02,\n",
       "        1.60897786e-02,  8.37395991e-02,  1.59447392e-02,  2.27732709e-03,\n",
       "        1.41715792e-02, -7.93393020e-02,  5.39453458e-02,  5.40655292e-02,\n",
       "        1.69605409e-01, -3.11525800e-02, -6.47181053e-02,  1.04263462e-02,\n",
       "       -9.59106377e-02, -6.46332099e-02, -1.10521006e-02, -1.19896188e-01,\n",
       "       -3.07151412e-02, -3.05329103e-02, -1.20144922e-01,  4.35239900e-02,\n",
       "       -1.72488953e-01, -1.03391120e-01,  1.36877899e-01, -5.27419778e-02,\n",
       "        1.28666504e-01, -1.14599759e-02,  1.76522771e-02, -4.35056182e-03,\n",
       "       -3.85322423e-02, -7.70815648e-02,  2.74860613e-02, -7.44123393e-02,\n",
       "       -4.74445716e-02,  1.08457872e-01, -1.26171591e-01, -2.31942580e-01,\n",
       "       -1.17893025e-01,  8.72309688e-02,  5.50892325e-02,  7.60584456e-02,\n",
       "        7.97459219e-02, -5.20468209e-02,  2.90201841e-02, -1.33118491e-01,\n",
       "        4.87625760e-02, -3.77942922e-02,  1.40049887e-01,  5.71649564e-02,\n",
       "       -7.87852809e-02, -1.45355957e-01,  9.14725805e-02, -1.33621133e-01,\n",
       "       -1.77361935e-02, -8.13939470e-02,  1.26676753e-01,  1.90564117e-01,\n",
       "        2.48690346e-03,  1.48343038e-01,  1.04169493e-01,  1.32786890e-01,\n",
       "       -2.25413613e-02,  1.06660523e-01, -7.74423410e-02,  1.49402654e-01,\n",
       "        5.44899328e-02, -8.22916297e-02,  8.90276733e-02, -7.35111218e-02,\n",
       "       -1.22187304e-01,  1.53799059e-02, -1.05953361e-02,  9.03241856e-02,\n",
       "       -7.89931040e-02,  1.51959955e-02,  1.04159536e-01,  5.41684693e-02,\n",
       "       -1.44422536e-02,  1.68725428e-01,  1.42313164e-01,  1.56440149e-02,\n",
       "       -1.33517475e-01,  1.23173905e-01, -1.46015779e-01,  3.01716176e-02,\n",
       "       -4.73913313e-02, -1.18868583e-01, -9.96070201e-02,  6.54487176e-02,\n",
       "       -1.09490166e-02,  2.17601090e-01, -1.40051784e-02, -6.26294278e-03,\n",
       "       -6.03644392e-02, -2.41684327e-02, -9.09539015e-02,  9.12432660e-02,\n",
       "        2.17528907e-01,  2.89413517e-02, -4.32821206e-02, -6.42923309e-03,\n",
       "        3.88701938e-02,  7.87007734e-02,  8.02703227e-02,  3.45409109e-02,\n",
       "       -1.81659110e-01, -1.69373293e-01, -1.39783170e-01, -1.42436973e-01,\n",
       "        2.70516291e-01, -5.63947468e-02, -1.52975443e-01, -7.55714844e-03,\n",
       "       -7.54800837e-02, -2.12632756e-02,  4.22272149e-02,  2.61703086e-02,\n",
       "        4.02285455e-03,  6.34569606e-02, -7.10507344e-02,  3.44092409e-02,\n",
       "        1.07842199e-01, -1.20003522e-03, -1.14408462e-01,  3.29783132e-02,\n",
       "       -1.28814988e-01, -1.07621509e-01, -3.09617826e-02, -1.58448738e-01,\n",
       "        1.24861402e-01, -9.19421545e-02, -1.07288561e-01,  2.12674311e-01,\n",
       "       -1.09228942e-01, -8.46469876e-02, -5.58896036e-02, -4.47872058e-02,\n",
       "       -7.70572084e-02, -1.33565618e-01, -2.06061010e-01,  5.16950122e-02,\n",
       "       -1.06034110e-01,  4.78425004e-02, -1.06791759e-01, -1.23273059e-01,\n",
       "       -1.43554015e-02, -1.80190415e-01,  2.12283605e-02,  5.84020195e-02,\n",
       "        9.90726315e-02,  9.59975187e-02,  6.96416826e-02,  1.44431763e-01,\n",
       "       -3.92747295e-02, -2.71492202e-02, -2.15442201e-01, -4.31283406e-02,\n",
       "        1.40182126e-01, -6.91041499e-02, -1.19752518e-01,  3.78730225e-02,\n",
       "       -1.53796296e-01, -2.00218071e-02,  1.14020454e-01,  1.07257274e-01,\n",
       "        1.54826769e-02,  8.98392455e-03, -4.88722035e-02, -9.77630156e-02,\n",
       "        6.38912494e-02,  6.71506990e-02,  8.99580713e-02, -7.10201288e-02,\n",
       "       -1.76624680e-01,  1.61615926e-01, -1.21941783e-01, -8.02485426e-02,\n",
       "       -1.34502105e-01, -2.04037063e-01,  1.05897326e-01, -8.02322059e-02,\n",
       "        7.81903947e-02,  4.92396576e-02,  2.61727711e-02, -2.04781595e-02,\n",
       "       -1.27944977e-01, -2.34364632e-02,  2.02279447e-01, -3.22856728e-03,\n",
       "        6.25098016e-02, -4.19214007e-02, -1.45922501e-01,  2.21921502e-01,\n",
       "        1.20545063e-01,  1.05679572e-01,  6.79292875e-02, -1.95131728e-01,\n",
       "       -1.82882744e-01,  1.28271095e-02,  4.98244454e-02,  8.21912818e-02,\n",
       "       -1.42448624e-01,  6.62165562e-02, -4.43842103e-02,  1.16639199e-01,\n",
       "        2.02705654e-01, -1.27231353e-01,  2.73363610e-02, -9.81028254e-02,\n",
       "       -5.79191156e-02,  4.64137504e-03,  2.80250640e-02,  3.82416898e-03,\n",
       "       -1.43761735e-01, -4.67675511e-02,  1.12266747e-02, -1.23110925e-02,\n",
       "       -8.61975486e-02,  1.75086320e-01, -7.17964381e-02,  6.37689246e-02,\n",
       "       -1.11296739e-02, -2.06299440e-02, -1.39571425e-02,  3.17310888e-02,\n",
       "       -1.37208688e-01,  3.29644942e-02,  1.18441213e-01, -4.43374677e-02,\n",
       "        6.17061276e-02,  1.06506288e-01, -1.19856373e-01,  5.78066661e-02,\n",
       "       -7.90482313e-02,  1.23354443e-01, -9.70954336e-02, -1.50762213e-01,\n",
       "        7.41386263e-02, -2.81979541e-02,  5.38745478e-03, -7.84255093e-02,\n",
       "        4.83621366e-02,  1.32958659e-03,  1.20115562e-01,  1.77897604e-02,\n",
       "        7.55146873e-02, -1.17774266e-02, -8.22262111e-02, -2.21541120e-02,\n",
       "        4.77512757e-02,  5.59802029e-02, -1.28473528e-01,  8.17916999e-02,\n",
       "        1.09902222e-01,  6.22628140e-02,  5.26536515e-03,  1.18431728e-01,\n",
       "       -1.99688701e-02,  9.48412713e-03, -2.33561259e-01,  5.18076854e-02,\n",
       "       -8.78832395e-02,  1.56450471e-01, -1.13631529e-01,  4.80075318e-02,\n",
       "       -1.12551488e-02,  1.05271374e-01, -7.95015246e-02,  4.45329418e-02,\n",
       "        1.98484307e-02,  3.93091299e-02, -1.28515505e-01,  9.74002056e-02,\n",
       "        1.11083828e-01,  1.04647910e-01, -1.81826500e-01,  1.87378446e-01,\n",
       "       -1.42323706e-01,  3.23961713e-03,  8.36440439e-02, -9.88844123e-02,\n",
       "       -1.59337247e-01,  4.17185980e-02,  2.56434878e-02, -4.82033342e-02,\n",
       "       -1.08527869e-01, -9.33731632e-02,  3.31254531e-03,  2.11316399e-01,\n",
       "       -2.10536461e-02,  6.37115640e-02, -9.27182316e-02, -1.11799474e-01,\n",
       "       -1.36490477e-02, -9.20357511e-02,  1.45564289e-02,  7.48562348e-02,\n",
       "       -7.85212064e-02,  1.06871720e-01,  1.00409908e-01, -1.15454498e-01,\n",
       "       -1.87470961e-01,  1.38030578e-01,  8.21122641e-02,  6.94460052e-02,\n",
       "        8.34187102e-02,  5.24064325e-02, -3.55530600e-02,  9.23339376e-02,\n",
       "        1.91181523e-02, -1.95080632e-02,  2.19228967e-01, -8.98487586e-02,\n",
       "        7.81040714e-02,  9.74414439e-02,  5.57119804e-02, -9.80627953e-02,\n",
       "        1.80008613e-02,  9.26433477e-02,  1.99501262e-01, -5.11678984e-02,\n",
       "        6.37271220e-02, -2.32072889e-02,  8.42207184e-02, -1.00550147e-01,\n",
       "        1.78698215e-01,  2.18202320e-01, -1.24295716e-01, -5.08331589e-02,\n",
       "        4.98220958e-02,  2.39196123e-01, -4.47431063e-02,  8.95223941e-02,\n",
       "       -9.35680182e-02,  9.86855247e-02,  5.97596364e-02, -2.56326021e-02,\n",
       "       -8.25521955e-02, -5.50275556e-02, -5.55816927e-02, -1.29721221e-02,\n",
       "       -2.11193778e-02,  1.31315800e-01,  5.49389233e-02, -2.13313661e-01,\n",
       "        1.48320312e-01, -4.33373175e-02,  1.44130955e-01,  1.54653306e-02,\n",
       "        1.82479666e-01, -6.91433609e-02, -1.64158868e-02, -3.24054153e-02,\n",
       "       -2.30178908e-02,  5.46823019e-02, -9.78171001e-02, -1.28392203e-01,\n",
       "       -1.75360032e-01,  2.04503740e-01, -2.90827870e-02, -3.79123952e-03,\n",
       "       -2.54247804e-01, -2.08302145e-01,  1.27511075e-01,  5.51761089e-02,\n",
       "       -9.60394835e-02,  5.33865385e-02, -2.07386429e-01,  9.69416121e-02,\n",
       "        2.36121384e-01, -3.39534022e-02, -2.81794543e-02, -5.20713391e-02,\n",
       "       -3.15490695e-02,  1.82478313e-02,  1.29135013e-01, -2.05618694e-01,\n",
       "       -3.61189249e-02, -2.24993073e-01,  6.65358316e-02,  6.47729024e-02,\n",
       "       -4.67625493e-02,  1.71012077e-01, -2.82786302e-03,  3.36144205e-02,\n",
       "       -1.05609410e-01,  1.13418259e-01,  1.12719741e-01,  8.82910113e-02,\n",
       "        1.58013189e-01,  1.40920097e-01,  1.17262206e-01, -1.26593419e-01,\n",
       "       -1.40689213e-02, -2.23315377e-02,  1.49862852e-01,  5.06500600e-02,\n",
       "       -2.02001467e-01, -5.57137098e-03,  1.73460826e-02,  8.17725965e-02,\n",
       "        1.04776041e-01, -4.00355505e-02,  2.22861508e-02, -1.15119309e-01,\n",
       "        4.08900984e-02, -1.10238655e-01,  2.79915071e-02,  7.42139817e-02,\n",
       "        1.85467132e-02,  2.73898556e-01, -2.07955543e-01,  2.08423099e-01,\n",
       "        4.83783102e-02, -4.09791578e-02,  1.17337045e-01,  2.67594795e-02,\n",
       "        6.85515439e-02,  1.37161497e-01, -7.21188493e-02,  9.13403090e-02,\n",
       "       -9.98221973e-02, -8.38753996e-02, -1.83836646e-01, -7.74631548e-02,\n",
       "        1.20702549e-02,  1.32972676e-01,  1.03062610e-01, -1.51429925e-02,\n",
       "       -1.26351454e-01, -3.46066673e-02, -8.49532147e-02, -9.06582993e-02,\n",
       "       -1.07071891e-01,  6.38447651e-02, -3.86790771e-02,  3.93685296e-02,\n",
       "        1.00293138e-01, -1.35385578e-01,  9.78016808e-02,  2.85764429e-02,\n",
       "        9.66687875e-02,  5.33924567e-02,  7.59815152e-02, -1.61149831e-01,\n",
       "        6.41990629e-02,  2.67347865e-02,  1.23518488e-01, -1.58235731e-01,\n",
       "        5.27082225e-02, -7.65842619e-02, -1.59751458e-02,  2.31394408e-02,\n",
       "       -2.22510137e-02, -1.68400616e-02,  1.38181943e-01, -5.09037888e-02,\n",
       "        1.81537283e-01,  1.80082384e-01,  8.31316528e-02,  5.29854360e-02])"
      ]
     },
     "execution_count": 33,
     "metadata": {},
     "output_type": "execute_result"
    }
   ],
   "source": [
    "np.random.normal(0, 0.1, 1000)"
   ]
  },
  {
   "cell_type": "markdown",
   "metadata": {},
   "source": [
    "numpy.random.normal distribution - a way of generating numbers randomly........"
   ]
  },
  {
   "cell_type": "code",
   "execution_count": 34,
   "metadata": {},
   "outputs": [],
   "source": [
    "x = np.random.normal(0, 0.1, 1000)"
   ]
  },
  {
   "cell_type": "code",
   "execution_count": 35,
   "metadata": {},
   "outputs": [
    {
     "data": {
      "text/plain": [
       "(array([  6.,  38.,  74., 146., 219., 232., 171.,  78.,  26.,  10.]),\n",
       " array([-0.32147198, -0.25879203, -0.19611208, -0.13343213, -0.07075217,\n",
       "        -0.00807222,  0.05460773,  0.11728768,  0.17996763,  0.24264758,\n",
       "         0.30532753]),\n",
       " <a list of 10 Patch objects>)"
      ]
     },
     "execution_count": 35,
     "metadata": {},
     "output_type": "execute_result"
    },
    {
     "data": {
      "image/png": "[encoded data removed]",
      "text/plain": [
       "<Figure size 648x288 with 1 Axes>"
      ]
     },
     "metadata": {
      "needs_background": "light"
     },
     "output_type": "display_data"
    }
   ],
   "source": [
    "plt.hist(x)"
   ]
  },
  {
   "cell_type": "markdown",
   "metadata": {},
   "source": [
    "Taken from the lecture video 'Distributions': https://web.microsoftstream.com/video/e6f57177-0a17-45a5-8ca8-0e3191e887f8"
   ]
  },
  {
   "cell_type": "code",
   "execution_count": null,
   "metadata": {},
   "outputs": [],
   "source": []
  },
  {
   "cell_type": "code",
   "execution_count": null,
   "metadata": {},
   "outputs": [],
   "source": []
  }
 ],
 "metadata": {
  "kernelspec": {
   "display_name": "Python 3",
   "language": "python",
   "name": "python3"
  },
  "language_info": {
   "codemirror_mode": {
    "name": "ipython",
    "version": 3
   },
   "file_extension": ".py",
   "mimetype": "text/x-python",
   "name": "python",
   "nbconvert_exporter": "python",
   "pygments_lexer": "ipython3",
   "version": "3.7.1"
  }
 },
 "nbformat": 4,
 "nbformat_minor": 2
}
