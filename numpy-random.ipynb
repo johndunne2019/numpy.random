{
 "cells": [
  {
   "cell_type": "markdown",
   "metadata": {},
   "source": [
    "# The numpy.random package"
   ]
  },
  {
   "cell_type": "markdown",
   "metadata": {},
   "source": [
    "## Assignment submission - Programming for Data Analysis 2019"
   ]
  },
  {
   "cell_type": "markdown",
   "metadata": {},
   "source": [
    "![NumPy.png](https://i2.wp.com/www.simplifiedpython.net/wp-content/uploads/2018/11/Python-NumPy-14.png?resize=595%2C233&ssl=1)\n",
    "\n",
    "Image taken from: https://i2.wp.com/www.simplifiedpython.net/wp-content/uploads/2018/11/Python-NumPy-14.png?resize=595%2C233&ssl=1"
   ]
  },
  {
   "cell_type": "markdown",
   "metadata": {},
   "source": [
    "### Author John Dunne G00273895\n",
    "\n",
    "**Full details on how to download and run this jupyter notebook are included in the Readme file in my repository: https://github.com/johndunne2019/numpy.random**"
   ]
  },
  {
   "cell_type": "markdown",
   "metadata": {},
   "source": [
    "### About this jupyter notebook\n",
    "This jupyter notebook concerns the numpy.random package in Python. In completing this notebook I will try to explain in detail the use of the numpy.random package in Python using explanations and examples. I will keep a detailed list of all references that I have used in researching my work. I will break this jupyter notebook into sections and at the end of each section I will include a list of all resources and references pertaining to that section of the notebook. Any quotations or images that I have taken directly from outside sources will be clearly marked with the relevant details."
   ]
  },
  {
   "cell_type": "markdown",
   "metadata": {},
   "source": [
    "### Table of Contents\n",
    "\n",
    "* Section 0 - Introduction to NumPy\n",
    "* Section 1 - What is numpy.random and what is the overall purpose of the package?\n",
    "* Section 2 - \"Simple Random Data\" and \"Permutations\"\n",
    "    * Section 2.1 - Simple Random Data\n",
    "        * Section 2.1.1- numpy.random.rand\n",
    "        * Section 2.1.2- numpy.random.randn\n",
    "        * Section 2.1.3 - numpy.random.bytes\n",
    "        * Section 2.1.4 - numpy.random.random_sample\n",
    "    * Section 2.2 - Permutations\n",
    "        * Section 2.2.1 - numpy.random.shuffle\n",
    "        * Section 2.2.2 - numpy.random.permutation\n",
    "* Section 3 - Distributions\n",
    "    * Section 3.0 - What is a probability Distribution?\n",
    "    * Section 3.1 - normal([loc, scale, size])\n",
    "    * Section 3.2 - uniform([low, high, size])\n",
    "    * Section 3.3 - standard_normal([size])\n",
    "    * Section 3.4 - binomial(n, p, size=None)"
   ]
  },
  {
   "cell_type": "markdown",
   "metadata": {},
   "source": [
    "## Section 0 - Introduction to NumPy\n",
    "\n",
    "**Before looking at numpy.random which is the main focus of this assignment I want to look at the NumPy package and give a general overview of some of the functions and features of the package.**\n",
    "\n",
    "* The official NumPy documentation: https://numpy.org/ \n",
    "* The quickstart tutorial https://numpy.org/devdocs/user/quickstart.html \n",
    "* What is NumPy: https://docs.scipy.org/doc/numpy-1.13.0/user/whatisnumpy.html\n",
    "\n",
    "The user can interact either directly with the NumPY package or more commonly through the use of another package such as pandas or SciPy. \n",
    "\n",
    "**One important point to point about NumPy is that it is an important package as lots of other packages are built on top of NumPy including pandas.**\n",
    "\n",
    "The main purpose a user would use NumPy is to deal with multidimensional arrays. An array is a table of elements that contains data all of the same type, usually numbers. An example array would look like [1,2,3,4]. A multidimensional array is effectively lists within lists.\n",
    "\n",
    "The array class in NumPy is known as ndarray or numpy.array and within this class there are many functions that can be used to manipulate datas within arrays. \n",
    "\n",
    "**Some features of the numpy.array class are:**\n",
    "\n",
    "* ndarray.ndim - returns the number of axes in an array\n",
    "* ndarray.shape - returns the dimensions of the array, for example the number of rows and columns\n",
    "* ndarray.size - the total number of elements in the array\n",
    "* ndarray.dtype - returns the data type of the elements in the array\n",
    "\n",
    "**I have also looked at the below features of NumPy:**\n",
    "\n",
    "* numpy.arange - used to return the array of numbers for a given parameter\n",
    "* numpy.reshape - can be used to re shape an array\n",
    "* numpy.linspace - used to generate a range of random numbers between given parameters \n",
    "\n",
    "**I have shown some basic examples below of how NumPy can be usd to generate arrays and work with arrays:**"
   ]
  },
  {
   "cell_type": "code",
   "execution_count": 1,
   "metadata": {},
   "outputs": [
    {
     "data": {
      "text/plain": [
       "array([5, 6, 8, 9])"
      ]
     },
     "execution_count": 1,
     "metadata": {},
     "output_type": "execute_result"
    }
   ],
   "source": [
    "import numpy as np\n",
    "# imported numpy as given the shortened name np\n",
    "b = np.array([5, 6, 8, 9])\n",
    "# numpy.array is used to generate an array of numbers \n",
    "b\n",
    "# called the value b which is shown in output below:"
   ]
  },
  {
   "cell_type": "code",
   "execution_count": 2,
   "metadata": {},
   "outputs": [
    {
     "data": {
      "text/plain": [
       "1"
      ]
     },
     "execution_count": 2,
     "metadata": {},
     "output_type": "execute_result"
    }
   ],
   "source": [
    "# ndarray.ndim - returns the number of axes in an array\n",
    "b.ndim\n",
    "# the ndarray.ndim function within numpy is called on the array that I have set above\n",
    "# The result in this case is that there is only one axes of data"
   ]
  },
  {
   "cell_type": "code",
   "execution_count": 3,
   "metadata": {},
   "outputs": [
    {
     "data": {
      "text/plain": [
       "(4,)"
      ]
     },
     "execution_count": 3,
     "metadata": {},
     "output_type": "execute_result"
    }
   ],
   "source": [
    "# ndarray.shape - returns the dimensions of the array, for example the number of rows and columns\n",
    "b.shape\n",
    "# the ndarray.shape function is called on the array that I have set above\n",
    "# In this case the result is 4 only.\n",
    "# The reshape function can be used to reshape the data and I will show a example further down this notebook"
   ]
  },
  {
   "cell_type": "code",
   "execution_count": 4,
   "metadata": {},
   "outputs": [
    {
     "data": {
      "text/plain": [
       "4"
      ]
     },
     "execution_count": 4,
     "metadata": {},
     "output_type": "execute_result"
    }
   ],
   "source": [
    "# ndarray.size - the total number of elements in the array\n",
    "b.size\n",
    "# I have called the ndarray.size function on the array that I have set equal to b\n",
    "# In this case there are 4 elements within the array"
   ]
  },
  {
   "cell_type": "code",
   "execution_count": 5,
   "metadata": {},
   "outputs": [
    {
     "data": {
      "text/plain": [
       "dtype('int32')"
      ]
     },
     "execution_count": 5,
     "metadata": {},
     "output_type": "execute_result"
    }
   ],
   "source": [
    "# ndarray.dtype - returns the data type of the elements in the array\n",
    "b.dtype\n",
    "# I have called the ndarray.dtype function\n",
    "# The result here is the data types in this array are integers represented in 32 bit format"
   ]
  },
  {
   "cell_type": "code",
   "execution_count": 6,
   "metadata": {},
   "outputs": [
    {
     "data": {
      "text/plain": [
       "array([2.        , 2.30769231, 2.61538462, 2.92307692, 3.23076923,\n",
       "       3.53846154, 3.84615385, 4.15384615, 4.46153846, 4.76923077,\n",
       "       5.07692308, 5.38461538, 5.69230769, 6.        ])"
      ]
     },
     "execution_count": 6,
     "metadata": {},
     "output_type": "execute_result"
    }
   ],
   "source": [
    "# I viewed a tutorial video here: https://www.youtube.com/watch?v=xECXZ3tyONo\n",
    "# numpy.linspace is used to generate a range with a defined number of elements \n",
    "c = np.linspace(2, 6, 14)\n",
    "c\n",
    "# In this case a range is created with a staring point 2, end point 6 and the range will contain 14 elements "
   ]
  },
  {
   "cell_type": "markdown",
   "metadata": {},
   "source": [
    "**Below I have taken a look at numpy.arange which can be used to generate the array of numbers from a given parameter and the numpy.reshape function which is used to change the shape of an array**"
   ]
  },
  {
   "cell_type": "code",
   "execution_count": 7,
   "metadata": {},
   "outputs": [
    {
     "data": {
      "text/plain": [
       "array([0, 1, 2, 3, 4, 5])"
      ]
     },
     "execution_count": 7,
     "metadata": {},
     "output_type": "execute_result"
    }
   ],
   "source": [
    "import numpy as np\n",
    "a =np.arange(6)\n",
    "a\n",
    "# the numpy.arange function will generate a range of numbers for the given parameter, in this case I have chosen 6\n",
    "# This saves the user from typing out the array themselves"
   ]
  },
  {
   "cell_type": "code",
   "execution_count": 8,
   "metadata": {},
   "outputs": [
    {
     "data": {
      "text/plain": [
       "array([[0, 1, 2],\n",
       "       [3, 4, 5]])"
      ]
     },
     "execution_count": 8,
     "metadata": {},
     "output_type": "execute_result"
    }
   ],
   "source": [
    "# The numpy.reshape function changes the shape of the array using the given parameters\n",
    "a = np.arange(6).reshape(2, 3)\n",
    "a\n",
    "# You can see below in the output that the array is now returned as 2 separate arrays containing 3 elements each"
   ]
  },
  {
   "cell_type": "code",
   "execution_count": 9,
   "metadata": {},
   "outputs": [
    {
     "data": {
      "text/plain": [
       "(2, 3)"
      ]
     },
     "execution_count": 9,
     "metadata": {},
     "output_type": "execute_result"
    }
   ],
   "source": [
    "# I have called the numpy.shape function again to show the difference to my previous example\n",
    "# The output now shows 2 arrays with 3 elements in each\n",
    "a.shape"
   ]
  },
  {
   "cell_type": "markdown",
   "metadata": {},
   "source": [
    "## Section 1 - What is numpy.random and what is the overall purpose of the package?\n",
    "\n",
    "**The official documentation of numpy.random is here: https://docs.scipy.org/doc/numpy-1.16.0/reference/routines.random.html where you can read about all the different functions of numpy.random that are available to be used in data analysis.**\n",
    "\n",
    "numpy.random is a sub package of the NumPy package within the Python library that has many functions within it that can be used to generate random numbers.\n",
    "As we discovered in the lectures computers do not have the ability to generate random numbers on their own and so we can use packages such as numpy.random to do this. Through completing this assignment I will try to give an overview of some of the different functions of numpy.random \n",
    "\n",
    "The overall purpose of the package is to generate random numbers. Within the numpy.random package there are many functions. The full list of functions from the official numpy.random documentation page: https://docs.scipy.org/doc/numpy-1.16.0/reference/routines.random.html#simple-random-data\n",
    "\n",
    "**Within the numpy.random package there are 4 different sections:**\n",
    "\n",
    "* Simple Random Data\n",
    "* Permutations\n",
    "* Distributions\n",
    "* Random Generator\n",
    "\n",
    "**I will go into further detail on all 4 of these different functions within the numpy.random package and in doing so I hope this will help to give an overall image of the use and purpose of the numpy.random package.**"
   ]
  },
  {
   "cell_type": "markdown",
   "metadata": {},
   "source": [
    "## Section 2 - \"Simple Random Data\" and \"Permutations\"\n",
    "\n",
    "**I have broken section 2 of this assignment into 2 subsections**\n",
    "\n",
    "### Section 2.1 - Simple Random Data\n",
    "Simple Random Data is essentially used to generate random numbers. Within the Simple random data there are a number of different functions that can be used to generate random numbers and each function returns results from different distributions, these include uniform distribution, standard normal distribution and continuous uniform distribution.\n",
    "The user can use the function which best serves them, I will go through some of these now giving exmaples. \n",
    "\n",
    "**Below is a full list of the functions within Simple Random Data taken from: https://docs.scipy.org/doc/numpy-1.16.0/reference/routines.random.html#simple-random-data:**\n",
    "\n",
    "* **rand(d0, d1, …, dn)**\tRandom values in a given shape.\n",
    "* **randn(d0, d1, …, dn)**\tReturn a sample (or samples) from the “standard normal” distribution.\n",
    "* **randint(low[, high, size, dtype])**\tReturn random integers from low (inclusive) to high (exclusive).\n",
    "* **random_integers(low[, high, size])**\tRandom integers of type np.int between low and high, inclusive.\n",
    "* **random_sample([size])**\tReturn random floats in the half-open interval [0.0, 1.0).\n",
    "* **random([size])**\tReturn random floats in the half-open interval [0.0, 1.0).\n",
    "* **ranf([size])**\tReturn random floats in the half-open interval [0.0, 1.0).\n",
    "* **sample([size])**\tReturn random floats in the half-open interval [0.0, 1.0).\n",
    "* **choice(a[, size, replace, p])**\tGenerates a random sample from a given 1-D array\n",
    "* **bytes(length)**\tReturn random bytes.\n",
    "\n",
    "Now I am going to show examples of how some of the functions within Random Simple Data can be used. I will also use matplotlib.pyplot to plot the random numbers generated. This will be used to give a clearer picture of the distribution or shape of the random numbers that have been generated."
   ]
  },
  {
   "cell_type": "markdown",
   "metadata": {},
   "source": [
    "### Section 2.1.1-  numpy.random.rand\n",
    "The numpy.random.rand function is used to generate random values in a shape that is specified by the user. The rand function generates random numbers from zero up to but not including one which in mathematical terms is: [0, 1).\n",
    "The rand function generates random samples from a uniform distribution. A uniform distribution is one that has constant probability also known as a rectangular distribution. More information on uniform distribution: http://mathworld.wolfram.com/UniformDistribution.html. In simple terms, in a uniform distribution all values are equally likely to appear. \n",
    "\n",
    "**This is the link to the numpy.random.rand documentation: https://docs.scipy.org/doc/numpy-1.16.0/reference/generated/numpy.random.rand.html#numpy.random.rand**\n"
   ]
  },
  {
   "cell_type": "markdown",
   "metadata": {},
   "source": [
    "**I will use numpy.random.rand to generate some random floating point numbers. I will attempt to shown visual explanations using matplotlib.**"
   ]
  },
  {
   "cell_type": "code",
   "execution_count": 1,
   "metadata": {},
   "outputs": [],
   "source": [
    "import numpy as np\n",
    "import matplotlib.pyplot as plt\n",
    "# imported the numpy and matplotlib packages and given shortened names"
   ]
  },
  {
   "cell_type": "code",
   "execution_count": 2,
   "metadata": {},
   "outputs": [
    {
     "name": "stdout",
     "output_type": "stream",
     "text": [
      "With no argument entered numpy.random.rand generates one random float\n",
      "0.3483517529374469\n",
      "In this case 2 arrays are generated containing 4 random floats in each\n",
      "[[0.74134    0.48555816 0.55646739 0.56929889]\n",
      " [0.49561402 0.00242989 0.91527491 0.7316256 ]]\n"
     ]
    }
   ],
   "source": [
    "print(\"With no argument entered numpy.random.rand generates one random float\")\n",
    "a = np.random.rand()\n",
    "print(a)\n",
    "# numpy.random.rand function is ued to generate a random number.\n",
    "# Here I have not specified a shape and so only one random number is generated\n",
    "print(\"In this case 2 arrays are generated containing 4 random floats in each\")\n",
    "b = np.random.rand(2, 4)\n",
    "print(b)\n",
    "# Here I have entered parameters for the shape of the random array of numbers to be generated\n",
    "# In this case I have asked for an array containing 2 rows and 4 columns to be generated"
   ]
  },
  {
   "cell_type": "markdown",
   "metadata": {},
   "source": [
    "**I will use matplotlib.pyplot to plot the randomly generated floats**"
   ]
  },
  {
   "cell_type": "code",
   "execution_count": 3,
   "metadata": {},
   "outputs": [
    {
     "name": "stdout",
     "output_type": "stream",
     "text": [
      "[[0.74134    0.48555816 0.55646739 0.56929889]\n",
      " [0.49561402 0.00242989 0.91527491 0.7316256 ]]\n",
      "The randomly generated floats are plotted below:\n"
     ]
    },
    {
     "data": {
      "image/png": "[encoded data removed]",
      "text/plain": [
       "<Figure size 648x288 with 1 Axes>"
      ]
     },
     "metadata": {
      "needs_background": "light"
     },
     "output_type": "display_data"
    }
   ],
   "source": [
    "# Plotting a 2D array using matplotlib.pyplot\n",
    "plt.rcParams['figure.figsize'] = [9, 4]\n",
    "# I have taken this line from: https://stackoverflow.com/questions/36367986/how-to-make-inline-plots-in-jupyter-notebook-larger\n",
    "# The pyplot.rcparams command is used to resize all figures generated in this notebook\n",
    "# pyplot.rcparams documentation: https://matplotlib.org/3.1.1/tutorials/introductory/customizing.html\n",
    "print(b)\n",
    "print(\"The randomly generated floats are plotted below:\")\n",
    "plt.plot(b, 'b*')\n",
    "# plot function in matplotlib.pyplot used to generate a plot of the random floats generated above\n",
    "# 'b*' command asks for the points to be shown on the plot as blue stars\n",
    "# Read about in blog post: https://www.machinelearningplus.com/plots/matplotlib-tutorial-complete-guide-python-plot-examples/\n",
    "plt.title(\"Plot of the random floats generated by numpy.random.rand\", fontsize= 12, fontweight='bold')\n",
    "plt.show()\n",
    "# plt.title is used to give the plot a title\n",
    "# fontsize and fontweight used to change the appearance of title of plot\n",
    "# font size and fontweight: https://matplotlib.org/tutorials/introductory/pyplot.html\n",
    "# In this case because I gave 2 arguments in numpy.random.rand 2 arrays were created and this is treated as 2D array\n",
    "# Hence the points are plotted below as the first point in the first array against the first point in the second array and so on"
   ]
  },
  {
   "cell_type": "markdown",
   "metadata": {},
   "source": [
    "matplotblib.pylplot.show(): https://matplotlib.org/3.1.1/api/_as_gen/matplotlib.pyplot.show.html#matplotlib.pyplot.show\n",
    "\n",
    "matplotlib.pyplot.plot(): https://matplotlib.org/3.1.1/api/_as_gen/matplotlib.pyplot.plot.html#matplotlib.pyplot.plot\n",
    "\n",
    "matplotlib.pyplot.title(): https://matplotlib.org/3.1.1/api/_as_gen/matplotlib.pyplot.title.html#matplotlib.pyplot.title\n",
    "\n",
    "Blog post showing how to change appearance of the points plotted by pyplot: https://www.machinelearningplus.com/plots/matplotlib-tutorial-complete-guide-python-plot-examples/\n",
    "\n",
    "help(plt.plot): Type this command in jupyter notebook to see details on changing line style in a plot"
   ]
  },
  {
   "cell_type": "code",
   "execution_count": 4,
   "metadata": {},
   "outputs": [
    {
     "name": "stdout",
     "output_type": "stream",
     "text": [
      "[0.23594676 0.49913709 0.65755832 0.26248609 0.32210727]\n",
      "The 5 randonmly generated floats are printed on the y axis at points 0,1,2,3,4 on the x axis\n"
     ]
    },
    {
     "data": {
      "text/plain": [
       "Text(0.5, 0, 'pyplot by default plots the 5 points in the rand 0:4')"
      ]
     },
     "execution_count": 4,
     "metadata": {},
     "output_type": "execute_result"
    },
    {
     "data": {
      "image/png": "[encoded data removed]",
      "text/plain": [
       "<Figure size 648x288 with 1 Axes>"
      ]
     },
     "metadata": {
      "needs_background": "light"
     },
     "output_type": "display_data"
    }
   ],
   "source": [
    "# Generating an array using just one argument in numpy.random.rand and plotting the result\n",
    "x = np.random.rand(5)\n",
    "# I have asked for numpy.random.rand to generate 5 random floats\n",
    "print(x)\n",
    "print(\"The 5 randonmly generated floats are printed on the y axis at points 0,1,2,3,4 on the x axis\")\n",
    "# I have asked for the 5 randomly generated points to be printed to the screen\n",
    "plt.plot(x, 'go')\n",
    "# matplotlib.pyplot.plot used to plot the 5 randomly generated points\n",
    "# 'go' command asks for green coloured dots to be used in the plot\n",
    "# I read about 'go' here: https://www.machinelearningplus.com/plots/matplotlib-tutorial-complete-guide-python-plot-examples/\n",
    "plt.title(\"The 5 random floats generated by numpy.random.rand are plotted below\", fontsize= 12, fontweight='bold')\n",
    "# pyplot.title used to give the plot a title\n",
    "plt.ylabel(\"The floats generated by rand function\", fontsize= 10, fontweight='bold')\n",
    "plt.xlabel(\"pyplot by default plots the 5 points in the rand 0:4\", fontsize= 10, fontweight='bold')\n",
    "# pyplot.ylabel and pyplot.xlabel used to give names to the y and x label"
   ]
  },
  {
   "cell_type": "markdown",
   "metadata": {},
   "source": [
    "matplotlib.pyplot.xlabel: https://matplotlib.org/3.1.1/api/_as_gen/matplotlib.pyplot.xlabel.html#matplotlib.pyplot.xlabel\n",
    "\n",
    "matplotlib.pyplot.ylabel: https://matplotlib.org/3.1.1/api/_as_gen/matplotlib.pyplot.ylabel.html#matplotlib.pyplot.ylabel\n"
   ]
  },
  {
   "cell_type": "markdown",
   "metadata": {},
   "source": [
    "**Plotting 2 scatter plots side by side** \n",
    "\n",
    "I read about thlis in the following blog post: https://www.machinelearningplus.com/plots/matplotlib-tutorial-complete-guide-python-plot-examples/#3.-How-to-draw-two-sets-of-scatterplots-in-same-plot\n",
    "\n",
    "matplotlib.pyplot.subplot documentation: https://matplotlib.org/3.1.1/api/_as_gen/matplotlib.pyplot.subplot.html"
   ]
  },
  {
   "cell_type": "code",
   "execution_count": 5,
   "metadata": {},
   "outputs": [
    {
     "data": {
      "text/plain": [
       "[<matplotlib.lines.Line2D at 0x2a3a6da63c8>]"
      ]
     },
     "execution_count": 5,
     "metadata": {},
     "output_type": "execute_result"
    },
    {
     "data": {
      "image/png": "[encoded data removed]",
      "text/plain": [
       "<Figure size 648x288 with 2 Axes>"
      ]
     },
     "metadata": {
      "needs_background": "light"
     },
     "output_type": "display_data"
    }
   ],
   "source": [
    "fig, (ax1, ax2) = plt.subplots(1,2)\n",
    "ax1.plot(b, 'b*')\n",
    "ax2.plot(x, 'go')"
   ]
  },
  {
   "cell_type": "code",
   "execution_count": 6,
   "metadata": {},
   "outputs": [
    {
     "data": {
      "text/plain": [
       "array([0.05770313, 0.5508688 , 0.47487335, ..., 0.73223709, 0.33241249,\n",
       "       0.98652495])"
      ]
     },
     "execution_count": 6,
     "metadata": {},
     "output_type": "execute_result"
    }
   ],
   "source": [
    "c = np.random.rand(1200)\n",
    "# I have asked numpy.random.rand to generate 1200 random numbers\n",
    "c"
   ]
  },
  {
   "cell_type": "markdown",
   "metadata": {},
   "source": [
    "numpy.random.rand function as in the lecture video on the rand function: https://web.microsoftstream.com/video/d44d42fa-5b1a-4152-9d41-8129a3816001"
   ]
  },
  {
   "cell_type": "code",
   "execution_count": 7,
   "metadata": {},
   "outputs": [
    {
     "name": "stderr",
     "output_type": "stream",
     "text": [
      "UsageError: Line magic function `%matplotlib.inline` not found.\n"
     ]
    },
    {
     "data": {
      "image/png": "[encoded data removed]",
      "text/plain": [
       "<Figure size 648x288 with 1 Axes>"
      ]
     },
     "metadata": {
      "needs_background": "light"
     },
     "output_type": "display_data"
    }
   ],
   "source": [
    "import matplotlib.pyplot as plt\n",
    "# The matplotlib.pyplot package is imported and given a shortened name\n",
    "plt.hist(c)\n",
    "# pyplot.hist called to generate a histogram of the random numbers that were generated\n",
    "%matplotlib.inline\n",
    "# The plot didnt display when plt.show() was called so I had to use this argument "
   ]
  },
  {
   "cell_type": "markdown",
   "metadata": {},
   "source": [
    "The above histogram shows thats the random numbers generated by the numpy.random.rand function are of a fairly even distribution between 0.0 and 1.0 proving it to be a uniform distribution. \n",
    "\n",
    "I created the above example working off the lecture video on the the rand function: https://web.microsoftstream.com/video/d44d42fa-5b1a-4152-9d41-8129a3816001\n",
    "\n",
    "matplotlib.pyplot.hist(): https://matplotlib.org/3.1.1/api/_as_gen/matplotlib.pyplot.hist.html#matplotlib.pyplot.hist"
   ]
  },
  {
   "cell_type": "code",
   "execution_count": null,
   "metadata": {},
   "outputs": [],
   "source": []
  },
  {
   "cell_type": "markdown",
   "metadata": {},
   "source": [
    "### Section 2.1.2- numpy.random.randn\n",
    "The randn function returns a sample from the standard or normal distribution which has a mean of 0 and a standard deviation of 1. In a normal distribution most values remain around the mean making it symmetrical in appearance. More information on normal distribution here: https://www.tutorialspoint.com/python_data_science/python_normal_distribution.htm\n",
    "\n",
    "**This is the link to the numpy.random.randn documentation: https://docs.scipy.org/doc/numpy-1.16.0/reference/generated/numpy.random.randn.html#numpy.random.randn**\n",
    "\n",
    "**I will now show some examples of how numpy.random.randn is used to generate a random sample. I will try to give a visualisation of this using matplotlib.**"
   ]
  },
  {
   "cell_type": "code",
   "execution_count": 8,
   "metadata": {},
   "outputs": [
    {
     "name": "stdout",
     "output_type": "stream",
     "text": [
      "The first argument decides how many rows of data to be generated:\n",
      "[1.47877622 0.77042282]\n",
      "The second argument decides how many columns of data to be generated:\n",
      "[[ 0.48411681  0.21814407]\n",
      " [-0.60942986 -0.41713431]]\n",
      "The third argument decides how many arrays will be created:\n",
      "[[[ 0.87109385  0.23645853]\n",
      "  [-1.4784505   0.04105912]\n",
      "  [ 0.2014016   0.10517751]\n",
      "  [ 1.35141453 -0.33018634]]\n",
      "\n",
      " [[ 0.82962424  0.8360368 ]\n",
      "  [-1.50146676 -0.23978381]\n",
      "  [ 0.25807405  0.34576428]\n",
      "  [ 1.14905144 -0.28144085]]]\n"
     ]
    }
   ],
   "source": [
    "randn = np.random.randn(2)\n",
    "# randn is used to generate an array with 2 rows of data\n",
    "print(\"The first argument decides how many rows of data to be generated:\")\n",
    "print(randn)\n",
    "randn2 = np.random.randn(2, 2)\n",
    "# randn generated an array with 2 rows and 2 columns\n",
    "print(\"The second argument decides how many columns of data to be generated:\")\n",
    "print(randn2)\n",
    "randn3 = np.random.randn(2, 4, 2)\n",
    "print(\"The third argument decides how many arrays will be created:\")\n",
    "print(randn3)"
   ]
  },
  {
   "cell_type": "code",
   "execution_count": 9,
   "metadata": {},
   "outputs": [
    {
     "data": {
      "image/png": "[encoded data removed]",
      "text/plain": [
       "<Figure size 648x288 with 1 Axes>"
      ]
     },
     "metadata": {
      "needs_background": "light"
     },
     "output_type": "display_data"
    }
   ],
   "source": [
    "x = np.random.randn(2300)\n",
    "# I have generated an array with 2,300 values using randn\n",
    "plt.hist(x)\n",
    "plt.show()\n",
    "# I have used matplotlib.pyplot to create a histogram of the array generated by randn\n",
    "# Notice the way there is a cluster of values around the center of the histogram\n",
    "# We can see now visually randn has returned random values with mean 0 and std deviation of 1 "
   ]
  },
  {
   "cell_type": "markdown",
   "metadata": {},
   "source": [
    "**As discussed in lecture video on distributions: https://web.microsoftstream.com/video/e6f57177-0a17-45a5-8ca8-0e3191e887f8 - the standard or normal distribution has a bell curve shape. The majority of values fall within 3 and -3 in the above histogram with a central tendency around the mean of 0. Looking at the above histogram you could roughly say that 50% of the values fall above the mean and 50% below the mean.**"
   ]
  },
  {
   "cell_type": "code",
   "execution_count": 10,
   "metadata": {},
   "outputs": [
    {
     "data": {
      "text/plain": [
       "[<matplotlib.lines.Line2D at 0x2baeb402668>]"
      ]
     },
     "execution_count": 10,
     "metadata": {},
     "output_type": "execute_result"
    },
    {
     "data": {
      "image/png": "[encoded data removed]",
      "text/plain": [
       "<Figure size 648x288 with 1 Axes>"
      ]
     },
     "metadata": {
      "needs_background": "light"
     },
     "output_type": "display_data"
    }
   ],
   "source": [
    "plt.plot(x, 'go')\n",
    "# the command 'go' makes the plot appear like a scatter plot. 'go' meaning green dots\n",
    "# If I typed in 'go-' the lines would have been joined"
   ]
  },
  {
   "cell_type": "markdown",
   "metadata": {},
   "source": [
    "I read about plotting a scatter plot using 'go' ith the pyplot.plot command here: https://www.machinelearningplus.com/plots/matplotlib-tutorial-complete-guide-python-plot-examples/\n",
    "\n",
    "**The above scatter plot shows another view of the data, where we can see the concentration of values between -3 and 3 with most values remaining around the mean of 0**"
   ]
  },
  {
   "cell_type": "markdown",
   "metadata": {},
   "source": [
    "### Section 2.1.3 - numpy.random.bytes\n",
    "This returns random bytes, it takes only one argument which is the number of bytes the user wants returned. \n",
    "\n",
    "**This is the link to the official documentation: https://docs.scipy.org/doc/numpy-1.16.0/reference/generated/numpy.random.bytes.html#numpy.random.bytes**"
   ]
  },
  {
   "cell_type": "code",
   "execution_count": 11,
   "metadata": {},
   "outputs": [
    {
     "data": {
      "text/plain": [
       "b'O*l\\x8c\\xee\\xd0\\xc89\\xd3\\xc6\\xa0\\xcf'"
      ]
     },
     "execution_count": 11,
     "metadata": {},
     "output_type": "execute_result"
    }
   ],
   "source": [
    "np.random.bytes(12)\n",
    "# I have asked for 12 bytes to be returned"
   ]
  },
  {
   "cell_type": "markdown",
   "metadata": {},
   "source": [
    "### Section 2.1.4 - numpy.random.random_sample\n",
    "Returns random floating point numbers in the half-open interval [0.0, 1.0). The random floating point numbers are drawn from the continuous unform distribution where each value is equally likely to appear.\n",
    "\n",
    "**This is the link to the official documentation: https://docs.scipy.org/doc/numpy-1.16.0/reference/generated/numpy.random.random_sample.html#numpy.random.random_sample**\n",
    "\n",
    "**Below I have shown an example of how numpy.random.random_sample is used to generate random floating point numbers. I have used matplotlib to show how these random numbers are distributed.**"
   ]
  },
  {
   "cell_type": "code",
   "execution_count": 12,
   "metadata": {},
   "outputs": [
    {
     "name": "stdout",
     "output_type": "stream",
     "text": [
      "Result when no argument is entered:\n",
      "0.60417544974054\n",
      "Result when the user enters an argument:\n",
      "[0.0565465  0.72727724 0.84647831 0.85446672 0.02662376 0.71536384\n",
      " 0.54701056 0.52490494 0.0501079  0.09875915 0.99396399 0.16326741\n",
      " 0.23473683 0.47068313 0.98565368 0.02077389 0.60169117 0.63893394\n",
      " 0.39958673 0.97726627 0.14552934 0.46302101 0.40785873]\n"
     ]
    }
   ],
   "source": [
    "random_sample = np.random.random_sample()\n",
    "# When no argument is entered one random floating point number is returned \n",
    "random_sample1 = np.random.random_sample(23)\n",
    "# When an argument is entered that number of floating point numbers are returned \n",
    "print(\"Result when no argument is entered:\")\n",
    "print(random_sample)\n",
    "print(\"Result when the user enters an argument:\")\n",
    "print(random_sample1)"
   ]
  },
  {
   "cell_type": "code",
   "execution_count": 13,
   "metadata": {},
   "outputs": [
    {
     "data": {
      "text/plain": [
       "Text(0.5, 1.0, '23 random floats generated in the half open interval [0.0, 1.0)')"
      ]
     },
     "execution_count": 13,
     "metadata": {},
     "output_type": "execute_result"
    },
    {
     "data": {
      "image/png": "[encoded data removed]",
      "text/plain": [
       "<Figure size 648x288 with 1 Axes>"
      ]
     },
     "metadata": {
      "needs_background": "light"
     },
     "output_type": "display_data"
    }
   ],
   "source": [
    "plt.plot(random_sample1, 'ro')\n",
    "# plot function called and 'ro' command used to ask for red dots\n",
    "plt.ylabel(\"Random floats\", fontsize= 10, fontweight= 'bold')\n",
    "plt.xlabel(\"numpy.random.random_sample generated 23 random floats\", fontsize= 10, fontweight= 'bold')\n",
    "plt.title(\"23 random floats generated in the half open interval [0.0, 1.0)\", fontsize= 12, fontweight= 'bold')\n",
    "# title, y label and x label given names and font size and weight formatted"
   ]
  },
  {
   "cell_type": "markdown",
   "metadata": {},
   "source": [
    "### Section 2.2 - Permutations\n",
    "\n",
    "**The official documentation for the Permutations function within the numpy.random package is here: https://docs.scipy.org/doc/numpy-1.16.0/reference/routines.random.html**\n",
    "\n",
    "Within Permutations there are 2 functions:\n",
    "\n",
    "* **shuffle(x)**\tModify a sequence in-place by shuffling its contents.\n",
    "* **permutation(x)**\tRandomly permute a sequence, or return a permuted range.\n",
    "\n",
    "In this section I will look in more detail at what the Permutations function within the numpy.random package does and how it can be used. I will show some examples of numpy.random.shuffle and numpy.random.permutation being used."
   ]
  },
  {
   "cell_type": "markdown",
   "metadata": {},
   "source": [
    "### Section 2.2.1 -  numpy.random.shuffle\n",
    "\n",
    "The shuffle function is used to shuffle the contents of an array. In other words change the order of an array of numbers. I will show 2 examples below."
   ]
  },
  {
   "cell_type": "markdown",
   "metadata": {},
   "source": [
    "**Using shuffle with one array:**"
   ]
  },
  {
   "cell_type": "code",
   "execution_count": 20,
   "metadata": {},
   "outputs": [
    {
     "data": {
      "text/plain": [
       "array([ 0,  1,  2,  3,  4,  5,  6,  7,  8,  9, 10, 11, 12, 13, 14, 15])"
      ]
     },
     "execution_count": 20,
     "metadata": {},
     "output_type": "execute_result"
    }
   ],
   "source": [
    "x= np.arange(16)\n",
    "# An array is created in the range 0:15\n",
    "x\n",
    "# The array is displayed below"
   ]
  },
  {
   "cell_type": "code",
   "execution_count": 21,
   "metadata": {},
   "outputs": [
    {
     "data": {
      "text/plain": [
       "array([11, 12, 13,  8, 15, 10,  2,  4, 14,  5,  6,  9,  7,  1,  0,  3])"
      ]
     },
     "execution_count": 21,
     "metadata": {},
     "output_type": "execute_result"
    }
   ],
   "source": [
    "np.random.shuffle(x)\n",
    "# the numpy.random.shuffle function is used to change the order of the 16 values in the range 0:15\n",
    "x\n",
    "# The new reorganised order is shown below"
   ]
  },
  {
   "cell_type": "markdown",
   "metadata": {},
   "source": [
    "**Using shuffle with a multi dimensional array:**\n",
    "\n",
    "When worrking with multi dimensional arrays shuffle only changes the order of the arrays, it does not change the order of the contents of the arrays. "
   ]
  },
  {
   "cell_type": "code",
   "execution_count": 26,
   "metadata": {},
   "outputs": [
    {
     "data": {
      "text/plain": [
       "array([[[-0.73225552, -0.86623516,  0.78443252],\n",
       "        [ 1.5548103 , -1.19048381, -0.38797289],\n",
       "        [ 0.59492621,  0.3170958 ,  1.57256779],\n",
       "        [-0.41582613, -0.4571663 ,  0.99058547]],\n",
       "\n",
       "       [[ 0.18006745,  0.76310968,  1.39163477],\n",
       "        [ 0.97989341,  1.60986207, -0.34417146],\n",
       "        [-1.91576269, -0.4294743 ,  0.03294509],\n",
       "        [-0.14021547,  0.38857888,  1.20540088]],\n",
       "\n",
       "       [[-2.32664716, -1.02755596,  0.68393382],\n",
       "        [-0.62753969, -0.19836771,  0.76802302],\n",
       "        [-0.75987877, -0.81865887, -0.72361304],\n",
       "        [ 0.84865484, -0.39849288,  0.10396406]]])"
      ]
     },
     "execution_count": 26,
     "metadata": {},
     "output_type": "execute_result"
    }
   ],
   "source": [
    "y = np.random.randn(3, 4, 3)\n",
    "# numpy.random.randn used to generate 3 arrays containing 4 rows and 3 columns of data each\n",
    "y\n",
    "# the arrays generated are displayed below"
   ]
  },
  {
   "cell_type": "code",
   "execution_count": 28,
   "metadata": {},
   "outputs": [
    {
     "data": {
      "text/plain": [
       "array([[[-2.32664716, -1.02755596,  0.68393382],\n",
       "        [-0.62753969, -0.19836771,  0.76802302],\n",
       "        [-0.75987877, -0.81865887, -0.72361304],\n",
       "        [ 0.84865484, -0.39849288,  0.10396406]],\n",
       "\n",
       "       [[ 0.18006745,  0.76310968,  1.39163477],\n",
       "        [ 0.97989341,  1.60986207, -0.34417146],\n",
       "        [-1.91576269, -0.4294743 ,  0.03294509],\n",
       "        [-0.14021547,  0.38857888,  1.20540088]],\n",
       "\n",
       "       [[-0.73225552, -0.86623516,  0.78443252],\n",
       "        [ 1.5548103 , -1.19048381, -0.38797289],\n",
       "        [ 0.59492621,  0.3170958 ,  1.57256779],\n",
       "        [-0.41582613, -0.4571663 ,  0.99058547]]])"
      ]
     },
     "execution_count": 28,
     "metadata": {},
     "output_type": "execute_result"
    }
   ],
   "source": [
    "np.random.shuffle(y)\n",
    "# numpy.random.shuffle used to change the order of the arrays\n",
    "y\n",
    "# Notice how the contents of the arrays remain in the same order "
   ]
  },
  {
   "cell_type": "markdown",
   "metadata": {},
   "source": [
    " How to randomly shuffle an array in python using numpy- https://www.science-emergence.com/Articles/How-to-randomly-shuffle-an-array-in-python-using-numpy/"
   ]
  },
  {
   "cell_type": "markdown",
   "metadata": {},
   "source": [
    "### Section 2.2.2 -  numpy.random.permutation\n",
    "\n",
    "**The numpy.random.permutation documentation is here: https://docs.scipy.org/doc/numpy-1.16.0/reference/generated/numpy.random.permutation.html#numpy.random.permutation**\n",
    "\n",
    "**There is a good explanation of the difference between numpy.random.shuffle and numpy.random.permutation here: https://stackoverflow.com/questions/15474159/shuffle-vs-permute-numpy**\n",
    "\n",
    "**The post states:**\n",
    "\n",
    "_\"np.random.permutation has two differences from np.random.shuffle:_\n",
    "\n",
    "* _if passed an array, it will return a shuffled copy of the array; np.random.shuffle shuffles the array inplace_\n",
    "* _if passed an integer, it will return a shuffled range i.e. np.random.shuffle(np.arange(n))\"_\n",
    "\n",
    "Above taken from:https://stackoverflow.com/questions/15474159/shuffle-vs-permute-numpy"
   ]
  },
  {
   "cell_type": "markdown",
   "metadata": {},
   "source": [
    "**Using permutation with an integer as argument**\n",
    "\n",
    "numpy.random.permutation randomly permutes a range when given a single argument. So for example if the user enters the argument 15 in numpy.random.permutation a range of 0:14 is permuted in a random order:\n",
    "\n",
    "From the documentation page: _\"If x is an integer, randomly permute np.arange(x)\"._"
   ]
  },
  {
   "cell_type": "code",
   "execution_count": 8,
   "metadata": {},
   "outputs": [
    {
     "data": {
      "text/plain": [
       "array([ 9, 11,  0,  6, 12,  1,  5,  3, 10, 14,  7,  4,  2,  8, 13])"
      ]
     },
     "execution_count": 8,
     "metadata": {},
     "output_type": "execute_result"
    }
   ],
   "source": [
    "permutation = np.random.permutation(15)\n",
    "# I have asked for a range between 0:14 to be generated \n",
    "permutation\n",
    "# As you can see below the range is generated"
   ]
  },
  {
   "cell_type": "markdown",
   "metadata": {},
   "source": [
    "**Using permutation with an array as an argument**\n",
    "\n",
    "The user can also enter an array as an argument. numpy.random.permutation will copy the given array and randomly shuffle the elements of the array:\n",
    "\n",
    "From the documentation page: _\"If x is an array, make a copy and shuffle the elements randomly.\"_"
   ]
  },
  {
   "cell_type": "code",
   "execution_count": 9,
   "metadata": {},
   "outputs": [
    {
     "data": {
      "text/plain": [
       "array([22,  2,  1,  6, 18])"
      ]
     },
     "execution_count": 9,
     "metadata": {},
     "output_type": "execute_result"
    }
   ],
   "source": [
    "np.random.permutation([1, 2, 6, 18, 22])\n",
    "# numpy.random.permutation will copy this array and output an array with the same elements shuffled"
   ]
  },
  {
   "cell_type": "markdown",
   "metadata": {},
   "source": [
    "## Section 3 - Distributions\n",
    "\n",
    "**This is the link to the documentation on Distributions within the numpy.random function: https://docs.scipy.org/doc/numpy-1.16.0/reference/routines.random.html**\n",
    "\n",
    "**The full list of distributions are**\n",
    "\n",
    "\n",
    "* **beta(a, b[, size])**\tDraw samples from a Beta distribution.\n",
    "* **binomial(n, p[, size])**\tDraw samples from a binomial distribution.\n",
    "* **chisquare(df[, size])**\tDraw samples from a chi-square distribution.\n",
    "* **dirichlet(alpha[, size])**\tDraw samples from the Dirichlet distribution.\n",
    "* **exponential([scale, size])**\tDraw samples from an exponential distribution.\n",
    "* **f(dfnum, dfden[, size])**\tDraw samples from an F distribution.\n",
    "* **gamma(shape[, scale, size])**\tDraw samples from a Gamma distribution.\n",
    "* **geometric(p[, size])**\tDraw samples from the geometric distribution.\n",
    "* **gumbel([loc, scale, size])**\tDraw samples from a Gumbel distribution.\n",
    "* **hypergeometric(ngood, nbad, nsample[, size])**\tDraw samples from a Hypergeometric distribution.\n",
    "* **laplace([loc, scale, size])**\tDraw samples from the Laplace or double exponential distribution with specified location (or mean) and scale (decay).\n",
    "* **logistic([loc, scale, size])**\tDraw samples from a logistic distribution.\n",
    "* **lognormal([mean, sigma, size])**\tDraw samples from a log-normal distribution.\n",
    "* **logseries(p[, size])**\tDraw samples from a logarithmic series distribution.\n",
    "* **multinomial(n, pvals[, size])**\tDraw samples from a multinomial distribution.\n",
    "* **multivariate_normal(mean, cov[, size, …)**\tDraw random samples from a multivariate normal distribution.\n",
    "* **negative_binomial(n, p[, size])**\tDraw samples from a negative binomial distribution.\n",
    "* **noncentral_chisquare(df, nonc[, size])**\tDraw samples from a noncentral chi-square distribution.\n",
    "* **noncentral_f(dfnum, dfden, nonc[, size])**\tDraw samples from the noncentral F distribution.\n",
    "* **normal([loc, scale, size])**\tDraw random samples from a normal (Gaussian) distribution.\n",
    "* **pareto(a[, size])**\tDraw samples from a Pareto II or Lomax distribution with specified shape.\n",
    "* **poisson([lam, size])**\tDraw samples from a Poisson distribution.\n",
    "* **power(a[, size])**\tDraws samples in [0, 1] from a power distribution with positive exponent a - 1.\n",
    "* **rayleigh([scale, size])**\tDraw samples from a Rayleigh distribution.\n",
    "* **standard_cauchy([size])**\tDraw samples from a standard Cauchy distribution with mode = 0.\n",
    "* **standard_exponential([size])**\tDraw samples from the standard exponential distribution.\n",
    "* **standard_gamma(shape[, size])**\tDraw samples from a standard Gamma distribution.\n",
    "* **standard_normal([size])**\tDraw samples from a standard Normal distribution (mean=0, stdev=1).\n",
    "* **standard_t(df[, size])**\tDraw samples from a standard Student’s t distribution with df degrees of freedom.\n",
    "* **triangular(left, mode, right[, size])**\tDraw samples from the triangular distribution over the interval [left, right].\n",
    "* **uniform([low, high, size])**\tDraw samples from a uniform distribution.\n",
    "* **vonmises(mu, kappa[, size])**\tDraw samples from a von Mises distribution.\n",
    "* **wald(mean, scale[, size])**\tDraw samples from a Wald, or inverse Gaussian, distribution.\n",
    "* **weibull(a[, size])**\tDraw samples from a Weibull distribution.\n",
    "* **zipf(a[, size])**\tDraw samples from a Zipf distribution.\n",
    "\n",
    "Further information on each distribution can be read by going to the documentation page and clicking on each distribution.\n",
    "\n",
    "**As part of this jupyter notebook I am going to explain the use and purpose of 5 of these distributions which I have listed below:**\n",
    "\n",
    "1. normal([loc, scale, size])\n",
    "2. uniform([low, high, size])\n",
    "3. standard_normal([size])\n",
    "4. binomial(n, p, size=None)¶\n"
   ]
  },
  {
   "cell_type": "markdown",
   "metadata": {},
   "source": [
    "### Section 3.0 - What is a probability Distribution?\n",
    "\n",
    "Probability is used to calculate the likelihood of an event occurring. \n",
    "\n",
    "_\"Probability is quantified as a number between 0 and 1, where, loosely speaking, 0 indicates impossibility and 1 indicates certainty. The higher the probability of an event, the more likely it is that the event will occur.\"_\n",
    "\n",
    "**Quote taken from:https://towardsdatascience.com/basic-probability-theory-and-statistics-3105ab637213**\n",
    "\n",
    "A probability distribution shows the relationship between a random variable and each possible outsome for that random variable. \n",
    "\n",
    "_\"A probability distribution is a table or an equation that links each outcome of a statistical experiment with its probability of occurrence.\"_\n",
    "\n",
    "**Quote taken from: https://stattrek.com/probability-distributions/probability-distribution.aspx**\n",
    "\n",
    "**Two properties of any distribution are:**\n",
    "* **Expected Value** - The average value of a  random variable. Otherwise known as the mean value.\n",
    "* **Variance** - The average spread of values around the expected value. Otherwise known as the standard deviation of values from the mean value.\n",
    "\n",
    "_\"The expected value is the average or mean value of a random variable X. This is the most likely value or the outcome with the highest probability. It is typically denoted as a function of the uppercase letter E with square brackets: for example, E[X] for the expected value of X or E[f(x)] where the function f() is used to sample a value from the domain of X.\"_\n",
    "\n",
    "**Quote taken from - https://machinelearningmastery.com/what-are-probability-distributions/**\n",
    "\n",
    "_\"The variance is the spread of the values of a random variable from the mean. This is typically denoted as a function Var; for example, Var(X) is the variance of the random variable X or Var(f(x)) for the variance of values drawn from the domain of X using the function f().\"_\n",
    "\n",
    "**Quote taken from - https://machinelearningmastery.com/what-are-probability-distributions/**"
   ]
  },
  {
   "cell_type": "markdown",
   "metadata": {},
   "source": [
    "#### Random Variable\n",
    "\n",
    "A random varianle is a variable which is a possible outcome of a random experiment\n",
    "\n",
    "_\"A random variable, is a variable whose possible values are numerical outcomes of a random experiment. There are two types of random variables._\n",
    "\n",
    "_**1. Discrete Random Variable** is one which may take on only a countable number of distinct values such as 0,1,2,3,4,…….. Discrete random variables are usually (but not necessarily) counts._\n",
    "\n",
    "_**2. Continuous Random Variable** is one which takes an infinite number of possible values. Continuous random variables are usually measurements.\"_\n",
    "\n",
    "Quote taken from: https://towardsdatascience.com/basic-probability-theory-and-statistics-3105ab637213\n",
    "\n",
    "**The mathematical definitions of a Discrete probability distribution:**\n",
    "\n",
    "![Discrete.png](https://miro.medium.com/max/2096/1*eF0mBX8z41QxkD1zLpOQaw.png)\n",
    "\n",
    "Image from: https://towardsdatascience.com/basic-probability-theory-and-statistics-3105ab637213\n",
    "\n",
    "\n",
    "**The mathematical definition of a continuous probability distribution:**\n",
    "\n",
    "![Continuous.png](https://miro.medium.com/max/2092/1*MkhTCWDuzcvlfVDXcUuEDg.png)\n",
    "\n",
    "Image from: https://towardsdatascience.com/basic-probability-theory-and-statistics-3105ab637213"
   ]
  },
  {
   "cell_type": "markdown",
   "metadata": {},
   "source": [
    "**Section 3.0 - What is a probability Distribution? - References**\n",
    "* Expected value and variance: https://machinelearningmastery.com/what-are-probability-distributions/\n",
    "* Probability distribution: https://stattrek.com/probability-distributions/probability-distribution.aspx\n",
    "* Probability: https://towardsdatascience.com/basic-probability-theory-and-statistics-3105ab637213\n",
    "* Random variables: https://towardsdatascience.com/basic-probability-theory-and-statistics-3105ab637213\n",
    "* Random variables and probability distributions: https://www.britannica.com/science/statistics/Random-variables-and-probability-distributions"
   ]
  },
  {
   "cell_type": "markdown",
   "metadata": {},
   "source": [
    "### Section 3.1 - normal([loc, scale, size])\n",
    "\n",
    "**numpy.random.normal documentation: https://docs.scipy.org/doc/numpy-1.16.0/reference/generated/numpy.random.normal.html#numpy.random.normal**\n",
    "\n",
    "Draw random samples from a normal (Gaussian) distribution. The probability density function of the normal distribution, first derived by De Moivre and 200 years later by both Gauss and Laplace independently [2], is often called the bell curve because of its characteristic shape - https://docs.scipy.org/doc/numpy-1.16.0/reference/generated/numpy.random.normal.html#numpy.random.normal\n",
    "\n",
    "A normal distribution often described as a bell curve distributon because of the shape, often occurs naturally within statistics. One example would be in measuring height of a group of people there would tend to be a central tendency of data with the majority of data gathering around this point. \n",
    "\n",
    "**Below are some properties that could be associated with a normal distribution:**\n",
    "* The mean, mode and median are all equal\n",
    "* The bell curve is symmetric at the centre\n",
    "* 50% of the values are to the left of the centre and 50% to the right of centre\n",
    "* 99.7% of the data occurs within 3 standard deviations of the mean\n",
    "\n",
    "Some further reading on characteristics of a normal distribution: https://www.statisticshowto.datasciencecentral.com/probability-and-statistics/normal-distributions/ and https://mathbitsnotebook.com/Algebra2/Statistics/STstandardNormalDistribution.html"
   ]
  },
  {
   "cell_type": "markdown",
   "metadata": {},
   "source": [
    "**numpy.random.normal takes 3 arguments:**\n",
    "\n",
    "* **loc : float or array_like of floats** - the Mean of the distribution.\n",
    "* **scale : float or array_like of floats** - the Standard deviation of the distribution or in simple terms the width of the distribution. \n",
    "* **size : int or tuple of ints, optional** - the size of the distribution"
   ]
  },
  {
   "cell_type": "markdown",
   "metadata": {},
   "source": [
    "**Below is an image of a normal distribution showing the bell shape curve**\n",
    "\n",
    "![title](https://www.researchgate.net/profile/Zacharie_Mbaitiga/publication/47554522/figure/fig3/AS:669306094358551@1536586416576/Bell-curve-and-standard-deviation.jpg)\n",
    "\n",
    "Image taken from: \n",
    "https://www.researchgate.net/figure/Bell-curve-and-standard-deviation_fig3_47554522"
   ]
  },
  {
   "cell_type": "markdown",
   "metadata": {},
   "source": [
    "**The Empirical rule**\n",
    "\n",
    "The Empirical rule states that within a normal distribution almost all of the data falls within 3 standard deviations of the mean. So in the case of the normal distribution here if we have a mean of zero we should expect to see almost all random values in a sample falling between 3 and -3. \n",
    "\n",
    "**According to the Empirical rule we should expect to see:**\n",
    "* 68% of the data within the first standard deviation from the mean\n",
    "* 95% of the data within 2 standard deviations of the mean\n",
    "* 99.7% of the data within 3 standard deviations of the mean\n",
    "\n",
    "Further reading on the Empirical rule: https://www.statisticshowto.datasciencecentral.com/empirical-rule-2/ and https://mathbitsnotebook.com/Algebra2/Statistics/STstandardNormalDistribution.html\n",
    "\n",
    "Video tutorial on the Empirical rule: https://www.youtube.com/watch?time_continue=6&v=hQTvdD8vtio\n",
    "\n",
    "**Image showing the Empirical Rule on a normal distribution**\n",
    "\n",
    "![standard-normal-distribution.jpg](https://www.statisticshowto.datasciencecentral.com/wp-content/uploads/2013/09/standard-normal-distribution.jpg)\n",
    "\n",
    "Image taken from: https://www.statisticshowto.datasciencecentral.com/probability-and-statistics/normal-distributions/"
   ]
  },
  {
   "cell_type": "markdown",
   "metadata": {},
   "source": [
    "**I will now investigate some of the points I explained above to see are they true**"
   ]
  },
  {
   "cell_type": "code",
   "execution_count": 6,
   "metadata": {},
   "outputs": [
    {
     "data": {
      "text/plain": [
       "(array([  2.,  11.,  51., 112., 215., 266., 188., 113.,  29.,  13.]),\n",
       " array([1.26454068, 1.39921176, 1.53388284, 1.66855393, 1.80322501,\n",
       "        1.93789609, 2.07256717, 2.20723825, 2.34190933, 2.47658041,\n",
       "        2.6112515 ]),\n",
       " <a list of 10 Patch objects>)"
      ]
     },
     "execution_count": 6,
     "metadata": {},
     "output_type": "execute_result"
    },
    {
     "data": {
      "image/png": "[encoded data removed]",
      "text/plain": [
       "<Figure size 648x288 with 1 Axes>"
      ]
     },
     "metadata": {
      "needs_background": "light"
     },
     "output_type": "display_data"
    }
   ],
   "source": [
    "x = np.random.normal(2, 0.2, 1000)\n",
    "# I have used numpy.random.normal to generate random numbers from the normal distribution\n",
    "# I have entered 3 arguments:\n",
    "# the first argument set the mean of the distribution to be 2 \n",
    "# the secomnd argument set the standard deviation from the mean to be 0.2\n",
    "# the third argument set the distribution size to be 1000 - so 1000 random numbers were generated\n",
    "plt.hist(x)"
   ]
  },
  {
   "cell_type": "code",
   "execution_count": 9,
   "metadata": {},
   "outputs": [
    {
     "name": "stdout",
     "output_type": "stream",
     "text": [
      "The mean of the above distribution is:\n"
     ]
    },
    {
     "data": {
      "text/plain": [
       "1.9935789831648394"
      ]
     },
     "execution_count": 9,
     "metadata": {},
     "output_type": "execute_result"
    }
   ],
   "source": [
    "print(\"The mean of the above distribution is:\")\n",
    "np.mean(x)\n",
    "# numpy.mean: https://docs.scipy.org/doc/numpy/reference/generated/numpy.mean.html"
   ]
  },
  {
   "cell_type": "code",
   "execution_count": 11,
   "metadata": {},
   "outputs": [
    {
     "name": "stdout",
     "output_type": "stream",
     "text": [
      "The standard deviation of the above distribution is:\n"
     ]
    },
    {
     "data": {
      "text/plain": [
       "0.20761728996076492"
      ]
     },
     "execution_count": 11,
     "metadata": {},
     "output_type": "execute_result"
    }
   ],
   "source": [
    "print(\"The standard deviation of the above distribution is:\")\n",
    "np.std(x)\n",
    "# numpy.std: https://docs.scipy.org/doc/numpy/reference/generated/numpy.std.html"
   ]
  },
  {
   "cell_type": "code",
   "execution_count": 18,
   "metadata": {},
   "outputs": [
    {
     "name": "stdout",
     "output_type": "stream",
     "text": [
      "The smallest value in the distribution is:\n",
      "1.2645406816393963\n",
      "The largest value in the distribution is:\n",
      "2.611251495429485\n"
     ]
    }
   ],
   "source": [
    "print(\"The smallest value in the distribution is:\")\n",
    "print(np.amin(x))\n",
    "# numpy.amin: https://docs.scipy.org/doc/numpy/reference/generated/numpy.amin.html#numpy.amin\n",
    "print(\"The largest value in the distribution is:\")\n",
    "print(np.amax(x))\n",
    "# numpy.amax: https://docs.scipy.org/doc/numpy/reference/generated/numpy.amax.html#numpy.amax"
   ]
  },
  {
   "cell_type": "code",
   "execution_count": 21,
   "metadata": {},
   "outputs": [
    {
     "name": "stdout",
     "output_type": "stream",
     "text": [
      "The median of the distribution is:\n"
     ]
    },
    {
     "data": {
      "text/plain": [
       "1.9988963785405025"
      ]
     },
     "execution_count": 21,
     "metadata": {},
     "output_type": "execute_result"
    }
   ],
   "source": [
    "print(\"The median of the distribution is:\")\n",
    "np.median(x)\n",
    "# numpy.median: https://docs.scipy.org/doc/numpy/reference/generated/numpy.median.html"
   ]
  },
  {
   "cell_type": "code",
   "execution_count": 28,
   "metadata": {},
   "outputs": [
    {
     "name": "stdout",
     "output_type": "stream",
     "text": [
      "The 25th percentile is:\n",
      "1.8502854881076232\n",
      "The 50th percentile is\n",
      "1.9988963785405025\n",
      "The 75th percentile is:\n",
      "2.133748122788594\n"
     ]
    }
   ],
   "source": [
    "print(\"The 25th percentile is:\")\n",
    "print(np.percentile(x, 25))\n",
    "print(\"The 50th percentile is\")\n",
    "print(np.percentile(x, 50))\n",
    "print(\"The 75th percentile is:\")\n",
    "print(np.percentile(x, 75))\n",
    "# numpy.percentile: https://docs.scipy.org/doc/numpy/reference/generated/numpy.percentile.html#numpy.percentile"
   ]
  },
  {
   "cell_type": "markdown",
   "metadata": {},
   "source": [
    "* From the above analysis I can see that the mean of the distribution is just below 2 and the standard deviation from the mean is 0.2 which are the arguments that I entered.\n",
    "* I can also clearly see that the majority of the numbers are contained within 3 standard deviations of the mean which is what I expected to see based on the Empirical Rule.\n",
    "* I can also see the median value is quite simialar to the mean value is what I would expect looking at a normal distribution.\n"
   ]
  },
  {
   "cell_type": "markdown",
   "metadata": {},
   "source": [
    "**Section 3.1 - normal([loc, scale, size])- References**\n",
    "* numpy.random.normal documentation: https://docs.scipy.org/doc/numpy-1.16.0/reference/generated/numpy.random.normal.html#numpy.random.normal\n",
    "* Normal distribution- https://www.statisticshowto.datasciencecentral.com/probability-and-statistics/normal-distributions/\n",
    "* Standard normal distribution: https://mathbitsnotebook.com/Algebra2/Statistics/STstandardNormalDistribution.html\n",
    "* The Empirical rule Youtube video: https://www.youtube.com/watch?time_continue=6&v=hQTvdD8vtio\n",
    "* What is the Empirical rule: https://www.statisticshowto.datasciencecentral.com/empirical-rule-2/ and https://mathbitsnotebook.com/Algebra2/Statistics/STstandardNormalDistribution.html\n",
    "* Image of the Empirical rule: https://www.statisticshowto.datasciencecentral.com/probability-and-statistics/normal-distributions/\n",
    "* Image of the normal bell curve distribution: https://www.google.com/url?sa=i&url=https%3A%2F%2Fwww.researchgate.net%2Ffigure%2FBell-curve-and-standard-deviation_fig3_47554522&psig=AOvVaw1gtLSAMO5j4HibQ1LDTwaI&ust=1572441726238000&source=images&cd=vfe&ved=0CAIQjRxqFwoTCJCW0pnIweUCFQAAAAAdAAAAABAD\n",
    "* numpy.mean: https://docs.scipy.org/doc/numpy/reference/generated/numpy.mean.html\n",
    "* numpy.std: https://docs.scipy.org/doc/numpy/reference/generated/numpy.std.html\n",
    "* numpy.amin: https://docs.scipy.org/doc/numpy/reference/generated/numpy.amin.html#numpy.amin\n",
    "* numpy.amax: https://docs.scipy.org/doc/numpy/reference/generated/numpy.amax.html#numpy.amax\n",
    "* numpy.median: https://docs.scipy.org/doc/numpy/reference/generated/numpy.median.html\n",
    "* numpy.percentile: https://docs.scipy.org/doc/numpy/reference/generated/numpy.percentile.html#numpy.percentile\n"
   ]
  },
  {
   "cell_type": "markdown",
   "metadata": {},
   "source": [
    "### Section 3.2 - uniform([low, high, size])\n",
    "\n",
    "**numpy.random.uniform documentation: https://docs.scipy.org/doc/numpy-1.16.0/reference/generated/numpy.random.uniform.html#numpy.random.uniform**\n",
    "\n",
    "**Draw samples from a uniform distribution.**\n",
    "\n",
    "**Samples are uniformly distributed over the half-open interval [low, high) (includes low, but excludes high). In other words, any value within the given interval is equally likely to be drawn by uniform.**\n",
    "\n",
    "**A uniform distribution has 3 arguments:**\n",
    "* **low : float or array_like of floats, optional -** This is the lower boundary or the starting point of the output. All random numbers that will be generated will be equal to or greater than this argument.\n",
    "* **high : float or array_like of floats -** This is the upper boundary or end point for the output. As stated in the documentation page the interval excludes high, so all random numbers generated will be less than this argument.\n",
    "* **size : int or tuple of ints, optional -** The size of the sample, or amount of random numbers to be generated. \n",
    "\n",
    "A uniform distribution is also known as a rectangular distribution and is a distribution that has constant probability. In simple, terms a uniform distributon is a distribution in which all outcomes are equally likely. \n",
    "\n",
    "One example in everyday life would be a coin toss where both heads and tails would be both equally likely outcomes."
   ]
  },
  {
   "cell_type": "markdown",
   "metadata": {},
   "source": [
    "**Image of a Uniform Distribution**\n",
    "\n",
    "![numpy-random-uniform-1.png](https://docs.scipy.org/doc/numpy-1.15.0/_images/numpy-random-uniform-1.png)\n",
    "\n",
    "Taken from: https://docs.scipy.org/doc/numpy-1.15.0/reference/generated/numpy.random.uniform.html"
   ]
  },
  {
   "cell_type": "markdown",
   "metadata": {},
   "source": [
    "Below I have used the numpy.random.uniform function within numpy.random to create a an array of random numbers. I have entered the argument 2 for low and 100 for high. This means the random numbers generated will start at 2 and go up to but not include 100 and the third argument I have entered is 1200 which means 1200 random numbers will be generated in total."
   ]
  },
  {
   "cell_type": "code",
   "execution_count": 11,
   "metadata": {},
   "outputs": [
    {
     "data": {
      "text/plain": [
       "array([85.89226126, 61.53427963, 92.05782604, ..., 82.5740519 ,\n",
       "       40.99547214, 61.5382957 ])"
      ]
     },
     "execution_count": 11,
     "metadata": {},
     "output_type": "execute_result"
    }
   ],
   "source": [
    "x = np.random.uniform(2, 100, 1200)\n",
    "x\n",
    "# numpy.random.uniform used to generate 1200 random numbers between 2 and 100  \n",
    "# Lecture video on Distributions - https://web.microsoftstream.com/video/e6f57177-0a17-45a5-8ca8-0e3191e887f8"
   ]
  },
  {
   "cell_type": "code",
   "execution_count": 12,
   "metadata": {},
   "outputs": [
    {
     "data": {
      "text/plain": [
       "Text(0.5, 0, 'The distribution of the floats')"
      ]
     },
     "execution_count": 12,
     "metadata": {},
     "output_type": "execute_result"
    },
    {
     "data": {
      "image/png": "[encoded data removed]",
      "text/plain": [
       "<Figure size 648x288 with 1 Axes>"
      ]
     },
     "metadata": {
      "needs_background": "light"
     },
     "output_type": "display_data"
    }
   ],
   "source": [
    "plt.hist(x)\n",
    "# matplotlib.pyplot used to plot the 100 random numbers generated above in a histogram\n",
    "plt.title(\"1200 Randomly generated floats between 2 up to but not including 100\")\n",
    "plt.xlabel(\"The distribution of the floats\")"
   ]
  },
  {
   "cell_type": "markdown",
   "metadata": {},
   "source": [
    "**Section 3.2 - uniform([low, high, size])- References**\n",
    "* numpy.random.uniform documentation: https://docs.scipy.org/doc/numpy-1.16.0/reference/generated/numpy.random.uniform.html#numpy.random.uniform\n",
    "* Uniform distribution: https://www.investopedia.com/terms/u/uniform-distribution.asp\n",
    "* Image of uniform distribution: https://docs.scipy.org/doc/numpy-1.15.0/reference/generated/numpy.random.uniform.html\n",
    "* Uniform distribution: https://www.itl.nist.gov/div898/handbook/eda/section3/eda3662.htm\n",
    "* Uniform distribution mathes A level revision: https://revisionmaths.com/advanced-level-maths-revision/statistics/uniform-distribution\n",
    "* Generating uniform distribution: https://kite.com/python/examples/232/numpy-generate-an-array-of-random-%60float%60s-from-a-uniform-distribution-between--10-and-10"
   ]
  },
  {
   "cell_type": "markdown",
   "metadata": {},
   "source": [
    "### Section 3.3 - standard_normal([size])\n",
    "\n",
    "**numpy.random.standard_normal documentation: https://docs.scipy.org/doc/numpy-1.16.0/reference/generated/numpy.random.standard_normal.html#numpy.random.standard_normal**\n",
    "\n",
    "**Draw samples from a standard Normal distribution (mean=0, stdev=1).**\n",
    "\n",
    "The standard_normal distribution is similar to the normal distribution I looked at in section 3.1 of this jupyter notebook. The key difference is that the mean of the standard_normal distribution is 0 with a standard deviation of 1. This is set and cannot be changed, whereas in the normal distribution as we saw earlier the user can set the mean and standard deviation using arguments. \n",
    "\n",
    "The following definition of standard_normal distribution is given at: https://mathbitsnotebook.com/Algebra2/Statistics/STstandardNormalDistribution.html\n",
    "\n",
    "_\"A standard normal distribution is a special case of the normal distribution. It is a normal distribution with a mean of zero and a standard deviation equal to one. The total area under its density curve is equal to 1.\"_"
   ]
  },
  {
   "cell_type": "markdown",
   "metadata": {},
   "source": [
    "**Image of standard_normal distribution with mean zero**\n",
    "\n",
    "![normalstandard%20%281%29.jpg](https://mathbitsnotebook.com/Algebra2/Statistics/normalstandard.jpg)\n",
    "\n",
    "Image taken from: https://mathbitsnotebook.com/Algebra2/Statistics/STstandardNormalDistribution.html"
   ]
  },
  {
   "cell_type": "markdown",
   "metadata": {},
   "source": [
    "**The standard_normal distribution only has one argument:**\n",
    "* **size : int or tuple of ints, optional** - The size of the distribution. \n",
    "\n",
    "The mean is always 0 with standard deviation of 1. In contrast in the normal distribution, the mean and standard deviation can be set by the user."
   ]
  },
  {
   "cell_type": "markdown",
   "metadata": {},
   "source": [
    "**I will generate a standard_normal distribution to see if it has the properties described above:**"
   ]
  },
  {
   "cell_type": "code",
   "execution_count": 5,
   "metadata": {},
   "outputs": [
    {
     "data": {
      "text/plain": [
       "(array([  6.,  28.,  82., 169., 239., 260., 136.,  55.,  21.,   4.]),\n",
       " array([-3.08918152, -2.44636735, -1.80355318, -1.16073901, -0.51792484,\n",
       "         0.12488934,  0.76770351,  1.41051768,  2.05333185,  2.69614602,\n",
       "         3.33896019]),\n",
       " <a list of 10 Patch objects>)"
      ]
     },
     "execution_count": 5,
     "metadata": {},
     "output_type": "execute_result"
    },
    {
     "data": {
      "image/png": "[encoded data removed]",
      "text/plain": [
       "<Figure size 432x288 with 1 Axes>"
      ]
     },
     "metadata": {
      "needs_background": "light"
     },
     "output_type": "display_data"
    }
   ],
   "source": [
    "a = np.random.standard_normal(1000)\n",
    "# numpy.random.standard_normal generates a distribution of 1000 random numbers\n",
    "plt.hist(a)\n",
    "# pyplot used to plot the randonly generated numbers "
   ]
  },
  {
   "cell_type": "markdown",
   "metadata": {},
   "source": [
    "**I can only enter one argument in numpy.random.standard_normal which is size. I notice some similarities between the standard_normal and the normal distribution I looked at earlier including:**\n",
    "* The shape is similar\n",
    "* The data is centred around the mean\n",
    "* The majority of data is within 3 standard deviations of the mean \n",
    "* The Empirical rule seems to be true of the standard_normal distribution"
   ]
  },
  {
   "cell_type": "code",
   "execution_count": 11,
   "metadata": {},
   "outputs": [
    {
     "name": "stdout",
     "output_type": "stream",
     "text": [
      "The mean of the standard_normal distribution is:\n",
      "0.04243658636720068\n",
      "The standard deviation of the standard_normal distribution is:\n",
      "0.9877856106086369\n"
     ]
    }
   ],
   "source": [
    "print(\"The mean of the standard_normal distribution is:\")\n",
    "print(np.mean(a))\n",
    "print(\"The standard deviation of the standard_normal distribution is:\")\n",
    "print(np.std(a))"
   ]
  },
  {
   "cell_type": "markdown",
   "metadata": {},
   "source": [
    "The above statisitcs show the mean to be zero and the standard deviation to be 1 in this standard_normal distribution of numbers that I have generated."
   ]
  },
  {
   "cell_type": "markdown",
   "metadata": {},
   "source": [
    "**Section 3.3 - standard_normal([size]) - References**\n",
    "* numpy.random.standard_normal documentation: https://docs.scipy.org/doc/numpy-1.16.0/reference/generated/numpy.random.standard_normal.html#numpy.random.standard_normal\n",
    "* Image of standard_normal distribution:  https://mathbitsnotebook.com/Algebra2/Statistics/STstandardNormalDistribution.html\n",
    "* Definition of standard_normal distribution: https://mathbitsnotebook.com/Algebra2/Statistics/STstandardNormalDistribution.html\n",
    "* The standard normal distribution: http://sphweb.bumc.bu.edu/otlt/MPH-Modules/BS/BS704_Probability/BS704_Probability9.html"
   ]
  },
  {
   "cell_type": "markdown",
   "metadata": {},
   "source": [
    "### Section 3.4 - binomial(n, p, size=None)\n",
    "\n",
    "**The numpy.random.binomial documentation: https://docs.scipy.org/doc/numpy-1.16.0/reference/generated/numpy.random.binomial.html#numpy.random.binomial**\n",
    "\n",
    "_**\"Draw samples from a binomial distribution.\"**_\n",
    "\n",
    "_**\"Samples are drawn from a binomial distribution with specified parameters, n trials and p probability of success where n an integer >= 0 and p is in the interval [0,1]. (n may be input as a float, but it is truncated to an integer in use)\"**_\n",
    "\n",
    "A binomial distribution has 2 possible outcomes, for example a coin toss with the 2 possible outcomes being heads or tails. A binomial distribution in simple terms is the probability of success or failure in an experiment that is repeated several times.\n",
    "\n",
    "**Image of a binomial distribution:**\n",
    "\n",
    "![Binomial.png](http://www.malinc.se/math/iframeImages/s_binomial1.png)\n",
    "\n",
    "Image from: http://www.malinc.se/math/iframeImages/s_binomial1.png"
   ]
  },
  {
   "cell_type": "markdown",
   "metadata": {},
   "source": [
    "**numpy.random.binomial takes 3 arguments:**\n",
    "\n",
    "**n : int or array_like of ints\n",
    "Parameter of the distribution, >= 0. Floats are also accepted, but they will be truncated to integers.** - The first argument is the number of times the experiment will be run and is captured in the variable n. \n",
    "\n",
    "**p : float or array_like of floats\n",
    "Parameter of the distribution, >= 0 and <=1.** - The second argument p is the probability of a specific outcome occurring. For example in the coin toss the probability of heads is 1/2 and also tails has the same probabilty of 1/2. Taking another exmaple, rolling a dice with 6 possible outcomes, each outcome has 1/6 probability of occurring. \n",
    "\n",
    "**size : int or tuple of ints, optional\n",
    "Output shape. If the given shape is, e.g., (m, n, k), then m * n * k samples are drawn. If size is None (default), a single value is returned if n and p are both scalars. Otherwise, np.broadcast(n, p).size samples are drawn.** - The number of samples of the experiment to be run, where no argument is entered for size then a single value is returned by default.\n",
    "\n",
    "One example is if I decided to toss a coin 10 times to see the probability of outcome and I decided to repeat the experiment 100 times, the 3 arguments would be:\n",
    "* n - 10 (the number of times to roll the dice)\n",
    "* p - 0.5 (the probability of a heads being returned at each coin toss)\n",
    "* size - 100 (The amount of times I have decided to repeat the experiment)"
   ]
  },
  {
   "cell_type": "markdown",
   "metadata": {},
   "source": [
    "**A Binomial distribution must satisfy the following 4 criteria:**\n",
    "\n",
    "1. There must be a fixed number of trials\n",
    "2. There must be only 2 possible outcomes\n",
    "3. The outcomes must be independent of each other\n",
    "4. The probability of success must remain the same for each trial\n",
    "\n",
    "Further information on the youtube video \"How to tell if an experiment is binomial\" - https://www.youtube.com/watch?v=NhqkZuWwGrA"
   ]
  },
  {
   "cell_type": "markdown",
   "metadata": {},
   "source": [
    "_**\"What is a Binomial Distribution? Real Life Examples:\"**_\n",
    "\n",
    "_\"Many instances of binomial distributions can be found in real life. For example, if a new drug is introduced to cure a disease, it either cures the disease (it’s successful) or it doesn’t cure the disease (it’s a failure). If you purchase a lottery ticket, you’re either going to win money, or you aren’t. Basically, anything you can think of that can only be a success or a failure can be represented by a binomial distribution.\"_\n",
    "\n",
    "**Quote taken from: https://www.statisticshowto.datasciencecentral.com/probability-and-statistics/binomial-theorem/binomial-distribution-formula/**"
   ]
  },
  {
   "cell_type": "markdown",
   "metadata": {},
   "source": [
    "**The Binomial distribution formula:**\n",
    "\n",
    "b(x; n, P) = nCx * Px * (1 – P)n – x\n",
    "\n",
    "In the above example:\n",
    "* b = binomial probability\n",
    "* n = the numnber of trials to be run\n",
    "* p = probability of an outcome\n",
    "* x = the total number of successess (where the condition being tested is true)\n",
    "\n",
    "**Looking at a coin toss for example:**\n",
    "\n",
    "**I have taken the below example from: https://www.statisticshowto.datasciencecentral.com/probability-and-statistics/binomial-theorem/binomial-distribution-formula/**\n",
    "\n",
    "Q. A coin is tossed 10 times. What is the probability of getting exactly 6 heads?\n",
    "\n",
    "I’m going to use this formula: b(x; n, P) – nCx * Px * (1 – P)n – x\n",
    "\n",
    "The number of trials (n) is 10\n",
    "\n",
    "The odds of success (“tossing a heads”) is 0.5 (So 1-p = 0.5)\n",
    "\n",
    "x = 6\n",
    "\n",
    "P(x=6) = 10C6 * 0.5^6 * 0.5^4 = 210 * 0.015625 * 0.0625 = 0.205078125\n",
    "\n",
    "Further information on calculations using the Binomial distribution formula at this Youtube video - \"The Binomial Distribution Formula\": https://www.youtube.com/watch?v=BA0OI41VzBA\n"
   ]
  },
  {
   "cell_type": "markdown",
   "metadata": {},
   "source": [
    "**I recommend viewing the following video tutorial in order to gain a better understanding of the Binomial distribution and how it works: https://www.khanacademy.org/math/statistics-probability/random-variables-stats-library/binomial-random-variables/v/binomial-distribution**\n",
    "\n",
    "I will summarize the video below:\n",
    "\n",
    "In the video the tutor explains how to calculate the probability of outcomes from a heads or tails coin toss when the trial is run 5 times. When a coin is tossed there are 2 possible outcomes - heads or tails. When a coin is tossed 5 times then there are 32 possible outcomes over the 5 coin tosses. This is calculated by 2 to the power of 5 as there are 5 trials with 2 possible outcomes of each individual trial. The probability of the result of this trial being 5 heads from 5 coin tosses is calculated as being 1 in 32. This is explained in further detail in the video. "
   ]
  },
  {
   "cell_type": "markdown",
   "metadata": {},
   "source": [
    "**There is a good example of how the binomial distribution can be used to analyse call centre performance at this link: https://towardsdatascience.com/fun-with-the-binomial-distribution-96a5ecabf65b**"
   ]
  },
  {
   "cell_type": "markdown",
   "metadata": {},
   "source": [
    "**I will attempt to plot a binomial distribution of a sample of coin tosses below:**"
   ]
  },
  {
   "cell_type": "code",
   "execution_count": 5,
   "metadata": {},
   "outputs": [],
   "source": [
    "# I will show the binomial distribution of the probability of getting heads in a coin toss\n",
    "n = 10 \n",
    "# n is the number of times the coin is flipped\n",
    "p = 0.5\n",
    "# p = the probability of a heads result on each coin flip\n",
    "x = np.random.binomial(n, p, 1000)\n",
    "# I have asked for the results to be simulated for 1000 occurrences of the experiment "
   ]
  },
  {
   "cell_type": "code",
   "execution_count": 6,
   "metadata": {},
   "outputs": [
    {
     "data": {
      "text/plain": [
       "Text(0.5, 0, 'Number of heads returned over 10 coin flips')"
      ]
     },
     "execution_count": 6,
     "metadata": {},
     "output_type": "execute_result"
    },
    {
     "data": {
      "image/png": "[encoded data removed]",
      "text/plain": [
       "<Figure size 432x288 with 1 Axes>"
      ]
     },
     "metadata": {
      "needs_background": "light"
     },
     "output_type": "display_data"
    }
   ],
   "source": [
    "plt.hist(x)\n",
    "plt.title(\"Probablity of heads being returned in a coin flip\")\n",
    "plt.ylabel(\"Amount of times head returned out of 1000 trials\")\n",
    "plt.xlabel(\"Number of heads returned over 10 coin flips\")"
   ]
  },
  {
   "cell_type": "markdown",
   "metadata": {},
   "source": [
    "**In the above histogram I can see:**\n",
    "* Over 1000 occurrences of the trial 5 heads from 10 coin flips is the most likely outcome. \n",
    "* The outcomes with the highest probability are around the centre of the distribution.\n",
    "* From 1000 occurrences of this experiment, 4 heads from 10 coin flips, 5 heads from 10 coin flips and 6 heads from 10 coin flips account for approx two thirds of the outcomes.\n",
    "* The outcomes on the sides of the histogram such as 1 head from 10 coin flips or 9 heads from 10 coin flips occur much more infrequently."
   ]
  },
  {
   "cell_type": "markdown",
   "metadata": {},
   "source": [
    "**I will return some basic statistics based on the result of this sample of 1000 occurrences of 10 coin filps:**"
   ]
  },
  {
   "cell_type": "code",
   "execution_count": 13,
   "metadata": {},
   "outputs": [
    {
     "name": "stdout",
     "output_type": "stream",
     "text": [
      "The mean amount of heads returned from 10 coin flips in this sample was:\n",
      "4.999\n",
      "The standard deviation from the mean result is:\n",
      "1.615858595298487\n",
      "The lowest number of heads returned from 10 coin flips in this sample was:\n",
      "1\n",
      "The highest number of heads returned from 10 coin flips in this sample was:\n",
      "10\n"
     ]
    }
   ],
   "source": [
    "print(\"The mean amount of heads returned from 10 coin flips in this sample was:\") \n",
    "print(np.mean(x))\n",
    "print(\"The standard deviation from the mean result is:\")\n",
    "print(np.std(x))\n",
    "print(\"The lowest number of heads returned from 10 coin flips in this sample was:\")\n",
    "print(np.min(x))\n",
    "print(\"The highest number of heads returned from 10 coin flips in this sample was:\")\n",
    "print(np.max(x))"
   ]
  },
  {
   "cell_type": "markdown",
   "metadata": {},
   "source": [
    "**Section 3.4 - binomial(n, p, size=None) - References**\n",
    "* The numpy.random.binomial documemtation: https://docs.scipy.org/doc/numpy-1.16.0/reference/generated/numpy.random.binomial.html#numpy.random.binomial\n",
    "* Binomial distribution: https://www.britannica.com/science/binomial-distribution\n",
    "* Binomial distribution: https://www.statisticshowto.datasciencecentral.com/probability-and-statistics/binomial-theorem/binomial-distribution-formula/\n",
    "* Video on Binomial distribution: https://www.khanacademy.org/math/statistics-probability/random-variables-stats-library/binomial-random-variables/v/binomial-distribution\n",
    "* How to tell if an experiment is binomial: https://www.youtube.com/watch?v=NhqkZuWwGrA\n",
    "* Image of Binomial distribution: Image from: http://www.malinc.se/math/iframeImages/s_binomial1.png\n",
    "* The Binomial Distribution Formula: https://www.youtube.com/watch?v=BA0OI41VzBA\n",
    "* Example of binomial distribution in call center analyses: https://towardsdatascience.com/fun-with-the-binomial-distribution-96a5ecabf65b\n",
    "* How to graph the binomial distribution: https://www.dummies.com/education/math/business-statistics/how-to-graph-the-binomial-distribution/"
   ]
  },
  {
   "cell_type": "code",
   "execution_count": null,
   "metadata": {},
   "outputs": [],
   "source": []
  },
  {
   "cell_type": "code",
   "execution_count": null,
   "metadata": {},
   "outputs": [],
   "source": []
  }
 ],
 "metadata": {
  "kernelspec": {
   "display_name": "Python 3",
   "language": "python",
   "name": "python3"
  },
  "language_info": {
   "codemirror_mode": {
    "name": "ipython",
    "version": 3
   },
   "file_extension": ".py",
   "mimetype": "text/x-python",
   "name": "python",
   "nbconvert_exporter": "python",
   "pygments_lexer": "ipython3",
   "version": "3.7.1"
  }
 },
 "nbformat": 4,
 "nbformat_minor": 2
}
